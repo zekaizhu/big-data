{
 "cells": [
  {
   "cell_type": "code",
   "execution_count": 1,
   "metadata": {},
   "outputs": [],
   "source": [
    "import pandas as pd\n",
    "import copy "
   ]
  },
  {
   "cell_type": "code",
   "execution_count": null,
   "metadata": {},
   "outputs": [],
   "source": []
  },
  {
   "cell_type": "code",
   "execution_count": 5,
   "metadata": {},
   "outputs": [
    {
     "data": {
      "text/plain": [
       "Timestamp('2020-05-18 22:23:34')"
      ]
     },
     "execution_count": 5,
     "metadata": {},
     "output_type": "execute_result"
    }
   ],
   "source": [
    "d='10:23:34 PM'\n",
    "pd.to_datetime(d).strftime('%H')"
   ]
  },
  {
   "cell_type": "code",
   "execution_count": 15,
   "metadata": {},
   "outputs": [
    {
     "data": {
      "text/plain": [
       "'23'"
      ]
     },
     "execution_count": 15,
     "metadata": {},
     "output_type": "execute_result"
    }
   ],
   "source": [
    "from datetime import datetime\n",
    "d='01/01/2001 11:00:00 PM'\n",
    "datetime.strptime(d, '%m/%d/%Y %I:%M:%S %p').strftime('%H')"
   ]
  },
  {
   "cell_type": "code",
   "execution_count": 20,
   "metadata": {},
   "outputs": [],
   "source": [
    "L = ['ID', 'Case Number', 'Date', 'Block', 'IUCR', 'Primary Type', 'Description', \n",
    "         'Location Description', 'Arrest', 'Domestic', 'Beat', 'District', 'Ward', 'Community Area', \n",
    "         'FBI Code', 'X Coordinate', 'Y Coordinate', 'Year', 'Updated On', 'Latitude', 'Longitude', 'Location']"
   ]
  },
  {
   "cell_type": "code",
   "execution_count": 31,
   "metadata": {},
   "outputs": [
    {
     "data": {
      "text/plain": [
       "'Location'"
      ]
     },
     "execution_count": 31,
     "metadata": {},
     "output_type": "execute_result"
    }
   ],
   "source": [
    "L[21]"
   ]
  },
  {
   "cell_type": "code",
   "execution_count": null,
   "metadata": {},
   "outputs": [],
   "source": []
  },
  {
   "cell_type": "code",
   "execution_count": null,
   "metadata": {},
   "outputs": [],
   "source": []
  },
  {
   "cell_type": "code",
   "execution_count": 2,
   "metadata": {},
   "outputs": [
    {
     "name": "stderr",
     "output_type": "stream",
     "text": [
      "/opt/anaconda3/lib/python3.7/site-packages/IPython/core/interactiveshell.py:3063: DtypeWarning: Columns (21) have mixed types.Specify dtype option on import or set low_memory=False.\n",
      "  interactivity=interactivity, compiler=compiler, result=result)\n"
     ]
    }
   ],
   "source": [
    "df = pd.read_csv(\"Crimes_-_2001_to_present.csv\")"
   ]
  },
  {
   "cell_type": "code",
   "execution_count": 15,
   "metadata": {},
   "outputs": [],
   "source": [
    "yr=[\"2015\",\"2016\",\"2017\",\"2018\",\"2019\"]\n",
    "df_beat=df[df.Year.isin(yr)]"
   ]
  },
  {
   "cell_type": "code",
   "execution_count": 16,
   "metadata": {},
   "outputs": [
    {
     "data": {
      "text/html": [
       "<div>\n",
       "<style scoped>\n",
       "    .dataframe tbody tr th:only-of-type {\n",
       "        vertical-align: middle;\n",
       "    }\n",
       "\n",
       "    .dataframe tbody tr th {\n",
       "        vertical-align: top;\n",
       "    }\n",
       "\n",
       "    .dataframe thead th {\n",
       "        text-align: right;\n",
       "    }\n",
       "</style>\n",
       "<table border=\"1\" class=\"dataframe\">\n",
       "  <thead>\n",
       "    <tr style=\"text-align: right;\">\n",
       "      <th></th>\n",
       "      <th>ID</th>\n",
       "      <th>Case Number</th>\n",
       "      <th>Date</th>\n",
       "      <th>Block</th>\n",
       "      <th>IUCR</th>\n",
       "      <th>Primary Type</th>\n",
       "      <th>Description</th>\n",
       "      <th>Location Description</th>\n",
       "      <th>Arrest</th>\n",
       "      <th>Domestic</th>\n",
       "      <th>...</th>\n",
       "      <th>Ward</th>\n",
       "      <th>Community Area</th>\n",
       "      <th>FBI Code</th>\n",
       "      <th>X Coordinate</th>\n",
       "      <th>Y Coordinate</th>\n",
       "      <th>Year</th>\n",
       "      <th>Updated On</th>\n",
       "      <th>Latitude</th>\n",
       "      <th>Longitude</th>\n",
       "      <th>Location</th>\n",
       "    </tr>\n",
       "  </thead>\n",
       "  <tbody>\n",
       "    <tr>\n",
       "      <th>1</th>\n",
       "      <td>11227287</td>\n",
       "      <td>JB147188</td>\n",
       "      <td>10/08/2017 03:00:00 AM</td>\n",
       "      <td>092XX S RACINE AVE</td>\n",
       "      <td>0281</td>\n",
       "      <td>CRIM SEXUAL ASSAULT</td>\n",
       "      <td>NON-AGGRAVATED</td>\n",
       "      <td>RESIDENCE</td>\n",
       "      <td>False</td>\n",
       "      <td>False</td>\n",
       "      <td>...</td>\n",
       "      <td>21.0</td>\n",
       "      <td>73.0</td>\n",
       "      <td>02</td>\n",
       "      <td>NaN</td>\n",
       "      <td>NaN</td>\n",
       "      <td>2017</td>\n",
       "      <td>02/11/2018 03:57:41 PM</td>\n",
       "      <td>NaN</td>\n",
       "      <td>NaN</td>\n",
       "      <td>NaN</td>\n",
       "    </tr>\n",
       "    <tr>\n",
       "      <th>2</th>\n",
       "      <td>11227583</td>\n",
       "      <td>JB147595</td>\n",
       "      <td>03/28/2017 02:00:00 PM</td>\n",
       "      <td>026XX W 79TH ST</td>\n",
       "      <td>0620</td>\n",
       "      <td>BURGLARY</td>\n",
       "      <td>UNLAWFUL ENTRY</td>\n",
       "      <td>OTHER</td>\n",
       "      <td>False</td>\n",
       "      <td>False</td>\n",
       "      <td>...</td>\n",
       "      <td>18.0</td>\n",
       "      <td>70.0</td>\n",
       "      <td>05</td>\n",
       "      <td>NaN</td>\n",
       "      <td>NaN</td>\n",
       "      <td>2017</td>\n",
       "      <td>02/11/2018 03:57:41 PM</td>\n",
       "      <td>NaN</td>\n",
       "      <td>NaN</td>\n",
       "      <td>NaN</td>\n",
       "    </tr>\n",
       "    <tr>\n",
       "      <th>3</th>\n",
       "      <td>11227293</td>\n",
       "      <td>JB147230</td>\n",
       "      <td>09/09/2017 08:17:00 PM</td>\n",
       "      <td>060XX S EBERHART AVE</td>\n",
       "      <td>0810</td>\n",
       "      <td>THEFT</td>\n",
       "      <td>OVER $500</td>\n",
       "      <td>RESIDENCE</td>\n",
       "      <td>False</td>\n",
       "      <td>False</td>\n",
       "      <td>...</td>\n",
       "      <td>20.0</td>\n",
       "      <td>42.0</td>\n",
       "      <td>06</td>\n",
       "      <td>NaN</td>\n",
       "      <td>NaN</td>\n",
       "      <td>2017</td>\n",
       "      <td>02/11/2018 03:57:41 PM</td>\n",
       "      <td>NaN</td>\n",
       "      <td>NaN</td>\n",
       "      <td>NaN</td>\n",
       "    </tr>\n",
       "    <tr>\n",
       "      <th>4</th>\n",
       "      <td>11227634</td>\n",
       "      <td>JB147599</td>\n",
       "      <td>08/26/2017 10:00:00 AM</td>\n",
       "      <td>001XX W RANDOLPH ST</td>\n",
       "      <td>0281</td>\n",
       "      <td>CRIM SEXUAL ASSAULT</td>\n",
       "      <td>NON-AGGRAVATED</td>\n",
       "      <td>HOTEL/MOTEL</td>\n",
       "      <td>False</td>\n",
       "      <td>False</td>\n",
       "      <td>...</td>\n",
       "      <td>42.0</td>\n",
       "      <td>32.0</td>\n",
       "      <td>02</td>\n",
       "      <td>NaN</td>\n",
       "      <td>NaN</td>\n",
       "      <td>2017</td>\n",
       "      <td>02/11/2018 03:57:41 PM</td>\n",
       "      <td>NaN</td>\n",
       "      <td>NaN</td>\n",
       "      <td>NaN</td>\n",
       "    </tr>\n",
       "    <tr>\n",
       "      <th>6</th>\n",
       "      <td>11227503</td>\n",
       "      <td>JB146383</td>\n",
       "      <td>01/01/2015 12:01:00 AM</td>\n",
       "      <td>061XX S KILBOURN AVE</td>\n",
       "      <td>1751</td>\n",
       "      <td>OFFENSE INVOLVING CHILDREN</td>\n",
       "      <td>CRIM SEX ABUSE BY FAM MEMBER</td>\n",
       "      <td>RESIDENCE</td>\n",
       "      <td>False</td>\n",
       "      <td>True</td>\n",
       "      <td>...</td>\n",
       "      <td>13.0</td>\n",
       "      <td>65.0</td>\n",
       "      <td>17</td>\n",
       "      <td>NaN</td>\n",
       "      <td>NaN</td>\n",
       "      <td>2015</td>\n",
       "      <td>04/12/2019 04:00:15 PM</td>\n",
       "      <td>NaN</td>\n",
       "      <td>NaN</td>\n",
       "      <td>NaN</td>\n",
       "    </tr>\n",
       "    <tr>\n",
       "      <th>...</th>\n",
       "      <td>...</td>\n",
       "      <td>...</td>\n",
       "      <td>...</td>\n",
       "      <td>...</td>\n",
       "      <td>...</td>\n",
       "      <td>...</td>\n",
       "      <td>...</td>\n",
       "      <td>...</td>\n",
       "      <td>...</td>\n",
       "      <td>...</td>\n",
       "      <td>...</td>\n",
       "      <td>...</td>\n",
       "      <td>...</td>\n",
       "      <td>...</td>\n",
       "      <td>...</td>\n",
       "      <td>...</td>\n",
       "      <td>...</td>\n",
       "      <td>...</td>\n",
       "      <td>...</td>\n",
       "      <td>...</td>\n",
       "      <td>...</td>\n",
       "    </tr>\n",
       "    <tr>\n",
       "      <th>7110995</th>\n",
       "      <td>11703089</td>\n",
       "      <td>JC282400</td>\n",
       "      <td>05/26/2019 11:29:00 AM</td>\n",
       "      <td>021XX W GRACE ST</td>\n",
       "      <td>1130</td>\n",
       "      <td>DECEPTIVE PRACTICE</td>\n",
       "      <td>FRAUD OR CONFIDENCE GAME</td>\n",
       "      <td>OTHER</td>\n",
       "      <td>False</td>\n",
       "      <td>False</td>\n",
       "      <td>...</td>\n",
       "      <td>47.0</td>\n",
       "      <td>5.0</td>\n",
       "      <td>11</td>\n",
       "      <td>NaN</td>\n",
       "      <td>NaN</td>\n",
       "      <td>2019</td>\n",
       "      <td>06/02/2019 04:09:42 PM</td>\n",
       "      <td>NaN</td>\n",
       "      <td>NaN</td>\n",
       "      <td>NaN</td>\n",
       "    </tr>\n",
       "    <tr>\n",
       "      <th>7110996</th>\n",
       "      <td>11700926</td>\n",
       "      <td>JC279725</td>\n",
       "      <td>05/26/2019 05:13:00 PM</td>\n",
       "      <td>036XX W DOUGLAS BLVD</td>\n",
       "      <td>2825</td>\n",
       "      <td>OTHER OFFENSE</td>\n",
       "      <td>HARASSMENT BY TELEPHONE</td>\n",
       "      <td>APARTMENT</td>\n",
       "      <td>False</td>\n",
       "      <td>True</td>\n",
       "      <td>...</td>\n",
       "      <td>24.0</td>\n",
       "      <td>29.0</td>\n",
       "      <td>26</td>\n",
       "      <td>1152126.0</td>\n",
       "      <td>1893208.0</td>\n",
       "      <td>2019</td>\n",
       "      <td>06/30/2019 03:56:27 PM</td>\n",
       "      <td>41.862830</td>\n",
       "      <td>-87.717040</td>\n",
       "      <td>(41.862830429, -87.717040084)</td>\n",
       "    </tr>\n",
       "    <tr>\n",
       "      <th>7110997</th>\n",
       "      <td>24560</td>\n",
       "      <td>JC279072</td>\n",
       "      <td>05/26/2019 06:48:00 AM</td>\n",
       "      <td>013XX W HASTINGS ST</td>\n",
       "      <td>0110</td>\n",
       "      <td>HOMICIDE</td>\n",
       "      <td>FIRST DEGREE MURDER</td>\n",
       "      <td>CHA PARKING LOT</td>\n",
       "      <td>True</td>\n",
       "      <td>False</td>\n",
       "      <td>...</td>\n",
       "      <td>25.0</td>\n",
       "      <td>28.0</td>\n",
       "      <td>01A</td>\n",
       "      <td>1167752.0</td>\n",
       "      <td>1893853.0</td>\n",
       "      <td>2019</td>\n",
       "      <td>07/16/2019 04:17:29 PM</td>\n",
       "      <td>41.864278</td>\n",
       "      <td>-87.659660</td>\n",
       "      <td>(41.864278228, -87.659660218)</td>\n",
       "    </tr>\n",
       "    <tr>\n",
       "      <th>7110998</th>\n",
       "      <td>24559</td>\n",
       "      <td>JC278908</td>\n",
       "      <td>05/26/2019 02:11:00 AM</td>\n",
       "      <td>013XX W HASTINGS ST</td>\n",
       "      <td>0110</td>\n",
       "      <td>HOMICIDE</td>\n",
       "      <td>FIRST DEGREE MURDER</td>\n",
       "      <td>STREET</td>\n",
       "      <td>False</td>\n",
       "      <td>False</td>\n",
       "      <td>...</td>\n",
       "      <td>25.0</td>\n",
       "      <td>28.0</td>\n",
       "      <td>01A</td>\n",
       "      <td>1167746.0</td>\n",
       "      <td>1893853.0</td>\n",
       "      <td>2019</td>\n",
       "      <td>06/02/2019 04:09:42 PM</td>\n",
       "      <td>41.864278</td>\n",
       "      <td>-87.659682</td>\n",
       "      <td>(41.864278357, -87.659682244)</td>\n",
       "    </tr>\n",
       "    <tr>\n",
       "      <th>7111000</th>\n",
       "      <td>11707239</td>\n",
       "      <td>JC287563</td>\n",
       "      <td>11/30/2017 09:00:00 AM</td>\n",
       "      <td>022XX S KOSTNER AVE</td>\n",
       "      <td>1153</td>\n",
       "      <td>DECEPTIVE PRACTICE</td>\n",
       "      <td>FINANCIAL IDENTITY THEFT OVER $ 300</td>\n",
       "      <td>RESIDENCE</td>\n",
       "      <td>False</td>\n",
       "      <td>False</td>\n",
       "      <td>...</td>\n",
       "      <td>22.0</td>\n",
       "      <td>29.0</td>\n",
       "      <td>11</td>\n",
       "      <td>NaN</td>\n",
       "      <td>NaN</td>\n",
       "      <td>2017</td>\n",
       "      <td>06/02/2019 04:09:42 PM</td>\n",
       "      <td>NaN</td>\n",
       "      <td>NaN</td>\n",
       "      <td>NaN</td>\n",
       "    </tr>\n",
       "  </tbody>\n",
       "</table>\n",
       "<p>1329294 rows × 22 columns</p>\n",
       "</div>"
      ],
      "text/plain": [
       "               ID Case Number                    Date                 Block  \\\n",
       "1        11227287    JB147188  10/08/2017 03:00:00 AM    092XX S RACINE AVE   \n",
       "2        11227583    JB147595  03/28/2017 02:00:00 PM       026XX W 79TH ST   \n",
       "3        11227293    JB147230  09/09/2017 08:17:00 PM  060XX S EBERHART AVE   \n",
       "4        11227634    JB147599  08/26/2017 10:00:00 AM   001XX W RANDOLPH ST   \n",
       "6        11227503    JB146383  01/01/2015 12:01:00 AM  061XX S KILBOURN AVE   \n",
       "...           ...         ...                     ...                   ...   \n",
       "7110995  11703089    JC282400  05/26/2019 11:29:00 AM      021XX W GRACE ST   \n",
       "7110996  11700926    JC279725  05/26/2019 05:13:00 PM  036XX W DOUGLAS BLVD   \n",
       "7110997     24560    JC279072  05/26/2019 06:48:00 AM   013XX W HASTINGS ST   \n",
       "7110998     24559    JC278908  05/26/2019 02:11:00 AM   013XX W HASTINGS ST   \n",
       "7111000  11707239    JC287563  11/30/2017 09:00:00 AM   022XX S KOSTNER AVE   \n",
       "\n",
       "         IUCR                Primary Type  \\\n",
       "1        0281         CRIM SEXUAL ASSAULT   \n",
       "2        0620                    BURGLARY   \n",
       "3        0810                       THEFT   \n",
       "4        0281         CRIM SEXUAL ASSAULT   \n",
       "6        1751  OFFENSE INVOLVING CHILDREN   \n",
       "...       ...                         ...   \n",
       "7110995  1130          DECEPTIVE PRACTICE   \n",
       "7110996  2825               OTHER OFFENSE   \n",
       "7110997  0110                    HOMICIDE   \n",
       "7110998  0110                    HOMICIDE   \n",
       "7111000  1153          DECEPTIVE PRACTICE   \n",
       "\n",
       "                                 Description Location Description  Arrest  \\\n",
       "1                             NON-AGGRAVATED            RESIDENCE   False   \n",
       "2                             UNLAWFUL ENTRY                OTHER   False   \n",
       "3                                  OVER $500            RESIDENCE   False   \n",
       "4                             NON-AGGRAVATED          HOTEL/MOTEL   False   \n",
       "6               CRIM SEX ABUSE BY FAM MEMBER            RESIDENCE   False   \n",
       "...                                      ...                  ...     ...   \n",
       "7110995             FRAUD OR CONFIDENCE GAME                OTHER   False   \n",
       "7110996              HARASSMENT BY TELEPHONE            APARTMENT   False   \n",
       "7110997                  FIRST DEGREE MURDER      CHA PARKING LOT    True   \n",
       "7110998                  FIRST DEGREE MURDER               STREET   False   \n",
       "7111000  FINANCIAL IDENTITY THEFT OVER $ 300            RESIDENCE   False   \n",
       "\n",
       "         Domestic  ...  Ward  Community Area  FBI Code  X Coordinate  \\\n",
       "1           False  ...  21.0            73.0        02           NaN   \n",
       "2           False  ...  18.0            70.0        05           NaN   \n",
       "3           False  ...  20.0            42.0        06           NaN   \n",
       "4           False  ...  42.0            32.0        02           NaN   \n",
       "6            True  ...  13.0            65.0        17           NaN   \n",
       "...           ...  ...   ...             ...       ...           ...   \n",
       "7110995     False  ...  47.0             5.0        11           NaN   \n",
       "7110996      True  ...  24.0            29.0        26     1152126.0   \n",
       "7110997     False  ...  25.0            28.0       01A     1167752.0   \n",
       "7110998     False  ...  25.0            28.0       01A     1167746.0   \n",
       "7111000     False  ...  22.0            29.0        11           NaN   \n",
       "\n",
       "        Y Coordinate  Year              Updated On   Latitude  Longitude  \\\n",
       "1                NaN  2017  02/11/2018 03:57:41 PM        NaN        NaN   \n",
       "2                NaN  2017  02/11/2018 03:57:41 PM        NaN        NaN   \n",
       "3                NaN  2017  02/11/2018 03:57:41 PM        NaN        NaN   \n",
       "4                NaN  2017  02/11/2018 03:57:41 PM        NaN        NaN   \n",
       "6                NaN  2015  04/12/2019 04:00:15 PM        NaN        NaN   \n",
       "...              ...   ...                     ...        ...        ...   \n",
       "7110995          NaN  2019  06/02/2019 04:09:42 PM        NaN        NaN   \n",
       "7110996    1893208.0  2019  06/30/2019 03:56:27 PM  41.862830 -87.717040   \n",
       "7110997    1893853.0  2019  07/16/2019 04:17:29 PM  41.864278 -87.659660   \n",
       "7110998    1893853.0  2019  06/02/2019 04:09:42 PM  41.864278 -87.659682   \n",
       "7111000          NaN  2017  06/02/2019 04:09:42 PM        NaN        NaN   \n",
       "\n",
       "                              Location  \n",
       "1                                  NaN  \n",
       "2                                  NaN  \n",
       "3                                  NaN  \n",
       "4                                  NaN  \n",
       "6                                  NaN  \n",
       "...                                ...  \n",
       "7110995                            NaN  \n",
       "7110996  (41.862830429, -87.717040084)  \n",
       "7110997  (41.864278228, -87.659660218)  \n",
       "7110998  (41.864278357, -87.659682244)  \n",
       "7111000                            NaN  \n",
       "\n",
       "[1329294 rows x 22 columns]"
      ]
     },
     "execution_count": 16,
     "metadata": {},
     "output_type": "execute_result"
    }
   ],
   "source": [
    "df_beat"
   ]
  },
  {
   "cell_type": "code",
   "execution_count": 17,
   "metadata": {},
   "outputs": [
    {
     "data": {
      "text/plain": [
       "274"
      ]
     },
     "execution_count": 17,
     "metadata": {},
     "output_type": "execute_result"
    }
   ],
   "source": [
    "len(df_beat.Beat.unique())"
   ]
  },
  {
   "cell_type": "code",
   "execution_count": 49,
   "metadata": {},
   "outputs": [
    {
     "data": {
      "text/plain": [
       "ID                            0\n",
       "Case Number                   4\n",
       "Date                          0\n",
       "Block                         0\n",
       "IUCR                          0\n",
       "Primary Type                  0\n",
       "Description                   0\n",
       "Location Description       6584\n",
       "Arrest                  5162539\n",
       "Domestic                6164414\n",
       "Beat                          0\n",
       "District                     47\n",
       "Ward                     614827\n",
       "Community Area           613586\n",
       "FBI Code                      0\n",
       "X Coordinate              68494\n",
       "Y Coordinate              68494\n",
       "Year                          0\n",
       "Updated On                    0\n",
       "Latitude                  68331\n",
       "Longitude                 68331\n",
       "Location                  68331\n",
       "dtype: int64"
      ]
     },
     "execution_count": 49,
     "metadata": {},
     "output_type": "execute_result"
    }
   ],
   "source": [
    "df.applymap(lambda x: not x or pd.isnull(x)).sum()"
   ]
  },
  {
   "cell_type": "code",
   "execution_count": 54,
   "metadata": {},
   "outputs": [],
   "source": [
    "df1 = copy.copy(df)"
   ]
  },
  {
   "cell_type": "code",
   "execution_count": 79,
   "metadata": {},
   "outputs": [],
   "source": [
    "df1.iloc[:,3] = df.iloc[:,3].apply(lambda x: x.split(\" \")[0])"
   ]
  },
  {
   "cell_type": "code",
   "execution_count": 80,
   "metadata": {},
   "outputs": [],
   "source": [
    "years = ['2017','2018','2019']\n",
    "df1 = df1[df1['Year'].isin(years)]"
   ]
  },
  {
   "cell_type": "code",
   "execution_count": 57,
   "metadata": {},
   "outputs": [],
   "source": [
    "df2 = pd.DataFrame(df1.groupby(\"Block\")[\"ID\"].count()).sort_values(by=\"ID\",ascending=False)"
   ]
  },
  {
   "cell_type": "code",
   "execution_count": 58,
   "metadata": {},
   "outputs": [
    {
     "data": {
      "text/plain": [
       "795581"
      ]
     },
     "execution_count": 58,
     "metadata": {},
     "output_type": "execute_result"
    }
   ],
   "source": [
    "df2.ID.sum()"
   ]
  },
  {
   "cell_type": "code",
   "execution_count": 59,
   "metadata": {
    "scrolled": false
   },
   "outputs": [
    {
     "data": {
      "text/html": [
       "<div>\n",
       "<style scoped>\n",
       "    .dataframe tbody tr th:only-of-type {\n",
       "        vertical-align: middle;\n",
       "    }\n",
       "\n",
       "    .dataframe tbody tr th {\n",
       "        vertical-align: top;\n",
       "    }\n",
       "\n",
       "    .dataframe thead th {\n",
       "        text-align: right;\n",
       "    }\n",
       "</style>\n",
       "<table border=\"1\" class=\"dataframe\">\n",
       "  <thead>\n",
       "    <tr style=\"text-align: right;\">\n",
       "      <th></th>\n",
       "      <th>ID</th>\n",
       "    </tr>\n",
       "    <tr>\n",
       "      <th>Block</th>\n",
       "      <th></th>\n",
       "    </tr>\n",
       "  </thead>\n",
       "  <tbody>\n",
       "    <tr>\n",
       "      <th>0000X</th>\n",
       "      <td>30095</td>\n",
       "    </tr>\n",
       "    <tr>\n",
       "      <th>001XX</th>\n",
       "      <td>21758</td>\n",
       "    </tr>\n",
       "    <tr>\n",
       "      <th>002XX</th>\n",
       "      <td>17449</td>\n",
       "    </tr>\n",
       "    <tr>\n",
       "      <th>003XX</th>\n",
       "      <td>15428</td>\n",
       "    </tr>\n",
       "    <tr>\n",
       "      <th>008XX</th>\n",
       "      <td>14743</td>\n",
       "    </tr>\n",
       "    <tr>\n",
       "      <th>015XX</th>\n",
       "      <td>14328</td>\n",
       "    </tr>\n",
       "    <tr>\n",
       "      <th>014XX</th>\n",
       "      <td>13640</td>\n",
       "    </tr>\n",
       "    <tr>\n",
       "      <th>006XX</th>\n",
       "      <td>13589</td>\n",
       "    </tr>\n",
       "    <tr>\n",
       "      <th>007XX</th>\n",
       "      <td>13487</td>\n",
       "    </tr>\n",
       "    <tr>\n",
       "      <th>011XX</th>\n",
       "      <td>13450</td>\n",
       "    </tr>\n",
       "  </tbody>\n",
       "</table>\n",
       "</div>"
      ],
      "text/plain": [
       "          ID\n",
       "Block       \n",
       "0000X  30095\n",
       "001XX  21758\n",
       "002XX  17449\n",
       "003XX  15428\n",
       "008XX  14743\n",
       "015XX  14328\n",
       "014XX  13640\n",
       "006XX  13589\n",
       "007XX  13487\n",
       "011XX  13450"
      ]
     },
     "execution_count": 59,
     "metadata": {},
     "output_type": "execute_result"
    }
   ],
   "source": [
    "df2.head(10)"
   ]
  },
  {
   "cell_type": "code",
   "execution_count": null,
   "metadata": {},
   "outputs": [],
   "source": []
  },
  {
   "cell_type": "code",
   "execution_count": 75,
   "metadata": {},
   "outputs": [],
   "source": [
    "df2 = pd.read_csv(\"CommAreas.csv\")"
   ]
  },
  {
   "cell_type": "code",
   "execution_count": 76,
   "metadata": {},
   "outputs": [],
   "source": [
    "df3 = pd.read_csv(\"IUCR.csv\")"
   ]
  },
  {
   "cell_type": "code",
   "execution_count": 77,
   "metadata": {},
   "outputs": [],
   "source": [
    "df4 = pd.read_csv(\"WARDS_2015.csv\")"
   ]
  },
  {
   "cell_type": "code",
   "execution_count": 78,
   "metadata": {},
   "outputs": [
    {
     "data": {
      "text/html": [
       "<div>\n",
       "<style scoped>\n",
       "    .dataframe tbody tr th:only-of-type {\n",
       "        vertical-align: middle;\n",
       "    }\n",
       "\n",
       "    .dataframe tbody tr th {\n",
       "        vertical-align: top;\n",
       "    }\n",
       "\n",
       "    .dataframe thead th {\n",
       "        text-align: right;\n",
       "    }\n",
       "</style>\n",
       "<table border=\"1\" class=\"dataframe\">\n",
       "  <thead>\n",
       "    <tr style=\"text-align: right;\">\n",
       "      <th></th>\n",
       "      <th>ID</th>\n",
       "      <th>Case Number</th>\n",
       "      <th>Date</th>\n",
       "      <th>Block</th>\n",
       "      <th>IUCR</th>\n",
       "      <th>Primary Type</th>\n",
       "      <th>Description</th>\n",
       "      <th>Location Description</th>\n",
       "      <th>Arrest</th>\n",
       "      <th>Domestic</th>\n",
       "      <th>...</th>\n",
       "      <th>Ward</th>\n",
       "      <th>Community Area</th>\n",
       "      <th>FBI Code</th>\n",
       "      <th>X Coordinate</th>\n",
       "      <th>Y Coordinate</th>\n",
       "      <th>Year</th>\n",
       "      <th>Updated On</th>\n",
       "      <th>Latitude</th>\n",
       "      <th>Longitude</th>\n",
       "      <th>Location</th>\n",
       "    </tr>\n",
       "  </thead>\n",
       "  <tbody>\n",
       "    <tr>\n",
       "      <th>0</th>\n",
       "      <td>11034701</td>\n",
       "      <td>JA366925</td>\n",
       "      <td>01/01/2001 11:00:00 AM</td>\n",
       "      <td>016XX E 86TH PL</td>\n",
       "      <td>1153</td>\n",
       "      <td>DECEPTIVE PRACTICE</td>\n",
       "      <td>FINANCIAL IDENTITY THEFT OVER $ 300</td>\n",
       "      <td>RESIDENCE</td>\n",
       "      <td>False</td>\n",
       "      <td>False</td>\n",
       "      <td>...</td>\n",
       "      <td>8.0</td>\n",
       "      <td>45.0</td>\n",
       "      <td>11</td>\n",
       "      <td>NaN</td>\n",
       "      <td>NaN</td>\n",
       "      <td>2001</td>\n",
       "      <td>08/05/2017 03:50:08 PM</td>\n",
       "      <td>NaN</td>\n",
       "      <td>NaN</td>\n",
       "      <td>NaN</td>\n",
       "    </tr>\n",
       "    <tr>\n",
       "      <th>1</th>\n",
       "      <td>11227287</td>\n",
       "      <td>JB147188</td>\n",
       "      <td>10/08/2017 03:00:00 AM</td>\n",
       "      <td>092XX S RACINE AVE</td>\n",
       "      <td>0281</td>\n",
       "      <td>CRIM SEXUAL ASSAULT</td>\n",
       "      <td>NON-AGGRAVATED</td>\n",
       "      <td>RESIDENCE</td>\n",
       "      <td>False</td>\n",
       "      <td>False</td>\n",
       "      <td>...</td>\n",
       "      <td>21.0</td>\n",
       "      <td>73.0</td>\n",
       "      <td>02</td>\n",
       "      <td>NaN</td>\n",
       "      <td>NaN</td>\n",
       "      <td>2017</td>\n",
       "      <td>02/11/2018 03:57:41 PM</td>\n",
       "      <td>NaN</td>\n",
       "      <td>NaN</td>\n",
       "      <td>NaN</td>\n",
       "    </tr>\n",
       "    <tr>\n",
       "      <th>2</th>\n",
       "      <td>11227583</td>\n",
       "      <td>JB147595</td>\n",
       "      <td>03/28/2017 02:00:00 PM</td>\n",
       "      <td>026XX W 79TH ST</td>\n",
       "      <td>0620</td>\n",
       "      <td>BURGLARY</td>\n",
       "      <td>UNLAWFUL ENTRY</td>\n",
       "      <td>OTHER</td>\n",
       "      <td>False</td>\n",
       "      <td>False</td>\n",
       "      <td>...</td>\n",
       "      <td>18.0</td>\n",
       "      <td>70.0</td>\n",
       "      <td>05</td>\n",
       "      <td>NaN</td>\n",
       "      <td>NaN</td>\n",
       "      <td>2017</td>\n",
       "      <td>02/11/2018 03:57:41 PM</td>\n",
       "      <td>NaN</td>\n",
       "      <td>NaN</td>\n",
       "      <td>NaN</td>\n",
       "    </tr>\n",
       "    <tr>\n",
       "      <th>3</th>\n",
       "      <td>11227293</td>\n",
       "      <td>JB147230</td>\n",
       "      <td>09/09/2017 08:17:00 PM</td>\n",
       "      <td>060XX S EBERHART AVE</td>\n",
       "      <td>0810</td>\n",
       "      <td>THEFT</td>\n",
       "      <td>OVER $500</td>\n",
       "      <td>RESIDENCE</td>\n",
       "      <td>False</td>\n",
       "      <td>False</td>\n",
       "      <td>...</td>\n",
       "      <td>20.0</td>\n",
       "      <td>42.0</td>\n",
       "      <td>06</td>\n",
       "      <td>NaN</td>\n",
       "      <td>NaN</td>\n",
       "      <td>2017</td>\n",
       "      <td>02/11/2018 03:57:41 PM</td>\n",
       "      <td>NaN</td>\n",
       "      <td>NaN</td>\n",
       "      <td>NaN</td>\n",
       "    </tr>\n",
       "    <tr>\n",
       "      <th>4</th>\n",
       "      <td>11227634</td>\n",
       "      <td>JB147599</td>\n",
       "      <td>08/26/2017 10:00:00 AM</td>\n",
       "      <td>001XX W RANDOLPH ST</td>\n",
       "      <td>0281</td>\n",
       "      <td>CRIM SEXUAL ASSAULT</td>\n",
       "      <td>NON-AGGRAVATED</td>\n",
       "      <td>HOTEL/MOTEL</td>\n",
       "      <td>False</td>\n",
       "      <td>False</td>\n",
       "      <td>...</td>\n",
       "      <td>42.0</td>\n",
       "      <td>32.0</td>\n",
       "      <td>02</td>\n",
       "      <td>NaN</td>\n",
       "      <td>NaN</td>\n",
       "      <td>2017</td>\n",
       "      <td>02/11/2018 03:57:41 PM</td>\n",
       "      <td>NaN</td>\n",
       "      <td>NaN</td>\n",
       "      <td>NaN</td>\n",
       "    </tr>\n",
       "  </tbody>\n",
       "</table>\n",
       "<p>5 rows × 22 columns</p>\n",
       "</div>"
      ],
      "text/plain": [
       "         ID Case Number                    Date                 Block  IUCR  \\\n",
       "0  11034701    JA366925  01/01/2001 11:00:00 AM       016XX E 86TH PL  1153   \n",
       "1  11227287    JB147188  10/08/2017 03:00:00 AM    092XX S RACINE AVE  0281   \n",
       "2  11227583    JB147595  03/28/2017 02:00:00 PM       026XX W 79TH ST  0620   \n",
       "3  11227293    JB147230  09/09/2017 08:17:00 PM  060XX S EBERHART AVE  0810   \n",
       "4  11227634    JB147599  08/26/2017 10:00:00 AM   001XX W RANDOLPH ST  0281   \n",
       "\n",
       "          Primary Type                          Description  \\\n",
       "0   DECEPTIVE PRACTICE  FINANCIAL IDENTITY THEFT OVER $ 300   \n",
       "1  CRIM SEXUAL ASSAULT                       NON-AGGRAVATED   \n",
       "2             BURGLARY                       UNLAWFUL ENTRY   \n",
       "3                THEFT                            OVER $500   \n",
       "4  CRIM SEXUAL ASSAULT                       NON-AGGRAVATED   \n",
       "\n",
       "  Location Description  Arrest  Domestic  ...  Ward  Community Area  FBI Code  \\\n",
       "0            RESIDENCE   False     False  ...   8.0            45.0        11   \n",
       "1            RESIDENCE   False     False  ...  21.0            73.0        02   \n",
       "2                OTHER   False     False  ...  18.0            70.0        05   \n",
       "3            RESIDENCE   False     False  ...  20.0            42.0        06   \n",
       "4          HOTEL/MOTEL   False     False  ...  42.0            32.0        02   \n",
       "\n",
       "   X Coordinate Y Coordinate  Year              Updated On  Latitude  \\\n",
       "0           NaN          NaN  2001  08/05/2017 03:50:08 PM       NaN   \n",
       "1           NaN          NaN  2017  02/11/2018 03:57:41 PM       NaN   \n",
       "2           NaN          NaN  2017  02/11/2018 03:57:41 PM       NaN   \n",
       "3           NaN          NaN  2017  02/11/2018 03:57:41 PM       NaN   \n",
       "4           NaN          NaN  2017  02/11/2018 03:57:41 PM       NaN   \n",
       "\n",
       "  Longitude  Location  \n",
       "0       NaN       NaN  \n",
       "1       NaN       NaN  \n",
       "2       NaN       NaN  \n",
       "3       NaN       NaN  \n",
       "4       NaN       NaN  \n",
       "\n",
       "[5 rows x 22 columns]"
      ]
     },
     "execution_count": 78,
     "metadata": {},
     "output_type": "execute_result"
    }
   ],
   "source": [
    "#df1.head()"
   ]
  },
  {
   "cell_type": "code",
   "execution_count": 79,
   "metadata": {},
   "outputs": [
    {
     "data": {
      "text/html": [
       "<div>\n",
       "<style scoped>\n",
       "    .dataframe tbody tr th:only-of-type {\n",
       "        vertical-align: middle;\n",
       "    }\n",
       "\n",
       "    .dataframe tbody tr th {\n",
       "        vertical-align: top;\n",
       "    }\n",
       "\n",
       "    .dataframe thead th {\n",
       "        text-align: right;\n",
       "    }\n",
       "</style>\n",
       "<table border=\"1\" class=\"dataframe\">\n",
       "  <thead>\n",
       "    <tr style=\"text-align: right;\">\n",
       "      <th></th>\n",
       "      <th>the_geom</th>\n",
       "      <th>PERIMETER</th>\n",
       "      <th>AREA</th>\n",
       "      <th>COMAREA_</th>\n",
       "      <th>COMAREA_ID</th>\n",
       "      <th>AREA_NUMBE</th>\n",
       "      <th>COMMUNITY</th>\n",
       "      <th>AREA_NUM_1</th>\n",
       "      <th>SHAPE_AREA</th>\n",
       "      <th>SHAPE_LEN</th>\n",
       "    </tr>\n",
       "  </thead>\n",
       "  <tbody>\n",
       "    <tr>\n",
       "      <th>0</th>\n",
       "      <td>MULTIPOLYGON (((-87.60914087617894 41.84469250...</td>\n",
       "      <td>0</td>\n",
       "      <td>0</td>\n",
       "      <td>0</td>\n",
       "      <td>0</td>\n",
       "      <td>35</td>\n",
       "      <td>DOUGLAS</td>\n",
       "      <td>35</td>\n",
       "      <td>4.600462e+07</td>\n",
       "      <td>31027.054510</td>\n",
       "    </tr>\n",
       "    <tr>\n",
       "      <th>1</th>\n",
       "      <td>MULTIPOLYGON (((-87.59215283879394 41.81692934...</td>\n",
       "      <td>0</td>\n",
       "      <td>0</td>\n",
       "      <td>0</td>\n",
       "      <td>0</td>\n",
       "      <td>36</td>\n",
       "      <td>OAKLAND</td>\n",
       "      <td>36</td>\n",
       "      <td>1.691396e+07</td>\n",
       "      <td>19565.506153</td>\n",
       "    </tr>\n",
       "    <tr>\n",
       "      <th>2</th>\n",
       "      <td>MULTIPOLYGON (((-87.62879823733725 41.80189303...</td>\n",
       "      <td>0</td>\n",
       "      <td>0</td>\n",
       "      <td>0</td>\n",
       "      <td>0</td>\n",
       "      <td>37</td>\n",
       "      <td>FULLER PARK</td>\n",
       "      <td>37</td>\n",
       "      <td>1.991670e+07</td>\n",
       "      <td>25339.089750</td>\n",
       "    </tr>\n",
       "    <tr>\n",
       "      <th>3</th>\n",
       "      <td>MULTIPOLYGON (((-87.6067081256125 41.816813770...</td>\n",
       "      <td>0</td>\n",
       "      <td>0</td>\n",
       "      <td>0</td>\n",
       "      <td>0</td>\n",
       "      <td>38</td>\n",
       "      <td>GRAND BOULEVARD</td>\n",
       "      <td>38</td>\n",
       "      <td>4.849250e+07</td>\n",
       "      <td>28196.837157</td>\n",
       "    </tr>\n",
       "    <tr>\n",
       "      <th>4</th>\n",
       "      <td>MULTIPOLYGON (((-87.59215283879394 41.81692934...</td>\n",
       "      <td>0</td>\n",
       "      <td>0</td>\n",
       "      <td>0</td>\n",
       "      <td>0</td>\n",
       "      <td>39</td>\n",
       "      <td>KENWOOD</td>\n",
       "      <td>39</td>\n",
       "      <td>2.907174e+07</td>\n",
       "      <td>23325.167906</td>\n",
       "    </tr>\n",
       "  </tbody>\n",
       "</table>\n",
       "</div>"
      ],
      "text/plain": [
       "                                            the_geom  PERIMETER  AREA  \\\n",
       "0  MULTIPOLYGON (((-87.60914087617894 41.84469250...          0     0   \n",
       "1  MULTIPOLYGON (((-87.59215283879394 41.81692934...          0     0   \n",
       "2  MULTIPOLYGON (((-87.62879823733725 41.80189303...          0     0   \n",
       "3  MULTIPOLYGON (((-87.6067081256125 41.816813770...          0     0   \n",
       "4  MULTIPOLYGON (((-87.59215283879394 41.81692934...          0     0   \n",
       "\n",
       "   COMAREA_  COMAREA_ID  AREA_NUMBE        COMMUNITY  AREA_NUM_1  \\\n",
       "0         0           0          35          DOUGLAS          35   \n",
       "1         0           0          36          OAKLAND          36   \n",
       "2         0           0          37      FULLER PARK          37   \n",
       "3         0           0          38  GRAND BOULEVARD          38   \n",
       "4         0           0          39          KENWOOD          39   \n",
       "\n",
       "     SHAPE_AREA     SHAPE_LEN  \n",
       "0  4.600462e+07  31027.054510  \n",
       "1  1.691396e+07  19565.506153  \n",
       "2  1.991670e+07  25339.089750  \n",
       "3  4.849250e+07  28196.837157  \n",
       "4  2.907174e+07  23325.167906  "
      ]
     },
     "execution_count": 79,
     "metadata": {},
     "output_type": "execute_result"
    }
   ],
   "source": [
    "df2.head()"
   ]
  },
  {
   "cell_type": "code",
   "execution_count": 80,
   "metadata": {},
   "outputs": [
    {
     "data": {
      "text/html": [
       "<div>\n",
       "<style scoped>\n",
       "    .dataframe tbody tr th:only-of-type {\n",
       "        vertical-align: middle;\n",
       "    }\n",
       "\n",
       "    .dataframe tbody tr th {\n",
       "        vertical-align: top;\n",
       "    }\n",
       "\n",
       "    .dataframe thead th {\n",
       "        text-align: right;\n",
       "    }\n",
       "</style>\n",
       "<table border=\"1\" class=\"dataframe\">\n",
       "  <thead>\n",
       "    <tr style=\"text-align: right;\">\n",
       "      <th></th>\n",
       "      <th>IUCR</th>\n",
       "      <th>PRIMARY DESCRIPTION</th>\n",
       "      <th>SECONDARY DESCRIPTION</th>\n",
       "      <th>INDEX CODE</th>\n",
       "    </tr>\n",
       "  </thead>\n",
       "  <tbody>\n",
       "    <tr>\n",
       "      <th>0</th>\n",
       "      <td>110</td>\n",
       "      <td>HOMICIDE</td>\n",
       "      <td>FIRST DEGREE MURDER</td>\n",
       "      <td>I</td>\n",
       "    </tr>\n",
       "    <tr>\n",
       "      <th>1</th>\n",
       "      <td>130</td>\n",
       "      <td>HOMICIDE</td>\n",
       "      <td>SECOND DEGREE MURDER</td>\n",
       "      <td>I</td>\n",
       "    </tr>\n",
       "    <tr>\n",
       "      <th>2</th>\n",
       "      <td>141</td>\n",
       "      <td>HOMICIDE</td>\n",
       "      <td>INVOLUNTARY MANSLAUGHTER</td>\n",
       "      <td>N</td>\n",
       "    </tr>\n",
       "    <tr>\n",
       "      <th>3</th>\n",
       "      <td>142</td>\n",
       "      <td>HOMICIDE</td>\n",
       "      <td>RECKLESS HOMICIDE</td>\n",
       "      <td>N</td>\n",
       "    </tr>\n",
       "    <tr>\n",
       "      <th>4</th>\n",
       "      <td>261</td>\n",
       "      <td>CRIM SEXUAL ASSAULT</td>\n",
       "      <td>AGGRAVATED: HANDGUN</td>\n",
       "      <td>I</td>\n",
       "    </tr>\n",
       "  </tbody>\n",
       "</table>\n",
       "</div>"
      ],
      "text/plain": [
       "  IUCR  PRIMARY DESCRIPTION     SECONDARY DESCRIPTION INDEX CODE\n",
       "0  110             HOMICIDE       FIRST DEGREE MURDER          I\n",
       "1  130             HOMICIDE      SECOND DEGREE MURDER          I\n",
       "2  141             HOMICIDE  INVOLUNTARY MANSLAUGHTER          N\n",
       "3  142             HOMICIDE         RECKLESS HOMICIDE          N\n",
       "4  261  CRIM SEXUAL ASSAULT       AGGRAVATED: HANDGUN          I"
      ]
     },
     "execution_count": 80,
     "metadata": {},
     "output_type": "execute_result"
    }
   ],
   "source": [
    "df3.head()"
   ]
  },
  {
   "cell_type": "code",
   "execution_count": 81,
   "metadata": {},
   "outputs": [
    {
     "data": {
      "text/html": [
       "<div>\n",
       "<style scoped>\n",
       "    .dataframe tbody tr th:only-of-type {\n",
       "        vertical-align: middle;\n",
       "    }\n",
       "\n",
       "    .dataframe tbody tr th {\n",
       "        vertical-align: top;\n",
       "    }\n",
       "\n",
       "    .dataframe thead th {\n",
       "        text-align: right;\n",
       "    }\n",
       "</style>\n",
       "<table border=\"1\" class=\"dataframe\">\n",
       "  <thead>\n",
       "    <tr style=\"text-align: right;\">\n",
       "      <th></th>\n",
       "      <th>the_geom</th>\n",
       "      <th>WARD</th>\n",
       "      <th>SHAPE_Leng</th>\n",
       "      <th>SHAPE_Area</th>\n",
       "    </tr>\n",
       "  </thead>\n",
       "  <tbody>\n",
       "    <tr>\n",
       "      <th>0</th>\n",
       "      <td>MULTIPOLYGON (((-87.69623470134458 41.85755495...</td>\n",
       "      <td>12</td>\n",
       "      <td>93073.340838</td>\n",
       "      <td>1.160965e+08</td>\n",
       "    </tr>\n",
       "    <tr>\n",
       "      <th>1</th>\n",
       "      <td>MULTIPOLYGON (((-87.66288923669032 41.79883809...</td>\n",
       "      <td>16</td>\n",
       "      <td>97901.323833</td>\n",
       "      <td>1.031436e+08</td>\n",
       "    </tr>\n",
       "    <tr>\n",
       "      <th>2</th>\n",
       "      <td>MULTIPOLYGON (((-87.69817510963803 41.81729440...</td>\n",
       "      <td>15</td>\n",
       "      <td>82183.694820</td>\n",
       "      <td>6.558830e+07</td>\n",
       "    </tr>\n",
       "    <tr>\n",
       "      <th>3</th>\n",
       "      <td>MULTIPOLYGON (((-87.65524133440029 41.80883316...</td>\n",
       "      <td>20</td>\n",
       "      <td>90105.195618</td>\n",
       "      <td>1.372904e+08</td>\n",
       "    </tr>\n",
       "    <tr>\n",
       "      <th>4</th>\n",
       "      <td>MULTIPOLYGON (((-87.66420403810295 42.02126158...</td>\n",
       "      <td>49</td>\n",
       "      <td>38122.692826</td>\n",
       "      <td>4.973346e+07</td>\n",
       "    </tr>\n",
       "  </tbody>\n",
       "</table>\n",
       "</div>"
      ],
      "text/plain": [
       "                                            the_geom  WARD    SHAPE_Leng  \\\n",
       "0  MULTIPOLYGON (((-87.69623470134458 41.85755495...    12  93073.340838   \n",
       "1  MULTIPOLYGON (((-87.66288923669032 41.79883809...    16  97901.323833   \n",
       "2  MULTIPOLYGON (((-87.69817510963803 41.81729440...    15  82183.694820   \n",
       "3  MULTIPOLYGON (((-87.65524133440029 41.80883316...    20  90105.195618   \n",
       "4  MULTIPOLYGON (((-87.66420403810295 42.02126158...    49  38122.692826   \n",
       "\n",
       "     SHAPE_Area  \n",
       "0  1.160965e+08  \n",
       "1  1.031436e+08  \n",
       "2  6.558830e+07  \n",
       "3  1.372904e+08  \n",
       "4  4.973346e+07  "
      ]
     },
     "execution_count": 81,
     "metadata": {},
     "output_type": "execute_result"
    }
   ],
   "source": [
    "df4.head()"
   ]
  },
  {
   "cell_type": "markdown",
   "metadata": {},
   "source": [
    "# Ex3"
   ]
  },
  {
   "cell_type": "code",
   "execution_count": 80,
   "metadata": {
    "scrolled": true
   },
   "outputs": [],
   "source": [
    "from pyspark.sql import SQLContext\n",
    "from pyspark import SparkContext\n",
    "from pyspark.sql.functions import *\n",
    "from pyspark.sql.window import Window\n",
    "from datetime import datetime\n",
    "\n",
    "# crime_path1 =  \"Crimes_-_2001_to_present.csv\"   #\"hdfs://wolf.analytics.private/user/zzm7646/data/Crimes_-_2001_to_present.csv\"\n",
    "# crime_path2 =  \"Crimes_2020.csv\"                #\"hdfs://wolf.analytics.private/user/zzm7646/data/Crimes_2020.csv\" \n",
    "\n",
    "# sc = SparkContext()\n",
    "# sqlcontext = SQLContext(sc)\n",
    "\n",
    "# crime1 = sqlcontext.read.csv(crime_path1, header = True)\n",
    "# crime2 = sqlcontext.read.csv(crime_path2, header = True)\n",
    "# crime3 = crime1.union(crime2)"
   ]
  },
  {
   "cell_type": "code",
   "execution_count": 69,
   "metadata": {},
   "outputs": [],
   "source": [
    "# get wek number of year\n",
    "crime4 = crime3.withColumn('short_date', col('Date').substr(1, 10))\\\n",
    "               .withColumn('date_time', to_timestamp('Date', 'MM/dd/yyyy'))\\\n",
    "               .where(col('date_time').isNotNull())\\\n",
    "               .withColumn('weekofYear', weekofyear('date_time'))\\\n",
    "               .select('Beat','IUCR','Year','weekofYear')\n",
    "#all crime\n",
    "# group by beat and weekofDay get weekly crime events\n",
    "crime = crime4.groupBy('Beat','Year','weekofYear').count().orderBy('Beat','Year','weekofYear')\n",
    "\n",
    "\n",
    "#HOMICIDE\n",
    "crime_h = crime4.filter(col('Primary Type')=='HOMICIDE').groupBy('Beat','Year','weekofYear').count().orderBy('Beat','Year','weekofYear')\n",
    "\n",
    "#ROBBERY\n",
    "crime_r = crime4.filter(col('Primary Type')=='ROBBERY').groupBy('Beat','Year','weekofYear').count().orderBy('Beat','Year','weekofYear')\n",
    "\n",
    "#ASSAULT\n",
    "crime_a = crime4.filter(col('Primary Type')=='ASSAULT').groupBy('Beat','Year','weekofYear').count().orderBy('Beat','Year','weekofYear')\n"
   ]
  },
  {
   "cell_type": "code",
   "execution_count": 71,
   "metadata": {
    "scrolled": true
   },
   "outputs": [
    {
     "name": "stdout",
     "output_type": "stream",
     "text": [
      "+----+----+----------+-----+\n",
      "|Beat|Year|weekofYear|count|\n",
      "+----+----+----------+-----+\n",
      "|0111|2001|1         |35   |\n",
      "|0111|2001|2         |36   |\n",
      "|0111|2001|3         |43   |\n",
      "|0111|2001|4         |29   |\n",
      "|0111|2001|5         |23   |\n",
      "|0111|2001|6         |36   |\n",
      "|0111|2001|7         |21   |\n",
      "|0111|2001|8         |26   |\n",
      "|0111|2001|9         |29   |\n",
      "|0111|2001|10        |32   |\n",
      "+----+----+----------+-----+\n",
      "only showing top 10 rows\n",
      "\n"
     ]
    }
   ],
   "source": [
    "crime.show(10, truncate = False)"
   ]
  },
  {
   "cell_type": "code",
   "execution_count": 81,
   "metadata": {},
   "outputs": [],
   "source": [
    "crime_new = crime.withColumn(\"row_num\", row_number().over(Window.partitionBy(\"Beat\").orderBy(\"Year\")))"
   ]
  },
  {
   "cell_type": "code",
   "execution_count": 83,
   "metadata": {},
   "outputs": [
    {
     "name": "stdout",
     "output_type": "stream",
     "text": [
      "+----+----+----------+-----+-------+\n",
      "|Beat|Year|weekofYear|count|row_num|\n",
      "+----+----+----------+-----+-------+\n",
      "|1512|2001|         1|   39|      1|\n",
      "|1512|2001|         2|   29|      2|\n",
      "|1512|2001|         3|   29|      3|\n",
      "|1512|2001|         4|   28|      4|\n",
      "|1512|2001|         5|   35|      5|\n",
      "|1512|2001|         6|   16|      6|\n",
      "|1512|2001|         7|   30|      7|\n",
      "|1512|2001|         8|   30|      8|\n",
      "|1512|2001|         9|   33|      9|\n",
      "|1512|2001|        10|   31|     10|\n",
      "|1512|2001|        11|   28|     11|\n",
      "|1512|2001|        12|   39|     12|\n",
      "|1512|2001|        13|   37|     13|\n",
      "|1512|2001|        14|   31|     14|\n",
      "|1512|2001|        15|   35|     15|\n",
      "|1512|2001|        16|   35|     16|\n",
      "|1512|2001|        17|   41|     17|\n",
      "|1512|2001|        18|   41|     18|\n",
      "|1512|2001|        19|   39|     19|\n",
      "|1512|2001|        20|   23|     20|\n",
      "+----+----+----------+-----+-------+\n",
      "only showing top 20 rows\n",
      "\n"
     ]
    }
   ],
   "source": [
    "crime_new.show(20)"
   ]
  },
  {
   "cell_type": "code",
   "execution_count": 88,
   "metadata": {},
   "outputs": [],
   "source": [
    "# Set the window\n",
    "w = Window.partitionBy('Beat').orderBy((\"row_num\"))\n",
    "\n",
    "# Create the lagged value\n",
    "lag_1wk = lag('count',count=1).over(w)\n",
    "lag_2wk = lag('count',count=2).over(w)\n",
    "lag_4wk = lag('count',count=4).over(w)\n",
    "lag_24wk = lag('count',count=24).over(w)\n",
    "lag_52wk = lag('count',count=52).over(w)\n",
    "\n",
    "# Add the lagged values to a new column\n",
    "crime_modelling = crime_new.withColumn('1wk_lag', lag_1wk)\\\n",
    "                           .withColumn('2wk_lag', lag_2wk)\\\n",
    "                           .withColumn('4wk_lag', lag_4wk)\\\n",
    "                           .withColumn('24wk_lag', lag_24wk)\\\n",
    "                           .withColumn('52wk_lag', lag_52wk)"
   ]
  },
  {
   "cell_type": "code",
   "execution_count": 90,
   "metadata": {},
   "outputs": [
    {
     "name": "stdout",
     "output_type": "stream",
     "text": [
      "+----+----+----------+-----+-------+-------+-------+-------+--------+--------+\n",
      "|Beat|Year|weekofYear|count|row_num|1wk_lag|2wk_lag|4wk_lag|24wk_lag|52wk_lag|\n",
      "+----+----+----------+-----+-------+-------+-------+-------+--------+--------+\n",
      "|1512|2001|         1|   39|      1|   null|   null|   null|    null|    null|\n",
      "|1512|2001|         2|   29|      2|     39|   null|   null|    null|    null|\n",
      "|1512|2001|         3|   29|      3|     29|     39|   null|    null|    null|\n",
      "|1512|2001|         4|   28|      4|     29|     29|   null|    null|    null|\n",
      "|1512|2001|         5|   35|      5|     28|     29|     39|    null|    null|\n",
      "|1512|2001|         6|   16|      6|     35|     28|     29|    null|    null|\n",
      "|1512|2001|         7|   30|      7|     16|     35|     29|    null|    null|\n",
      "|1512|2001|         8|   30|      8|     30|     16|     28|    null|    null|\n",
      "|1512|2001|         9|   33|      9|     30|     30|     35|    null|    null|\n",
      "|1512|2001|        10|   31|     10|     33|     30|     16|    null|    null|\n",
      "|1512|2001|        11|   28|     11|     31|     33|     30|    null|    null|\n",
      "|1512|2001|        12|   39|     12|     28|     31|     30|    null|    null|\n",
      "|1512|2001|        13|   37|     13|     39|     28|     33|    null|    null|\n",
      "|1512|2001|        14|   31|     14|     37|     39|     31|    null|    null|\n",
      "|1512|2001|        15|   35|     15|     31|     37|     28|    null|    null|\n",
      "|1512|2001|        16|   35|     16|     35|     31|     39|    null|    null|\n",
      "|1512|2001|        17|   41|     17|     35|     35|     37|    null|    null|\n",
      "|1512|2001|        18|   41|     18|     41|     35|     31|    null|    null|\n",
      "|1512|2001|        19|   39|     19|     41|     41|     35|    null|    null|\n",
      "|1512|2001|        20|   23|     20|     39|     41|     35|    null|    null|\n",
      "|1512|2001|        21|   30|     21|     23|     39|     41|    null|    null|\n",
      "|1512|2001|        22|   38|     22|     30|     23|     41|    null|    null|\n",
      "|1512|2001|        23|   44|     23|     38|     30|     39|    null|    null|\n",
      "|1512|2001|        24|   31|     24|     44|     38|     23|    null|    null|\n",
      "|1512|2001|        25|   37|     25|     31|     44|     30|      39|    null|\n",
      "|1512|2001|        26|   37|     26|     37|     31|     38|      29|    null|\n",
      "|1512|2001|        27|   33|     27|     37|     37|     44|      29|    null|\n",
      "|1512|2001|        28|   31|     28|     33|     37|     31|      28|    null|\n",
      "|1512|2001|        29|   36|     29|     31|     33|     37|      35|    null|\n",
      "|1512|2001|        30|   36|     30|     36|     31|     37|      16|    null|\n",
      "|1512|2001|        31|   35|     31|     36|     36|     33|      30|    null|\n",
      "|1512|2001|        32|   27|     32|     35|     36|     31|      30|    null|\n",
      "|1512|2001|        33|   27|     33|     27|     35|     36|      33|    null|\n",
      "|1512|2001|        34|   29|     34|     27|     27|     36|      31|    null|\n",
      "|1512|2001|        35|   36|     35|     29|     27|     35|      28|    null|\n",
      "|1512|2001|        36|   36|     36|     36|     29|     27|      39|    null|\n",
      "|1512|2001|        37|   43|     37|     36|     36|     27|      37|    null|\n",
      "|1512|2001|        38|   31|     38|     43|     36|     29|      31|    null|\n",
      "|1512|2001|        39|   31|     39|     31|     43|     36|      35|    null|\n",
      "|1512|2001|        40|   40|     40|     31|     31|     36|      35|    null|\n",
      "|1512|2001|        41|   32|     41|     40|     31|     43|      41|    null|\n",
      "|1512|2001|        42|   31|     42|     32|     40|     31|      41|    null|\n",
      "|1512|2001|        43|   39|     43|     31|     32|     31|      39|    null|\n",
      "|1512|2001|        44|   42|     44|     39|     31|     40|      23|    null|\n",
      "|1512|2001|        45|   30|     45|     42|     39|     32|      30|    null|\n",
      "|1512|2001|        46|   24|     46|     30|     42|     31|      38|    null|\n",
      "|1512|2001|        47|   29|     47|     24|     30|     39|      44|    null|\n",
      "|1512|2001|        48|   40|     48|     29|     24|     42|      31|    null|\n",
      "|1512|2001|        49|   30|     49|     40|     29|     30|      37|    null|\n",
      "|1512|2001|        50|   30|     50|     30|     40|     24|      37|    null|\n",
      "|1512|2001|        51|   34|     51|     30|     30|     29|      33|    null|\n",
      "|1512|2001|        52|   30|     52|     34|     30|     40|      31|    null|\n",
      "|1512|2002|         1|   42|     53|     30|     34|     30|      36|      39|\n",
      "|1512|2002|         2|   29|     54|     42|     30|     30|      36|      29|\n",
      "|1512|2002|         3|   32|     55|     29|     42|     34|      35|      29|\n",
      "|1512|2002|         4|   31|     56|     32|     29|     30|      27|      28|\n",
      "|1512|2002|         5|   30|     57|     31|     32|     42|      27|      35|\n",
      "|1512|2002|         6|   30|     58|     30|     31|     29|      29|      16|\n",
      "|1512|2002|         7|   32|     59|     30|     30|     32|      36|      30|\n",
      "|1512|2002|         8|   35|     60|     32|     30|     31|      36|      30|\n",
      "+----+----+----------+-----+-------+-------+-------+-------+--------+--------+\n",
      "only showing top 60 rows\n",
      "\n"
     ]
    }
   ],
   "source": [
    "crime_modelling.show(60)"
   ]
  },
  {
   "cell_type": "code",
   "execution_count": 46,
   "metadata": {},
   "outputs": [],
   "source": [
    "# modelling_h = crime_h.withColumn('1wk_lag', \n",
    "#                                       lag(wk_crime['count']).over(Window.orderBy([\"Year\",\"weekofYear\"]).partitionBy('Beat')))\\\n",
    "#                           .withColumn('2wk_lag', \n",
    "#                                       lag(wk_crime['count'],count=2).over(Window.orderBy([\"Year\",\"weekofYear\"]).partitionBy('Beat')))\\\n",
    "#                           .withColumn('4wk_lag', \n",
    "#                                       lag(wk_crime['count'],count=4).over(Window.orderBy([\"Year\",\"weekofYear\"]).partitionBy('Beat')))\\\n",
    "#                           .withColumn('24wk_lag', \n",
    "#                                       lag(wk_crime['count'],count=24).over(Window.orderBy([\"Year\",\"weekofYear\"]).partitionBy('Beat')))\\\n",
    "#                           .withColumn('52wk_lag', \n",
    "#                                       lag(wk_crime['count'],count=52).over(Window.orderBy([\"Year\",\"weekofYear\"]).partitionBy('Beat')))"
   ]
  },
  {
   "cell_type": "code",
   "execution_count": 47,
   "metadata": {},
   "outputs": [],
   "source": [
    "# modelling_r = crime_r.withColumn('1wk_lag', \n",
    "#                                       lag(wk_crime['count']).over(Window.orderBy([\"Year\",\"weekofYear\"]).partitionBy('Beat')))\\\n",
    "#                           .withColumn('2wk_lag', \n",
    "#                                       lag(wk_crime['count'],count=2).over(Window.orderBy([\"Year\",\"weekofYear\"]).partitionBy('Beat')))\\\n",
    "#                           .withColumn('4wk_lag', \n",
    "#                                       lag(wk_crime['count'],count=4).over(Window.orderBy([\"Year\",\"weekofYear\"]).partitionBy('Beat')))\\\n",
    "#                           .withColumn('24wk_lag', \n",
    "#                                       lag(wk_crime['count'],count=24).over(Window.orderBy([\"Year\",\"weekofYear\"]).partitionBy('Beat')))\\\n",
    "#                           .withColumn('52wk_lag', \n",
    "#                                       lag(wk_crime['count'],count=52).over(Window.orderBy([\"Year\",\"weekofYear\"]).partitionBy('Beat')))"
   ]
  },
  {
   "cell_type": "code",
   "execution_count": 48,
   "metadata": {},
   "outputs": [],
   "source": [
    "# modelling_a = crime_a.withColumn('1wk_lag', \n",
    "#                                       lag(wk_crime['count']).over(Window.orderBy([\"Year\",\"weekofYear\"]).partitionBy('Beat')))\\\n",
    "#                           .withColumn('2wk_lag', \n",
    "#                                       lag(wk_crime['count'],count=2).over(Window.orderBy([\"Year\",\"weekofYear\"]).partitionBy('Beat')))\\\n",
    "#                           .withColumn('4wk_lag', \n",
    "#                                       lag(wk_crime['count'],count=4).over(Window.orderBy([\"Year\",\"weekofYear\"]).partitionBy('Beat')))\\\n",
    "#                           .withColumn('24wk_lag', \n",
    "#                                       lag(wk_crime['count'],count=24).over(Window.orderBy([\"Year\",\"weekofYear\"]).partitionBy('Beat')))\\\n",
    "#                           .withColumn('52wk_lag', \n",
    "#                                       lag(wk_crime['count'],count=52).over(Window.orderBy([\"Year\",\"weekofYear\"]).partitionBy('Beat')))"
   ]
  },
  {
   "cell_type": "code",
   "execution_count": 58,
   "metadata": {
    "scrolled": true
   },
   "outputs": [
    {
     "name": "stdout",
     "output_type": "stream",
     "text": [
      "root\n",
      " |-- Beat: string (nullable = true)\n",
      " |-- Year: string (nullable = true)\n",
      " |-- weekofYear: integer (nullable = true)\n",
      " |-- count: long (nullable = false)\n",
      " |-- 1wk_lag: long (nullable = true)\n",
      " |-- 2wk_lag: long (nullable = true)\n",
      " |-- 4wk_lag: long (nullable = true)\n",
      " |-- 24wk_lag: long (nullable = true)\n",
      " |-- 52wk_lag: long (nullable = true)\n",
      "\n"
     ]
    }
   ],
   "source": [
    "crime_modelling.printSchema()"
   ]
  },
  {
   "cell_type": "code",
   "execution_count": 106,
   "metadata": {},
   "outputs": [],
   "source": [
    "data = crime_modelling.filter(crime_modelling.Year >= 2015)"
   ]
  },
  {
   "cell_type": "code",
   "execution_count": 108,
   "metadata": {
    "scrolled": true
   },
   "outputs": [
    {
     "name": "stdout",
     "output_type": "stream",
     "text": [
      "+----+----+----------+-----+-------+-------+-------+-------+--------+--------+\n",
      "|Beat|Year|weekofYear|count|row_num|1wk_lag|2wk_lag|4wk_lag|24wk_lag|52wk_lag|\n",
      "+----+----+----------+-----+-------+-------+-------+-------+--------+--------+\n",
      "|1512|2015|         1|   10|    733|     12|     21|     16|      17|      14|\n",
      "|1512|2015|         2|   12|    734|     10|     12|     20|      27|       8|\n",
      "|1512|2015|         3|   12|    735|     12|     10|     21|      26|      18|\n",
      "|1512|2015|         4|   14|    736|     12|     12|     12|      19|      17|\n",
      "|1512|2015|         5|   15|    737|     14|     12|     10|      10|       9|\n",
      "|1512|2015|         6|   11|    738|     15|     14|     12|      17|      10|\n",
      "|1512|2015|         7|   15|    739|     11|     15|     12|      27|      17|\n",
      "|1512|2015|         8|   18|    740|     15|     11|     14|      12|      16|\n",
      "|1512|2015|         9|   11|    741|     18|     15|     15|      29|      22|\n",
      "|1512|2015|        10|   13|    742|     11|     18|     11|      11|      16|\n",
      "|1512|2015|        11|   13|    743|     13|     11|     15|      19|      19|\n",
      "|1512|2015|        12|   19|    744|     13|     13|     18|      10|      19|\n",
      "|1512|2015|        13|   14|    745|     19|     13|     11|      17|      16|\n",
      "|1512|2015|        14|    7|    746|     14|     19|     13|      22|      18|\n",
      "|1512|2015|        15|   14|    747|      7|     14|     13|      16|      18|\n",
      "|1512|2015|        16|   22|    748|     14|      7|     19|      14|      12|\n",
      "|1512|2015|        17|   17|    749|     22|     14|     14|      19|      22|\n",
      "|1512|2015|        18|   17|    750|     17|     22|      7|      11|      16|\n",
      "|1512|2015|        19|   19|    751|     17|     17|     14|      11|      19|\n",
      "|1512|2015|        20|   12|    752|     19|     17|     22|      15|      16|\n",
      "+----+----+----------+-----+-------+-------+-------+-------+--------+--------+\n",
      "only showing top 20 rows\n",
      "\n"
     ]
    }
   ],
   "source": [
    "data.show()"
   ]
  },
  {
   "cell_type": "code",
   "execution_count": 115,
   "metadata": {},
   "outputs": [],
   "source": [
    "df = data.drop('Beat','Year','weekofYear','row_num').withColumnRenamed('count','label')"
   ]
  },
  {
   "cell_type": "code",
   "execution_count": 127,
   "metadata": {},
   "outputs": [
    {
     "data": {
      "text/plain": [
       "['label', '1wk_lag', '2wk_lag', '4wk_lag', '24wk_lag', '52wk_lag']"
      ]
     },
     "execution_count": 127,
     "metadata": {},
     "output_type": "execute_result"
    }
   ],
   "source": [
    "df.columns"
   ]
  },
  {
   "cell_type": "code",
   "execution_count": 128,
   "metadata": {},
   "outputs": [
    {
     "ename": "KeyboardInterrupt",
     "evalue": "",
     "output_type": "error",
     "traceback": [
      "\u001b[0;31m---------------------------------------------------------------------------\u001b[0m",
      "\u001b[0;31mKeyboardInterrupt\u001b[0m                         Traceback (most recent call last)",
      "\u001b[0;32m<ipython-input-128-3c9a60fd698f>\u001b[0m in \u001b[0;36m<module>\u001b[0;34m\u001b[0m\n\u001b[0;32m----> 1\u001b[0;31m \u001b[0mdf\u001b[0m\u001b[0;34m.\u001b[0m\u001b[0mcount\u001b[0m\u001b[0;34m(\u001b[0m\u001b[0;34m)\u001b[0m\u001b[0;34m\u001b[0m\u001b[0;34m\u001b[0m\u001b[0m\n\u001b[0m",
      "\u001b[0;32m/opt/anaconda3/lib/python3.7/site-packages/pyspark/sql/dataframe.py\u001b[0m in \u001b[0;36mcount\u001b[0;34m(self)\u001b[0m\n\u001b[1;32m    521\u001b[0m         \u001b[0;36m2\u001b[0m\u001b[0;34m\u001b[0m\u001b[0;34m\u001b[0m\u001b[0m\n\u001b[1;32m    522\u001b[0m         \"\"\"\n\u001b[0;32m--> 523\u001b[0;31m         \u001b[0;32mreturn\u001b[0m \u001b[0mint\u001b[0m\u001b[0;34m(\u001b[0m\u001b[0mself\u001b[0m\u001b[0;34m.\u001b[0m\u001b[0m_jdf\u001b[0m\u001b[0;34m.\u001b[0m\u001b[0mcount\u001b[0m\u001b[0;34m(\u001b[0m\u001b[0;34m)\u001b[0m\u001b[0;34m)\u001b[0m\u001b[0;34m\u001b[0m\u001b[0;34m\u001b[0m\u001b[0m\n\u001b[0m\u001b[1;32m    524\u001b[0m \u001b[0;34m\u001b[0m\u001b[0m\n\u001b[1;32m    525\u001b[0m     \u001b[0;34m@\u001b[0m\u001b[0mignore_unicode_prefix\u001b[0m\u001b[0;34m\u001b[0m\u001b[0;34m\u001b[0m\u001b[0m\n",
      "\u001b[0;32m/opt/anaconda3/lib/python3.7/site-packages/py4j/java_gateway.py\u001b[0m in \u001b[0;36m__call__\u001b[0;34m(self, *args)\u001b[0m\n\u001b[1;32m   1253\u001b[0m             \u001b[0mproto\u001b[0m\u001b[0;34m.\u001b[0m\u001b[0mEND_COMMAND_PART\u001b[0m\u001b[0;34m\u001b[0m\u001b[0;34m\u001b[0m\u001b[0m\n\u001b[1;32m   1254\u001b[0m \u001b[0;34m\u001b[0m\u001b[0m\n\u001b[0;32m-> 1255\u001b[0;31m         \u001b[0manswer\u001b[0m \u001b[0;34m=\u001b[0m \u001b[0mself\u001b[0m\u001b[0;34m.\u001b[0m\u001b[0mgateway_client\u001b[0m\u001b[0;34m.\u001b[0m\u001b[0msend_command\u001b[0m\u001b[0;34m(\u001b[0m\u001b[0mcommand\u001b[0m\u001b[0;34m)\u001b[0m\u001b[0;34m\u001b[0m\u001b[0;34m\u001b[0m\u001b[0m\n\u001b[0m\u001b[1;32m   1256\u001b[0m         return_value = get_return_value(\n\u001b[1;32m   1257\u001b[0m             answer, self.gateway_client, self.target_id, self.name)\n",
      "\u001b[0;32m/opt/anaconda3/lib/python3.7/site-packages/py4j/java_gateway.py\u001b[0m in \u001b[0;36msend_command\u001b[0;34m(self, command, retry, binary)\u001b[0m\n\u001b[1;32m    983\u001b[0m         \u001b[0mconnection\u001b[0m \u001b[0;34m=\u001b[0m \u001b[0mself\u001b[0m\u001b[0;34m.\u001b[0m\u001b[0m_get_connection\u001b[0m\u001b[0;34m(\u001b[0m\u001b[0;34m)\u001b[0m\u001b[0;34m\u001b[0m\u001b[0;34m\u001b[0m\u001b[0m\n\u001b[1;32m    984\u001b[0m         \u001b[0;32mtry\u001b[0m\u001b[0;34m:\u001b[0m\u001b[0;34m\u001b[0m\u001b[0;34m\u001b[0m\u001b[0m\n\u001b[0;32m--> 985\u001b[0;31m             \u001b[0mresponse\u001b[0m \u001b[0;34m=\u001b[0m \u001b[0mconnection\u001b[0m\u001b[0;34m.\u001b[0m\u001b[0msend_command\u001b[0m\u001b[0;34m(\u001b[0m\u001b[0mcommand\u001b[0m\u001b[0;34m)\u001b[0m\u001b[0;34m\u001b[0m\u001b[0;34m\u001b[0m\u001b[0m\n\u001b[0m\u001b[1;32m    986\u001b[0m             \u001b[0;32mif\u001b[0m \u001b[0mbinary\u001b[0m\u001b[0;34m:\u001b[0m\u001b[0;34m\u001b[0m\u001b[0;34m\u001b[0m\u001b[0m\n\u001b[1;32m    987\u001b[0m                 \u001b[0;32mreturn\u001b[0m \u001b[0mresponse\u001b[0m\u001b[0;34m,\u001b[0m \u001b[0mself\u001b[0m\u001b[0;34m.\u001b[0m\u001b[0m_create_connection_guard\u001b[0m\u001b[0;34m(\u001b[0m\u001b[0mconnection\u001b[0m\u001b[0;34m)\u001b[0m\u001b[0;34m\u001b[0m\u001b[0;34m\u001b[0m\u001b[0m\n",
      "\u001b[0;32m/opt/anaconda3/lib/python3.7/site-packages/py4j/java_gateway.py\u001b[0m in \u001b[0;36msend_command\u001b[0;34m(self, command)\u001b[0m\n\u001b[1;32m   1150\u001b[0m \u001b[0;34m\u001b[0m\u001b[0m\n\u001b[1;32m   1151\u001b[0m         \u001b[0;32mtry\u001b[0m\u001b[0;34m:\u001b[0m\u001b[0;34m\u001b[0m\u001b[0;34m\u001b[0m\u001b[0m\n\u001b[0;32m-> 1152\u001b[0;31m             \u001b[0manswer\u001b[0m \u001b[0;34m=\u001b[0m \u001b[0msmart_decode\u001b[0m\u001b[0;34m(\u001b[0m\u001b[0mself\u001b[0m\u001b[0;34m.\u001b[0m\u001b[0mstream\u001b[0m\u001b[0;34m.\u001b[0m\u001b[0mreadline\u001b[0m\u001b[0;34m(\u001b[0m\u001b[0;34m)\u001b[0m\u001b[0;34m[\u001b[0m\u001b[0;34m:\u001b[0m\u001b[0;34m-\u001b[0m\u001b[0;36m1\u001b[0m\u001b[0;34m]\u001b[0m\u001b[0;34m)\u001b[0m\u001b[0;34m\u001b[0m\u001b[0;34m\u001b[0m\u001b[0m\n\u001b[0m\u001b[1;32m   1153\u001b[0m             \u001b[0mlogger\u001b[0m\u001b[0;34m.\u001b[0m\u001b[0mdebug\u001b[0m\u001b[0;34m(\u001b[0m\u001b[0;34m\"Answer received: {0}\"\u001b[0m\u001b[0;34m.\u001b[0m\u001b[0mformat\u001b[0m\u001b[0;34m(\u001b[0m\u001b[0manswer\u001b[0m\u001b[0;34m)\u001b[0m\u001b[0;34m)\u001b[0m\u001b[0;34m\u001b[0m\u001b[0;34m\u001b[0m\u001b[0m\n\u001b[1;32m   1154\u001b[0m             \u001b[0;32mif\u001b[0m \u001b[0manswer\u001b[0m\u001b[0;34m.\u001b[0m\u001b[0mstartswith\u001b[0m\u001b[0;34m(\u001b[0m\u001b[0mproto\u001b[0m\u001b[0;34m.\u001b[0m\u001b[0mRETURN_MESSAGE\u001b[0m\u001b[0;34m)\u001b[0m\u001b[0;34m:\u001b[0m\u001b[0;34m\u001b[0m\u001b[0;34m\u001b[0m\u001b[0m\n",
      "\u001b[0;32m/opt/anaconda3/lib/python3.7/socket.py\u001b[0m in \u001b[0;36mreadinto\u001b[0;34m(self, b)\u001b[0m\n\u001b[1;32m    587\u001b[0m         \u001b[0;32mwhile\u001b[0m \u001b[0;32mTrue\u001b[0m\u001b[0;34m:\u001b[0m\u001b[0;34m\u001b[0m\u001b[0;34m\u001b[0m\u001b[0m\n\u001b[1;32m    588\u001b[0m             \u001b[0;32mtry\u001b[0m\u001b[0;34m:\u001b[0m\u001b[0;34m\u001b[0m\u001b[0;34m\u001b[0m\u001b[0m\n\u001b[0;32m--> 589\u001b[0;31m                 \u001b[0;32mreturn\u001b[0m \u001b[0mself\u001b[0m\u001b[0;34m.\u001b[0m\u001b[0m_sock\u001b[0m\u001b[0;34m.\u001b[0m\u001b[0mrecv_into\u001b[0m\u001b[0;34m(\u001b[0m\u001b[0mb\u001b[0m\u001b[0;34m)\u001b[0m\u001b[0;34m\u001b[0m\u001b[0;34m\u001b[0m\u001b[0m\n\u001b[0m\u001b[1;32m    590\u001b[0m             \u001b[0;32mexcept\u001b[0m \u001b[0mtimeout\u001b[0m\u001b[0;34m:\u001b[0m\u001b[0;34m\u001b[0m\u001b[0;34m\u001b[0m\u001b[0m\n\u001b[1;32m    591\u001b[0m                 \u001b[0mself\u001b[0m\u001b[0;34m.\u001b[0m\u001b[0m_timeout_occurred\u001b[0m \u001b[0;34m=\u001b[0m \u001b[0;32mTrue\u001b[0m\u001b[0;34m\u001b[0m\u001b[0;34m\u001b[0m\u001b[0m\n",
      "\u001b[0;31mKeyboardInterrupt\u001b[0m: "
     ]
    }
   ],
   "source": [
    "df.count()"
   ]
  },
  {
   "cell_type": "code",
   "execution_count": 122,
   "metadata": {},
   "outputs": [],
   "source": [
    "from pyspark.ml import Pipeline\n",
    "from pyspark.ml.regression import RandomForestRegressor\n",
    "from pyspark.ml.feature import VectorIndexer\n",
    "from pyspark.ml.evaluation import RegressionEvaluator\n",
    "from pyspark.ml.feature import VectorAssembler\n",
    "\n",
    "assembler = VectorAssembler(inputCols=['1wk_lag','2wk_lag','4wk_lag','24wk_lag','52wk_lag'], outputCol='features')\n",
    "\n",
    "\n",
    "# Split the data into training and test sets (30% held out for testing)\n",
    "(trainingData, testData) = df.randomSplit([0.8, 0.2])\n",
    "\n",
    "# Train a RandomForest model.\n",
    "rf = RandomForestRegressor(labelCol=\"label\", featuresCol=\"features\")\n",
    "\n",
    "# Chain indexer and forest in a Pipeline\n",
    "pipeline = Pipeline(stages=[assembler, rf])"
   ]
  },
  {
   "cell_type": "code",
   "execution_count": 92,
   "metadata": {
    "scrolled": true
   },
   "outputs": [
    {
     "name": "stdout",
     "output_type": "stream",
     "text": [
      "+----+-----+-------+-------+-------+-------+--------+--------+\n",
      "|Beat|count|row_num|1wk_lag|2wk_lag|4wk_lag|24wk_lag|52wk_lag|\n",
      "+----+-----+-------+-------+-------+-------+--------+--------+\n",
      "|1512|    5|   1013|     12|     22|     22|      14|      15|\n",
      "|1512|    7|    785|     15|     12|     21|      14|      10|\n",
      "|1512|    8|    951|     18|     15|      9|      14|      11|\n",
      "|1512|    9|    685|     17|     18|     14|      18|      11|\n",
      "|1512|   10|    660|     23|     16|     21|      21|       9|\n",
      "|1512|   10|    713|     19|     26|     17|      22|      18|\n",
      "|1512|   10|    733|     12|     21|     16|      17|      14|\n",
      "|1512|   10|    873|      9|     11|     22|      15|      14|\n",
      "|1512|   10|    894|     14|     14|     12|      16|       8|\n",
      "|1512|   10|    955|     20|     16|      8|       8|      16|\n",
      "+----+-----+-------+-------+-------+-------+--------+--------+\n",
      "only showing top 10 rows\n",
      "\n"
     ]
    }
   ],
   "source": [
    "testData.show(10)"
   ]
  },
  {
   "cell_type": "code",
   "execution_count": 123,
   "metadata": {},
   "outputs": [],
   "source": [
    "# # The hyperparameter grid predefines parameter values to test when we run the model. \n",
    "# from pyspark.ml.tuning import ParamGridBuilder\n",
    "# import numpy as np\n",
    "\n",
    "# paramGrid = ParamGridBuilder() \\\n",
    "#     .addGrid(rf.numTrees, [int(x) for x in np.linspace(start = 10, stop = 50, num = 3)]) \\\n",
    "#     .addGrid(rf.maxDepth, [int(x) for x in np.linspace(start = 5, stop = 25, num = 3)]) \\\n",
    "#     .build()"
   ]
  },
  {
   "cell_type": "code",
   "execution_count": 124,
   "metadata": {},
   "outputs": [],
   "source": [
    "# # use three folds cross-validation\n",
    "# from pyspark.ml.tuning import CrossValidator\n",
    "# from pyspark.ml.evaluation import RegressionEvaluator\n",
    "\n",
    "# crossval = CrossValidator(estimator=pipeline,\n",
    "#                           estimatorParamMaps=paramGrid,\n",
    "#                           evaluator=RegressionEvaluator(),\n",
    "#                           numFolds=3)"
   ]
  },
  {
   "cell_type": "code",
   "execution_count": 126,
   "metadata": {},
   "outputs": [
    {
     "ename": "KeyboardInterrupt",
     "evalue": "",
     "output_type": "error",
     "traceback": [
      "\u001b[0;31m---------------------------------------------------------------------------\u001b[0m",
      "\u001b[0;31mKeyboardInterrupt\u001b[0m                         Traceback (most recent call last)",
      "\u001b[0;32m<ipython-input-126-5d58c0b896ea>\u001b[0m in \u001b[0;36m<module>\u001b[0;34m\u001b[0m\n\u001b[0;32m----> 1\u001b[0;31m \u001b[0mmodel\u001b[0m \u001b[0;34m=\u001b[0m \u001b[0mpipeline\u001b[0m\u001b[0;34m.\u001b[0m\u001b[0mfit\u001b[0m\u001b[0;34m(\u001b[0m\u001b[0mtrainingData\u001b[0m\u001b[0;34m)\u001b[0m\u001b[0;34m\u001b[0m\u001b[0;34m\u001b[0m\u001b[0m\n\u001b[0m",
      "\u001b[0;32m/opt/anaconda3/lib/python3.7/site-packages/pyspark/ml/base.py\u001b[0m in \u001b[0;36mfit\u001b[0;34m(self, dataset, params)\u001b[0m\n\u001b[1;32m    130\u001b[0m                 \u001b[0;32mreturn\u001b[0m \u001b[0mself\u001b[0m\u001b[0;34m.\u001b[0m\u001b[0mcopy\u001b[0m\u001b[0;34m(\u001b[0m\u001b[0mparams\u001b[0m\u001b[0;34m)\u001b[0m\u001b[0;34m.\u001b[0m\u001b[0m_fit\u001b[0m\u001b[0;34m(\u001b[0m\u001b[0mdataset\u001b[0m\u001b[0;34m)\u001b[0m\u001b[0;34m\u001b[0m\u001b[0;34m\u001b[0m\u001b[0m\n\u001b[1;32m    131\u001b[0m             \u001b[0;32melse\u001b[0m\u001b[0;34m:\u001b[0m\u001b[0;34m\u001b[0m\u001b[0;34m\u001b[0m\u001b[0m\n\u001b[0;32m--> 132\u001b[0;31m                 \u001b[0;32mreturn\u001b[0m \u001b[0mself\u001b[0m\u001b[0;34m.\u001b[0m\u001b[0m_fit\u001b[0m\u001b[0;34m(\u001b[0m\u001b[0mdataset\u001b[0m\u001b[0;34m)\u001b[0m\u001b[0;34m\u001b[0m\u001b[0;34m\u001b[0m\u001b[0m\n\u001b[0m\u001b[1;32m    133\u001b[0m         \u001b[0;32melse\u001b[0m\u001b[0;34m:\u001b[0m\u001b[0;34m\u001b[0m\u001b[0;34m\u001b[0m\u001b[0m\n\u001b[1;32m    134\u001b[0m             raise ValueError(\"Params must be either a param map or a list/tuple of param maps, \"\n",
      "\u001b[0;32m/opt/anaconda3/lib/python3.7/site-packages/pyspark/ml/pipeline.py\u001b[0m in \u001b[0;36m_fit\u001b[0;34m(self, dataset)\u001b[0m\n\u001b[1;32m    107\u001b[0m                     \u001b[0mdataset\u001b[0m \u001b[0;34m=\u001b[0m \u001b[0mstage\u001b[0m\u001b[0;34m.\u001b[0m\u001b[0mtransform\u001b[0m\u001b[0;34m(\u001b[0m\u001b[0mdataset\u001b[0m\u001b[0;34m)\u001b[0m\u001b[0;34m\u001b[0m\u001b[0;34m\u001b[0m\u001b[0m\n\u001b[1;32m    108\u001b[0m                 \u001b[0;32melse\u001b[0m\u001b[0;34m:\u001b[0m  \u001b[0;31m# must be an Estimator\u001b[0m\u001b[0;34m\u001b[0m\u001b[0;34m\u001b[0m\u001b[0m\n\u001b[0;32m--> 109\u001b[0;31m                     \u001b[0mmodel\u001b[0m \u001b[0;34m=\u001b[0m \u001b[0mstage\u001b[0m\u001b[0;34m.\u001b[0m\u001b[0mfit\u001b[0m\u001b[0;34m(\u001b[0m\u001b[0mdataset\u001b[0m\u001b[0;34m)\u001b[0m\u001b[0;34m\u001b[0m\u001b[0;34m\u001b[0m\u001b[0m\n\u001b[0m\u001b[1;32m    110\u001b[0m                     \u001b[0mtransformers\u001b[0m\u001b[0;34m.\u001b[0m\u001b[0mappend\u001b[0m\u001b[0;34m(\u001b[0m\u001b[0mmodel\u001b[0m\u001b[0;34m)\u001b[0m\u001b[0;34m\u001b[0m\u001b[0;34m\u001b[0m\u001b[0m\n\u001b[1;32m    111\u001b[0m                     \u001b[0;32mif\u001b[0m \u001b[0mi\u001b[0m \u001b[0;34m<\u001b[0m \u001b[0mindexOfLastEstimator\u001b[0m\u001b[0;34m:\u001b[0m\u001b[0;34m\u001b[0m\u001b[0;34m\u001b[0m\u001b[0m\n",
      "\u001b[0;32m/opt/anaconda3/lib/python3.7/site-packages/pyspark/ml/base.py\u001b[0m in \u001b[0;36mfit\u001b[0;34m(self, dataset, params)\u001b[0m\n\u001b[1;32m    130\u001b[0m                 \u001b[0;32mreturn\u001b[0m \u001b[0mself\u001b[0m\u001b[0;34m.\u001b[0m\u001b[0mcopy\u001b[0m\u001b[0;34m(\u001b[0m\u001b[0mparams\u001b[0m\u001b[0;34m)\u001b[0m\u001b[0;34m.\u001b[0m\u001b[0m_fit\u001b[0m\u001b[0;34m(\u001b[0m\u001b[0mdataset\u001b[0m\u001b[0;34m)\u001b[0m\u001b[0;34m\u001b[0m\u001b[0;34m\u001b[0m\u001b[0m\n\u001b[1;32m    131\u001b[0m             \u001b[0;32melse\u001b[0m\u001b[0;34m:\u001b[0m\u001b[0;34m\u001b[0m\u001b[0;34m\u001b[0m\u001b[0m\n\u001b[0;32m--> 132\u001b[0;31m                 \u001b[0;32mreturn\u001b[0m \u001b[0mself\u001b[0m\u001b[0;34m.\u001b[0m\u001b[0m_fit\u001b[0m\u001b[0;34m(\u001b[0m\u001b[0mdataset\u001b[0m\u001b[0;34m)\u001b[0m\u001b[0;34m\u001b[0m\u001b[0;34m\u001b[0m\u001b[0m\n\u001b[0m\u001b[1;32m    133\u001b[0m         \u001b[0;32melse\u001b[0m\u001b[0;34m:\u001b[0m\u001b[0;34m\u001b[0m\u001b[0;34m\u001b[0m\u001b[0m\n\u001b[1;32m    134\u001b[0m             raise ValueError(\"Params must be either a param map or a list/tuple of param maps, \"\n",
      "\u001b[0;32m/opt/anaconda3/lib/python3.7/site-packages/pyspark/ml/wrapper.py\u001b[0m in \u001b[0;36m_fit\u001b[0;34m(self, dataset)\u001b[0m\n\u001b[1;32m    293\u001b[0m \u001b[0;34m\u001b[0m\u001b[0m\n\u001b[1;32m    294\u001b[0m     \u001b[0;32mdef\u001b[0m \u001b[0m_fit\u001b[0m\u001b[0;34m(\u001b[0m\u001b[0mself\u001b[0m\u001b[0;34m,\u001b[0m \u001b[0mdataset\u001b[0m\u001b[0;34m)\u001b[0m\u001b[0;34m:\u001b[0m\u001b[0;34m\u001b[0m\u001b[0;34m\u001b[0m\u001b[0m\n\u001b[0;32m--> 295\u001b[0;31m         \u001b[0mjava_model\u001b[0m \u001b[0;34m=\u001b[0m \u001b[0mself\u001b[0m\u001b[0;34m.\u001b[0m\u001b[0m_fit_java\u001b[0m\u001b[0;34m(\u001b[0m\u001b[0mdataset\u001b[0m\u001b[0;34m)\u001b[0m\u001b[0;34m\u001b[0m\u001b[0;34m\u001b[0m\u001b[0m\n\u001b[0m\u001b[1;32m    296\u001b[0m         \u001b[0mmodel\u001b[0m \u001b[0;34m=\u001b[0m \u001b[0mself\u001b[0m\u001b[0;34m.\u001b[0m\u001b[0m_create_model\u001b[0m\u001b[0;34m(\u001b[0m\u001b[0mjava_model\u001b[0m\u001b[0;34m)\u001b[0m\u001b[0;34m\u001b[0m\u001b[0;34m\u001b[0m\u001b[0m\n\u001b[1;32m    297\u001b[0m         \u001b[0;32mreturn\u001b[0m \u001b[0mself\u001b[0m\u001b[0;34m.\u001b[0m\u001b[0m_copyValues\u001b[0m\u001b[0;34m(\u001b[0m\u001b[0mmodel\u001b[0m\u001b[0;34m)\u001b[0m\u001b[0;34m\u001b[0m\u001b[0;34m\u001b[0m\u001b[0m\n",
      "\u001b[0;32m/opt/anaconda3/lib/python3.7/site-packages/pyspark/ml/wrapper.py\u001b[0m in \u001b[0;36m_fit_java\u001b[0;34m(self, dataset)\u001b[0m\n\u001b[1;32m    290\u001b[0m         \"\"\"\n\u001b[1;32m    291\u001b[0m         \u001b[0mself\u001b[0m\u001b[0;34m.\u001b[0m\u001b[0m_transfer_params_to_java\u001b[0m\u001b[0;34m(\u001b[0m\u001b[0;34m)\u001b[0m\u001b[0;34m\u001b[0m\u001b[0;34m\u001b[0m\u001b[0m\n\u001b[0;32m--> 292\u001b[0;31m         \u001b[0;32mreturn\u001b[0m \u001b[0mself\u001b[0m\u001b[0;34m.\u001b[0m\u001b[0m_java_obj\u001b[0m\u001b[0;34m.\u001b[0m\u001b[0mfit\u001b[0m\u001b[0;34m(\u001b[0m\u001b[0mdataset\u001b[0m\u001b[0;34m.\u001b[0m\u001b[0m_jdf\u001b[0m\u001b[0;34m)\u001b[0m\u001b[0;34m\u001b[0m\u001b[0;34m\u001b[0m\u001b[0m\n\u001b[0m\u001b[1;32m    293\u001b[0m \u001b[0;34m\u001b[0m\u001b[0m\n\u001b[1;32m    294\u001b[0m     \u001b[0;32mdef\u001b[0m \u001b[0m_fit\u001b[0m\u001b[0;34m(\u001b[0m\u001b[0mself\u001b[0m\u001b[0;34m,\u001b[0m \u001b[0mdataset\u001b[0m\u001b[0;34m)\u001b[0m\u001b[0;34m:\u001b[0m\u001b[0;34m\u001b[0m\u001b[0;34m\u001b[0m\u001b[0m\n",
      "\u001b[0;32m/opt/anaconda3/lib/python3.7/site-packages/py4j/java_gateway.py\u001b[0m in \u001b[0;36m__call__\u001b[0;34m(self, *args)\u001b[0m\n\u001b[1;32m   1253\u001b[0m             \u001b[0mproto\u001b[0m\u001b[0;34m.\u001b[0m\u001b[0mEND_COMMAND_PART\u001b[0m\u001b[0;34m\u001b[0m\u001b[0;34m\u001b[0m\u001b[0m\n\u001b[1;32m   1254\u001b[0m \u001b[0;34m\u001b[0m\u001b[0m\n\u001b[0;32m-> 1255\u001b[0;31m         \u001b[0manswer\u001b[0m \u001b[0;34m=\u001b[0m \u001b[0mself\u001b[0m\u001b[0;34m.\u001b[0m\u001b[0mgateway_client\u001b[0m\u001b[0;34m.\u001b[0m\u001b[0msend_command\u001b[0m\u001b[0;34m(\u001b[0m\u001b[0mcommand\u001b[0m\u001b[0;34m)\u001b[0m\u001b[0;34m\u001b[0m\u001b[0;34m\u001b[0m\u001b[0m\n\u001b[0m\u001b[1;32m   1256\u001b[0m         return_value = get_return_value(\n\u001b[1;32m   1257\u001b[0m             answer, self.gateway_client, self.target_id, self.name)\n",
      "\u001b[0;32m/opt/anaconda3/lib/python3.7/site-packages/py4j/java_gateway.py\u001b[0m in \u001b[0;36msend_command\u001b[0;34m(self, command, retry, binary)\u001b[0m\n\u001b[1;32m    983\u001b[0m         \u001b[0mconnection\u001b[0m \u001b[0;34m=\u001b[0m \u001b[0mself\u001b[0m\u001b[0;34m.\u001b[0m\u001b[0m_get_connection\u001b[0m\u001b[0;34m(\u001b[0m\u001b[0;34m)\u001b[0m\u001b[0;34m\u001b[0m\u001b[0;34m\u001b[0m\u001b[0m\n\u001b[1;32m    984\u001b[0m         \u001b[0;32mtry\u001b[0m\u001b[0;34m:\u001b[0m\u001b[0;34m\u001b[0m\u001b[0;34m\u001b[0m\u001b[0m\n\u001b[0;32m--> 985\u001b[0;31m             \u001b[0mresponse\u001b[0m \u001b[0;34m=\u001b[0m \u001b[0mconnection\u001b[0m\u001b[0;34m.\u001b[0m\u001b[0msend_command\u001b[0m\u001b[0;34m(\u001b[0m\u001b[0mcommand\u001b[0m\u001b[0;34m)\u001b[0m\u001b[0;34m\u001b[0m\u001b[0;34m\u001b[0m\u001b[0m\n\u001b[0m\u001b[1;32m    986\u001b[0m             \u001b[0;32mif\u001b[0m \u001b[0mbinary\u001b[0m\u001b[0;34m:\u001b[0m\u001b[0;34m\u001b[0m\u001b[0;34m\u001b[0m\u001b[0m\n\u001b[1;32m    987\u001b[0m                 \u001b[0;32mreturn\u001b[0m \u001b[0mresponse\u001b[0m\u001b[0;34m,\u001b[0m \u001b[0mself\u001b[0m\u001b[0;34m.\u001b[0m\u001b[0m_create_connection_guard\u001b[0m\u001b[0;34m(\u001b[0m\u001b[0mconnection\u001b[0m\u001b[0;34m)\u001b[0m\u001b[0;34m\u001b[0m\u001b[0;34m\u001b[0m\u001b[0m\n",
      "\u001b[0;32m/opt/anaconda3/lib/python3.7/site-packages/py4j/java_gateway.py\u001b[0m in \u001b[0;36msend_command\u001b[0;34m(self, command)\u001b[0m\n\u001b[1;32m   1150\u001b[0m \u001b[0;34m\u001b[0m\u001b[0m\n\u001b[1;32m   1151\u001b[0m         \u001b[0;32mtry\u001b[0m\u001b[0;34m:\u001b[0m\u001b[0;34m\u001b[0m\u001b[0;34m\u001b[0m\u001b[0m\n\u001b[0;32m-> 1152\u001b[0;31m             \u001b[0manswer\u001b[0m \u001b[0;34m=\u001b[0m \u001b[0msmart_decode\u001b[0m\u001b[0;34m(\u001b[0m\u001b[0mself\u001b[0m\u001b[0;34m.\u001b[0m\u001b[0mstream\u001b[0m\u001b[0;34m.\u001b[0m\u001b[0mreadline\u001b[0m\u001b[0;34m(\u001b[0m\u001b[0;34m)\u001b[0m\u001b[0;34m[\u001b[0m\u001b[0;34m:\u001b[0m\u001b[0;34m-\u001b[0m\u001b[0;36m1\u001b[0m\u001b[0;34m]\u001b[0m\u001b[0;34m)\u001b[0m\u001b[0;34m\u001b[0m\u001b[0;34m\u001b[0m\u001b[0m\n\u001b[0m\u001b[1;32m   1153\u001b[0m             \u001b[0mlogger\u001b[0m\u001b[0;34m.\u001b[0m\u001b[0mdebug\u001b[0m\u001b[0;34m(\u001b[0m\u001b[0;34m\"Answer received: {0}\"\u001b[0m\u001b[0;34m.\u001b[0m\u001b[0mformat\u001b[0m\u001b[0;34m(\u001b[0m\u001b[0manswer\u001b[0m\u001b[0;34m)\u001b[0m\u001b[0;34m)\u001b[0m\u001b[0;34m\u001b[0m\u001b[0;34m\u001b[0m\u001b[0m\n\u001b[1;32m   1154\u001b[0m             \u001b[0;32mif\u001b[0m \u001b[0manswer\u001b[0m\u001b[0;34m.\u001b[0m\u001b[0mstartswith\u001b[0m\u001b[0;34m(\u001b[0m\u001b[0mproto\u001b[0m\u001b[0;34m.\u001b[0m\u001b[0mRETURN_MESSAGE\u001b[0m\u001b[0;34m)\u001b[0m\u001b[0;34m:\u001b[0m\u001b[0;34m\u001b[0m\u001b[0;34m\u001b[0m\u001b[0m\n",
      "\u001b[0;32m/opt/anaconda3/lib/python3.7/socket.py\u001b[0m in \u001b[0;36mreadinto\u001b[0;34m(self, b)\u001b[0m\n\u001b[1;32m    587\u001b[0m         \u001b[0;32mwhile\u001b[0m \u001b[0;32mTrue\u001b[0m\u001b[0;34m:\u001b[0m\u001b[0;34m\u001b[0m\u001b[0;34m\u001b[0m\u001b[0m\n\u001b[1;32m    588\u001b[0m             \u001b[0;32mtry\u001b[0m\u001b[0;34m:\u001b[0m\u001b[0;34m\u001b[0m\u001b[0;34m\u001b[0m\u001b[0m\n\u001b[0;32m--> 589\u001b[0;31m                 \u001b[0;32mreturn\u001b[0m \u001b[0mself\u001b[0m\u001b[0;34m.\u001b[0m\u001b[0m_sock\u001b[0m\u001b[0;34m.\u001b[0m\u001b[0mrecv_into\u001b[0m\u001b[0;34m(\u001b[0m\u001b[0mb\u001b[0m\u001b[0;34m)\u001b[0m\u001b[0;34m\u001b[0m\u001b[0;34m\u001b[0m\u001b[0m\n\u001b[0m\u001b[1;32m    590\u001b[0m             \u001b[0;32mexcept\u001b[0m \u001b[0mtimeout\u001b[0m\u001b[0;34m:\u001b[0m\u001b[0;34m\u001b[0m\u001b[0;34m\u001b[0m\u001b[0m\n\u001b[1;32m    591\u001b[0m                 \u001b[0mself\u001b[0m\u001b[0;34m.\u001b[0m\u001b[0m_timeout_occurred\u001b[0m \u001b[0;34m=\u001b[0m \u001b[0;32mTrue\u001b[0m\u001b[0;34m\u001b[0m\u001b[0;34m\u001b[0m\u001b[0m\n",
      "\u001b[0;31mKeyboardInterrupt\u001b[0m: "
     ]
    }
   ],
   "source": [
    "model = pipeline.fit(trainingData)"
   ]
  },
  {
   "cell_type": "code",
   "execution_count": null,
   "metadata": {},
   "outputs": [],
   "source": [
    "# Make predictions.\n",
    "predictions = model.transform(testData)\n",
    "\n",
    "# Select example rows to display.\n",
    "predictions.show(5)"
   ]
  },
  {
   "cell_type": "code",
   "execution_count": null,
   "metadata": {},
   "outputs": [],
   "source": [
    "import matplotlib.pyplot as plt\n",
    "\n",
    "evaluator = RegressionEvaluator(labelCol=\"label\", predictionCol=\"prediction\", metricName=\"rmse\")\n",
    "\n",
    "rmse = evaluator.evaluate(predictions)\n",
    "\n",
    "print(\"Model Performance RMSE: %f\" % rmse)"
   ]
  },
  {
   "cell_type": "code",
   "execution_count": null,
   "metadata": {},
   "outputs": [],
   "source": [
    "importances = model.featureImportances\n",
    "\n",
    "x_values = list(range(len(importances)))\n",
    "\n",
    "plt.bar(x_values, importances, orientation = 'vertical')\n",
    "plt.xticks(x_values, feature_list, rotation=40)\n",
    "plt.ylabel('Importance')\n",
    "plt.xlabel('Feature')\n",
    "plt.title('Feature Importances')"
   ]
  },
  {
   "cell_type": "code",
   "execution_count": null,
   "metadata": {},
   "outputs": [],
   "source": []
  },
  {
   "cell_type": "code",
   "execution_count": null,
   "metadata": {},
   "outputs": [],
   "source": []
  },
  {
   "cell_type": "code",
   "execution_count": null,
   "metadata": {},
   "outputs": [],
   "source": []
  },
  {
   "cell_type": "code",
   "execution_count": 1,
   "metadata": {},
   "outputs": [],
   "source": [
    "# Root - format convention\n",
    "from pyspark.sql import SQLContext\n",
    "from pyspark import SparkContext\n",
    "\n",
    "sc = SparkContext()\n",
    "sqlcontext = SQLContext(sc)\n",
    "\n",
    "crime_path = \"Crimes_-_2001_to_present.csv\"\n",
    "crime = sqlcontext.read.csv(crime_path, header = True)"
   ]
  },
  {
   "cell_type": "code",
   "execution_count": 2,
   "metadata": {},
   "outputs": [
    {
     "data": {
      "text/plain": [
       "DataFrame[ID: string, Case Number: string, Date: string, Block: string, IUCR: string, Primary Type: string, Description: string, Location Description: string, Arrest: string, Domestic: string, Beat: string, District: string, Ward: string, Community Area: string, FBI Code: string, X Coordinate: string, Y Coordinate: string, Year: string, Updated On: string, Latitude: string, Longitude: string, Location: string]"
      ]
     },
     "execution_count": 2,
     "metadata": {},
     "output_type": "execute_result"
    }
   ],
   "source": [
    "crime"
   ]
  },
  {
   "cell_type": "code",
   "execution_count": 3,
   "metadata": {
    "scrolled": true
   },
   "outputs": [
    {
     "name": "stdout",
     "output_type": "stream",
     "text": [
      "+--------+-----------+--------------------+--------------------+----+--------------------+--------------------+--------------------+------+--------+----+--------+----+--------------+--------+------------+------------+----+--------------------+--------+---------+--------+\n",
      "|      ID|Case Number|                Date|               Block|IUCR|        Primary Type|         Description|Location Description|Arrest|Domestic|Beat|District|Ward|Community Area|FBI Code|X Coordinate|Y Coordinate|Year|          Updated On|Latitude|Longitude|Location|\n",
      "+--------+-----------+--------------------+--------------------+----+--------------------+--------------------+--------------------+------+--------+----+--------+----+--------------+--------+------------+------------+----+--------------------+--------+---------+--------+\n",
      "|11034701|   JA366925|01/01/2001 11:00:...|     016XX E 86TH PL|1153|  DECEPTIVE PRACTICE|FINANCIAL IDENTIT...|           RESIDENCE| false|   false|0412|     004|   8|            45|      11|        null|        null|2001|08/05/2017 03:50:...|    null|     null|    null|\n",
      "|11227287|   JB147188|10/08/2017 03:00:...|  092XX S RACINE AVE|0281| CRIM SEXUAL ASSAULT|      NON-AGGRAVATED|           RESIDENCE| false|   false|2222|     022|  21|            73|      02|        null|        null|2017|02/11/2018 03:57:...|    null|     null|    null|\n",
      "|11227583|   JB147595|03/28/2017 02:00:...|     026XX W 79TH ST|0620|            BURGLARY|      UNLAWFUL ENTRY|               OTHER| false|   false|0835|     008|  18|            70|      05|        null|        null|2017|02/11/2018 03:57:...|    null|     null|    null|\n",
      "|11227293|   JB147230|09/09/2017 08:17:...|060XX S EBERHART AVE|0810|               THEFT|           OVER $500|           RESIDENCE| false|   false|0313|     003|  20|            42|      06|        null|        null|2017|02/11/2018 03:57:...|    null|     null|    null|\n",
      "|11227634|   JB147599|08/26/2017 10:00:...| 001XX W RANDOLPH ST|0281| CRIM SEXUAL ASSAULT|      NON-AGGRAVATED|         HOTEL/MOTEL| false|   false|0122|     001|  42|            32|      02|        null|        null|2017|02/11/2018 03:57:...|    null|     null|    null|\n",
      "|11227517|   JB138481|02/10/2013 12:00:...|071XX S LAFAYETTE...|0266| CRIM SEXUAL ASSAULT|           PREDATORY|           RESIDENCE| false|   false|0731|     007|   6|            69|      02|        null|        null|2013|02/11/2018 03:57:...|    null|     null|    null|\n",
      "|11227503|   JB146383|01/01/2015 12:01:...|061XX S KILBOURN AVE|1751|OFFENSE INVOLVING...|CRIM SEX ABUSE BY...|           RESIDENCE| false|    true|0813|     008|  13|            65|      17|        null|        null|2015|04/12/2019 04:00:...|    null|     null|    null|\n",
      "|11227508|   JB146365|01/01/2017 12:01:...|  027XX S WHIPPLE ST|1754|OFFENSE INVOLVING...|AGG SEX ASSLT OF ...|           RESIDENCE| false|   false|1033|     010|  12|            30|      02|        null|        null|2017|02/11/2018 03:57:...|    null|     null|    null|\n",
      "|11022695|   JA353568|07/17/2017 10:10:...| 021XX W MC LEAN AVE|0810|               THEFT|           OVER $500|           RESIDENCE| false|   false|1432|     014|  32|            22|      06|        null|        null|2017|07/24/2017 03:54:...|    null|     null|    null|\n",
      "|11227633|   JB147500|12/28/2017 03:55:...|011XX S MICHIGAN AVE|1153|  DECEPTIVE PRACTICE|FINANCIAL IDENTIT...|                null| false|   false|0123|     001|   2|            32|      11|        null|        null|2017|02/11/2018 03:57:...|    null|     null|    null|\n",
      "+--------+-----------+--------------------+--------------------+----+--------------------+--------------------+--------------------+------+--------+----+--------+----+--------------+--------+------------+------------+----+--------------------+--------+---------+--------+\n",
      "only showing top 10 rows\n",
      "\n"
     ]
    }
   ],
   "source": [
    "crime.show(10)"
   ]
  },
  {
   "cell_type": "code",
   "execution_count": 4,
   "metadata": {},
   "outputs": [
    {
     "data": {
      "text/plain": [
       "['ID',\n",
       " 'Case Number',\n",
       " 'Date',\n",
       " 'Block',\n",
       " 'IUCR',\n",
       " 'Primary Type',\n",
       " 'Description',\n",
       " 'Location Description',\n",
       " 'Arrest',\n",
       " 'Domestic',\n",
       " 'Beat',\n",
       " 'District',\n",
       " 'Ward',\n",
       " 'Community Area',\n",
       " 'FBI Code',\n",
       " 'X Coordinate',\n",
       " 'Y Coordinate',\n",
       " 'Year',\n",
       " 'Updated On',\n",
       " 'Latitude',\n",
       " 'Longitude',\n",
       " 'Location']"
      ]
     },
     "execution_count": 4,
     "metadata": {},
     "output_type": "execute_result"
    }
   ],
   "source": [
    "crime.columns"
   ]
  },
  {
   "cell_type": "code",
   "execution_count": 3,
   "metadata": {},
   "outputs": [
    {
     "name": "stdout",
     "output_type": "stream",
     "text": [
      "root\n",
      " |-- ID: string (nullable = true)\n",
      " |-- Case Number: string (nullable = true)\n",
      " |-- Date: string (nullable = true)\n",
      " |-- Block: string (nullable = true)\n",
      " |-- IUCR: string (nullable = true)\n",
      " |-- Primary Type: string (nullable = true)\n",
      " |-- Description: string (nullable = true)\n",
      " |-- Location Description: string (nullable = true)\n",
      " |-- Arrest: string (nullable = true)\n",
      " |-- Domestic: string (nullable = true)\n",
      " |-- Beat: string (nullable = true)\n",
      " |-- District: string (nullable = true)\n",
      " |-- Ward: string (nullable = true)\n",
      " |-- Community Area: string (nullable = true)\n",
      " |-- FBI Code: string (nullable = true)\n",
      " |-- X Coordinate: string (nullable = true)\n",
      " |-- Y Coordinate: string (nullable = true)\n",
      " |-- Year: string (nullable = true)\n",
      " |-- Updated On: string (nullable = true)\n",
      " |-- Latitude: string (nullable = true)\n",
      " |-- Longitude: string (nullable = true)\n",
      " |-- Location: string (nullable = true)\n",
      "\n"
     ]
    }
   ],
   "source": [
    "crime.printSchema()"
   ]
  },
  {
   "cell_type": "code",
   "execution_count": 6,
   "metadata": {
    "scrolled": false
   },
   "outputs": [
    {
     "name": "stdout",
     "output_type": "stream",
     "text": [
      "+----------------------+\n",
      "|Date                  |\n",
      "+----------------------+\n",
      "|01/01/2001 11:00:00 AM|\n",
      "|10/08/2017 03:00:00 AM|\n",
      "|03/28/2017 02:00:00 PM|\n",
      "|09/09/2017 08:17:00 PM|\n",
      "|08/26/2017 10:00:00 AM|\n",
      "|02/10/2013 12:00:00 AM|\n",
      "|01/01/2015 12:01:00 AM|\n",
      "|01/01/2017 12:01:00 AM|\n",
      "|07/17/2017 10:10:00 AM|\n",
      "|12/28/2017 03:55:00 PM|\n",
      "+----------------------+\n",
      "only showing top 10 rows\n",
      "\n"
     ]
    }
   ],
   "source": [
    "crime.select(\"Date\").show(10, truncate = False)"
   ]
  },
  {
   "cell_type": "markdown",
   "metadata": {},
   "source": [
    "## Exercise 1"
   ]
  },
  {
   "cell_type": "code",
   "execution_count": 8,
   "metadata": {},
   "outputs": [],
   "source": [
    "# import datetime\n",
    "# from pyspark.sql.functions import *\n",
    "\n",
    "# ### Get Month from date in pyspark\n",
    "# new_crime = crime.withColumn('date_time', to_timestamp('Date', 'MM/dd/yyyy hh:mm:ss a'))\\\n",
    "#                  .where(col('date_time').isNotNull())\\\n",
    "#                  .withColumn('Month', month('date_time'))\n",
    "# #        .withColumn('Month', trunc('date_time', 'mm'))"
   ]
  },
  {
   "cell_type": "code",
   "execution_count": 9,
   "metadata": {},
   "outputs": [],
   "source": [
    "from pyspark.sql.functions import *\n",
    "from datetime import datetime\n",
    "\n",
    "funcMonth =  udf(lambda x: datetime.strptime(x, '%m/%d/%Y %H:%M:%S %p').strftime('%m'))\n",
    "\n",
    "### Get Month from date in pyspark\n",
    "new_crime = crime.withColumn('Month', funcMonth(col('Date')))"
   ]
  },
  {
   "cell_type": "code",
   "execution_count": 10,
   "metadata": {
    "scrolled": true
   },
   "outputs": [
    {
     "name": "stdout",
     "output_type": "stream",
     "text": [
      "+----------------------+-----+\n",
      "|Date                  |Month|\n",
      "+----------------------+-----+\n",
      "|01/01/2001 11:00:00 AM|01   |\n",
      "|10/08/2017 03:00:00 AM|10   |\n",
      "|03/28/2017 02:00:00 PM|03   |\n",
      "|09/09/2017 08:17:00 PM|09   |\n",
      "|08/26/2017 10:00:00 AM|08   |\n",
      "|02/10/2013 12:00:00 AM|02   |\n",
      "|01/01/2015 12:01:00 AM|01   |\n",
      "|01/01/2017 12:01:00 AM|01   |\n",
      "|07/17/2017 10:10:00 AM|07   |\n",
      "|12/28/2017 03:55:00 PM|12   |\n",
      "+----------------------+-----+\n",
      "only showing top 10 rows\n",
      "\n"
     ]
    }
   ],
   "source": [
    "new_crime.select(\"Date\",\"Month\").show(10, truncate = False)"
   ]
  },
  {
   "cell_type": "code",
   "execution_count": 11,
   "metadata": {},
   "outputs": [],
   "source": [
    "monthly_crime = new_crime.groupBy('Year','Month').count().orderBy(\"count\", ascending=False)"
   ]
  },
  {
   "cell_type": "code",
   "execution_count": 12,
   "metadata": {},
   "outputs": [
    {
     "name": "stdout",
     "output_type": "stream",
     "text": [
      "+----+-----+-----+\n",
      "|Year|Month|count|\n",
      "+----+-----+-----+\n",
      "|2002|   07|46013|\n",
      "|2001|   07|44693|\n",
      "|2003|   08|44269|\n",
      "|2002|   08|44210|\n",
      "|2001|   08|44032|\n",
      "|2003|   07|43416|\n",
      "|2003|   10|43328|\n",
      "|2004|   07|43238|\n",
      "|2002|   10|43144|\n",
      "|2004|   08|43044|\n",
      "|2001|   10|43028|\n",
      "|2002|   05|42913|\n",
      "|2002|   06|42835|\n",
      "|2002|   09|42388|\n",
      "|2001|   05|41821|\n",
      "|2005|   07|41807|\n",
      "|2001|   06|41725|\n",
      "|2006|   07|41549|\n",
      "|2005|   08|41544|\n",
      "|2004|   10|41524|\n",
      "+----+-----+-----+\n",
      "only showing top 20 rows\n",
      "\n"
     ]
    }
   ],
   "source": [
    "monthly_crime.show()"
   ]
  },
  {
   "cell_type": "code",
   "execution_count": 13,
   "metadata": {},
   "outputs": [],
   "source": [
    "avg_monthly_crime = monthly_crime.groupBy('Month').mean('count').orderBy(\"avg(count)\", ascending=False)"
   ]
  },
  {
   "cell_type": "code",
   "execution_count": 14,
   "metadata": {},
   "outputs": [
    {
     "name": "stdout",
     "output_type": "stream",
     "text": [
      "+-----+------------------+\n",
      "|Month|avg(count)        |\n",
      "+-----+------------------+\n",
      "|07   |34506.05263157895 |\n",
      "|08   |34159.15789473684 |\n",
      "|05   |32995.73684210526 |\n",
      "|06   |32839.52631578947 |\n",
      "|10   |32353.894736842107|\n",
      "+-----+------------------+\n",
      "only showing top 5 rows\n",
      "\n"
     ]
    }
   ],
   "source": [
    "avg_monthly_crime.show(5, truncate=False)"
   ]
  },
  {
   "cell_type": "code",
   "execution_count": 49,
   "metadata": {},
   "outputs": [
    {
     "name": "stdout",
     "output_type": "stream",
     "text": [
      "+----------------------+----------------------+\n",
      "|first_record_date     |latest_record_date    |\n",
      "+----------------------+----------------------+\n",
      "|01/01/2001 01:00:00 AM|12/31/2019 12:58:00 AM|\n",
      "+----------------------+----------------------+\n",
      "\n"
     ]
    }
   ],
   "source": [
    "crime.select(min('Date').alias('first_record_date'), max('Date').alias('latest_record_date')).show(truncate=False)"
   ]
  },
  {
   "cell_type": "code",
   "execution_count": 16,
   "metadata": {},
   "outputs": [],
   "source": [
    "pddf_crime = avg_monthly_crime.toPandas()"
   ]
  },
  {
   "cell_type": "code",
   "execution_count": 12,
   "metadata": {},
   "outputs": [],
   "source": [
    "pddf_crime['Month'] = pddf_crime['Month'].apply(lambda x: int(x))\n",
    "# round decimal and plus 1 \n",
    "pddf_crime.iloc[:,1] = pddf_crime.iloc[:,1].apply(lambda x: int(x)+1)\n",
    "pddf_crime.rename(columns={'avg(count)':'Average Monthly Crime Events'},inplace=True)"
   ]
  },
  {
   "cell_type": "code",
   "execution_count": 13,
   "metadata": {},
   "outputs": [
    {
     "data": {
      "text/html": [
       "<div>\n",
       "<style scoped>\n",
       "    .dataframe tbody tr th:only-of-type {\n",
       "        vertical-align: middle;\n",
       "    }\n",
       "\n",
       "    .dataframe tbody tr th {\n",
       "        vertical-align: top;\n",
       "    }\n",
       "\n",
       "    .dataframe thead th {\n",
       "        text-align: right;\n",
       "    }\n",
       "</style>\n",
       "<table border=\"1\" class=\"dataframe\">\n",
       "  <thead>\n",
       "    <tr style=\"text-align: right;\">\n",
       "      <th></th>\n",
       "      <th>Month</th>\n",
       "      <th>Average Monthly Crime Events</th>\n",
       "    </tr>\n",
       "  </thead>\n",
       "  <tbody>\n",
       "    <tr>\n",
       "      <th>0</th>\n",
       "      <td>7</td>\n",
       "      <td>34507</td>\n",
       "    </tr>\n",
       "    <tr>\n",
       "      <th>1</th>\n",
       "      <td>8</td>\n",
       "      <td>34160</td>\n",
       "    </tr>\n",
       "    <tr>\n",
       "      <th>2</th>\n",
       "      <td>5</td>\n",
       "      <td>32996</td>\n",
       "    </tr>\n",
       "    <tr>\n",
       "      <th>3</th>\n",
       "      <td>6</td>\n",
       "      <td>32840</td>\n",
       "    </tr>\n",
       "    <tr>\n",
       "      <th>4</th>\n",
       "      <td>10</td>\n",
       "      <td>32354</td>\n",
       "    </tr>\n",
       "    <tr>\n",
       "      <th>5</th>\n",
       "      <td>9</td>\n",
       "      <td>32009</td>\n",
       "    </tr>\n",
       "    <tr>\n",
       "      <th>6</th>\n",
       "      <td>3</td>\n",
       "      <td>29708</td>\n",
       "    </tr>\n",
       "    <tr>\n",
       "      <th>7</th>\n",
       "      <td>4</td>\n",
       "      <td>29537</td>\n",
       "    </tr>\n",
       "    <tr>\n",
       "      <th>8</th>\n",
       "      <td>11</td>\n",
       "      <td>29135</td>\n",
       "    </tr>\n",
       "    <tr>\n",
       "      <th>9</th>\n",
       "      <td>1</td>\n",
       "      <td>28405</td>\n",
       "    </tr>\n",
       "    <tr>\n",
       "      <th>10</th>\n",
       "      <td>12</td>\n",
       "      <td>27659</td>\n",
       "    </tr>\n",
       "    <tr>\n",
       "      <th>11</th>\n",
       "      <td>2</td>\n",
       "      <td>25015</td>\n",
       "    </tr>\n",
       "  </tbody>\n",
       "</table>\n",
       "</div>"
      ],
      "text/plain": [
       "    Month  Average Monthly Crime Events\n",
       "0       7                         34507\n",
       "1       8                         34160\n",
       "2       5                         32996\n",
       "3       6                         32840\n",
       "4      10                         32354\n",
       "5       9                         32009\n",
       "6       3                         29708\n",
       "7       4                         29537\n",
       "8      11                         29135\n",
       "9       1                         28405\n",
       "10     12                         27659\n",
       "11      2                         25015"
      ]
     },
     "execution_count": 13,
     "metadata": {},
     "output_type": "execute_result"
    }
   ],
   "source": [
    "pddf_crime"
   ]
  },
  {
   "cell_type": "code",
   "execution_count": 15,
   "metadata": {},
   "outputs": [
    {
     "data": {
      "image/png": "[encoded data removed]",
      "text/plain": [
       "<Figure size 432x288 with 1 Axes>"
      ]
     },
     "metadata": {
      "needs_background": "light"
     },
     "output_type": "display_data"
    }
   ],
   "source": [
    "ax = pddf_crime.plot.bar(x='Month', y='Average Monthly Crime Events')\n",
    "#ax.figure.savefig('average_monthly_crime_events.jpg',dpi=480)"
   ]
  },
  {
   "cell_type": "code",
   "execution_count": 196,
   "metadata": {},
   "outputs": [],
   "source": [
    "pddf_crime.to_csv(\"zhu_1.txt\",index=None, sep='\\t', mode='a')"
   ]
  },
  {
   "cell_type": "code",
   "execution_count": 14,
   "metadata": {},
   "outputs": [],
   "source": [
    "writePath = '/Users/zach/hw2/zhu_1.txt'\n",
    "with open(writePath, 'a') as f:\n",
    "    f.write(pddf_crime.to_string(header = False, index = False))"
   ]
  },
  {
   "cell_type": "code",
   "execution_count": null,
   "metadata": {},
   "outputs": [],
   "source": []
  },
  {
   "cell_type": "markdown",
   "metadata": {},
   "source": [
    "## Exercise4"
   ]
  },
  {
   "cell_type": "code",
   "execution_count": 25,
   "metadata": {},
   "outputs": [],
   "source": [
    "from pyspark.sql.functions import *\n",
    "from datetime import datetime"
   ]
  },
  {
   "cell_type": "code",
   "execution_count": 26,
   "metadata": {},
   "outputs": [
    {
     "ename": "NameError",
     "evalue": "name 'crime' is not defined",
     "output_type": "error",
     "traceback": [
      "\u001b[0;31m---------------------------------------------------------------------------\u001b[0m",
      "\u001b[0;31mNameError\u001b[0m                                 Traceback (most recent call last)",
      "\u001b[0;32m<ipython-input-26-7a2268858a76>\u001b[0m in \u001b[0;36m<module>\u001b[0;34m\u001b[0m\n\u001b[0;32m----> 1\u001b[0;31m \u001b[0mcrime4\u001b[0m \u001b[0;34m=\u001b[0m \u001b[0mcrime\u001b[0m\u001b[0;34m.\u001b[0m\u001b[0mfilter\u001b[0m\u001b[0;34m(\u001b[0m\u001b[0mcrime\u001b[0m\u001b[0;34m[\u001b[0m\u001b[0;34m\"Arrest\"\u001b[0m\u001b[0;34m]\u001b[0m\u001b[0;34m==\u001b[0m\u001b[0;34m\"true\"\u001b[0m\u001b[0;34m)\u001b[0m\u001b[0;34m\u001b[0m\u001b[0;34m\u001b[0m\u001b[0m\n\u001b[0m",
      "\u001b[0;31mNameError\u001b[0m: name 'crime' is not defined"
     ]
    }
   ],
   "source": [
    "crime4 = crime.filter(crime[\"Arrest\"]==\"true\")"
   ]
  },
  {
   "cell_type": "code",
   "execution_count": 126,
   "metadata": {},
   "outputs": [
    {
     "data": {
      "text/plain": [
       "1948462"
      ]
     },
     "execution_count": 126,
     "metadata": {},
     "output_type": "execute_result"
    }
   ],
   "source": [
    "crime4.count()"
   ]
  },
  {
   "cell_type": "code",
   "execution_count": 178,
   "metadata": {},
   "outputs": [],
   "source": [
    "# function to get day of the week\n",
    "funcWeekDay =  udf(lambda x: datetime.strptime(x, '%m/%d/%Y %I:%M:%S %p').strftime('%w'))\n",
    "funcHour =  udf(lambda x: datetime.strptime(x, '%m/%d/%Y %I:%M:%S %p').strftime('%H'))\n",
    "\n",
    "\n",
    "# get month, weekday and time of the day (hour) \n",
    "crime4 = crime4.withColumn('Month', col('Date').substr(1, 2))\\\n",
    "               .withColumn('Hour',funcHour(col('Date')))\\\n",
    "               .withColumn('weekDay', funcWeekDay(col('Date')))"
   ]
  },
  {
   "cell_type": "code",
   "execution_count": 124,
   "metadata": {},
   "outputs": [
    {
     "name": "stdout",
     "output_type": "stream",
     "text": [
      "+------+----------------------+----+-----+-------+---------+\n",
      "|Arrest|Date                  |Year|Month|weekDay|partDay  |\n",
      "+------+----------------------+----+-----+-------+---------+\n",
      "|true  |01/01/2011 12:01:00 AM|2011|1    |6      |night    |\n",
      "|true  |09/01/2014 08:00:00 AM|2014|9    |1      |morning  |\n",
      "|true  |08/24/2017 03:18:00 PM|2017|8    |4      |afternoon|\n",
      "|true  |07/01/2018 11:59:00 AM|2018|7    |0      |morning  |\n",
      "|true  |07/16/2014 10:50:00 AM|2014|7    |3      |morning  |\n",
      "|true  |10/10/2018 10:00:00 AM|2018|10   |3      |morning  |\n",
      "|true  |05/24/2018 06:00:00 AM|2018|5    |4      |morning  |\n",
      "|true  |01/24/2009 06:00:00 PM|2009|1    |6      |evening  |\n",
      "|true  |05/30/2014 11:06:56 AM|2014|5    |5      |morning  |\n",
      "|true  |10/10/2018 11:25:00 AM|2018|10   |3      |morning  |\n",
      "+------+----------------------+----+-----+-------+---------+\n",
      "only showing top 10 rows\n",
      "\n"
     ]
    }
   ],
   "source": [
    "crime4.select('Arrest','Date','Year','Month','weekDay','partDay').show(10, truncate = False)"
   ]
  },
  {
   "cell_type": "code",
   "execution_count": 179,
   "metadata": {
    "scrolled": true
   },
   "outputs": [
    {
     "name": "stdout",
     "output_type": "stream",
     "text": [
      "root\n",
      " |-- ID: string (nullable = true)\n",
      " |-- Case Number: string (nullable = true)\n",
      " |-- Date: string (nullable = true)\n",
      " |-- Block: string (nullable = true)\n",
      " |-- IUCR: string (nullable = true)\n",
      " |-- Primary Type: string (nullable = true)\n",
      " |-- Description: string (nullable = true)\n",
      " |-- Location Description: string (nullable = true)\n",
      " |-- Arrest: string (nullable = true)\n",
      " |-- Domestic: string (nullable = true)\n",
      " |-- Beat: string (nullable = true)\n",
      " |-- District: string (nullable = true)\n",
      " |-- Ward: string (nullable = true)\n",
      " |-- Community Area: string (nullable = true)\n",
      " |-- FBI Code: string (nullable = true)\n",
      " |-- X Coordinate: string (nullable = true)\n",
      " |-- Y Coordinate: string (nullable = true)\n",
      " |-- Year: string (nullable = true)\n",
      " |-- Updated On: string (nullable = true)\n",
      " |-- Latitude: string (nullable = true)\n",
      " |-- Longitude: string (nullable = true)\n",
      " |-- Location: string (nullable = true)\n",
      " |-- date_time: timestamp (nullable = true)\n",
      " |-- Month: integer (nullable = true)\n",
      " |-- weekDay: string (nullable = true)\n",
      " |-- hour: integer (nullable = true)\n",
      " |-- partDay: string (nullable = true)\n",
      "\n"
     ]
    }
   ],
   "source": [
    "crime4.printSchema()"
   ]
  },
  {
   "cell_type": "code",
   "execution_count": 147,
   "metadata": {},
   "outputs": [
    {
     "name": "stdout",
     "output_type": "stream",
     "text": [
      "+-------+\n",
      "|weekDay|\n",
      "+-------+\n",
      "|      3|\n",
      "|      0|\n",
      "|      5|\n",
      "|      6|\n",
      "|      1|\n",
      "|      4|\n",
      "|      2|\n",
      "+-------+\n",
      "\n"
     ]
    }
   ],
   "source": [
    "crime4.select('weekDay').distinct().show()"
   ]
  },
  {
   "cell_type": "code",
   "execution_count": 144,
   "metadata": {},
   "outputs": [
    {
     "name": "stdout",
     "output_type": "stream",
     "text": [
      "+---------+\n",
      "|  partDay|\n",
      "+---------+\n",
      "|afternoon|\n",
      "|    night|\n",
      "|  morning|\n",
      "|  evening|\n",
      "+---------+\n",
      "\n"
     ]
    }
   ],
   "source": [
    "crime4.select('partDay').distinct().show()"
   ]
  },
  {
   "cell_type": "code",
   "execution_count": 134,
   "metadata": {},
   "outputs": [
    {
     "name": "stdout",
     "output_type": "stream",
     "text": [
      "+-----+\n",
      "|Month|\n",
      "+-----+\n",
      "|   12|\n",
      "| null|\n",
      "|    1|\n",
      "|    6|\n",
      "|    3|\n",
      "|    5|\n",
      "|    9|\n",
      "|    4|\n",
      "|    8|\n",
      "|    7|\n",
      "|   10|\n",
      "|   11|\n",
      "|    2|\n",
      "+-----+\n",
      "\n"
     ]
    }
   ],
   "source": [
    "crime4.select('Month').distinct().show()"
   ]
  },
  {
   "cell_type": "code",
   "execution_count": null,
   "metadata": {},
   "outputs": [],
   "source": []
  },
  {
   "cell_type": "code",
   "execution_count": null,
   "metadata": {},
   "outputs": [],
   "source": []
  },
  {
   "cell_type": "markdown",
   "metadata": {},
   "source": [
    "## with arrest with respect to time of the day"
   ]
  },
  {
   "cell_type": "code",
   "execution_count": 181,
   "metadata": {},
   "outputs": [],
   "source": [
    "time_arrest = crime4.groupBy('hour').count().orderBy('count', ascending=False)\n",
    "pddf_time_day_arrest = time_arrest.toPandas()\n",
    "pddf_time_day_arrest.rename(columns={'count':'Time Of Day Crimes with Arrest'},inplace=True)"
   ]
  },
  {
   "cell_type": "code",
   "execution_count": 201,
   "metadata": {},
   "outputs": [
    {
     "data": {
      "image/png": "[encoded data removed]",
      "text/plain": [
       "<Figure size 432x288 with 1 Axes>"
      ]
     },
     "metadata": {
      "needs_background": "light"
     },
     "output_type": "display_data"
    }
   ],
   "source": [
    "ax = pddf_time_day_arrest.plot.bar(x='hour', y='Time Of Day Crimes with Arrest')\n",
    "ax.figure.savefig('time_of_day_crime_arrest.jpg',dpi=480)"
   ]
  },
  {
   "cell_type": "code",
   "execution_count": 205,
   "metadata": {},
   "outputs": [
    {
     "data": {
      "image/png": "[encoded data removed]",
      "text/plain": [
       "<Figure size 432x288 with 1 Axes>"
      ]
     },
     "metadata": {
      "needs_background": "light"
     },
     "output_type": "display_data"
    }
   ],
   "source": [
    "import numpy as np\n",
    "ax = pddf_time_day_arrest.sort_values(by='hour').plot.line(x='hour', y='Time Of Day Crimes with Arrest',grid=True)\n",
    "major_ticks = np.arange(0, 24, 1)\n",
    "ax.set_xticks(major_ticks)\n",
    "ax.figure.savefig('time_of_day_crime_arrest_line.jpg',dpi=480)"
   ]
  },
  {
   "cell_type": "markdown",
   "metadata": {},
   "source": [
    "## with arrest with respect to day of the week"
   ]
  },
  {
   "cell_type": "code",
   "execution_count": 206,
   "metadata": {},
   "outputs": [],
   "source": [
    "weekday_arrest = crime4.groupBy('weekDay').count().orderBy('count', ascending=False)\n",
    "pddf_weekday_arrest = weekday_arrest.toPandas()\n",
    "pddf_weekday_arrest['weekDay'] = pddf_weekday_arrest['weekDay'].apply(lambda x: int(x))\n",
    "pddf_weekday_arrest.rename(columns={'count':'Week of Day Crimes with Arrest'},inplace=True)"
   ]
  },
  {
   "cell_type": "code",
   "execution_count": 209,
   "metadata": {},
   "outputs": [
    {
     "data": {
      "image/png": "[encoded data removed]",
      "text/plain": [
       "<Figure size 432x288 with 1 Axes>"
      ]
     },
     "metadata": {
      "needs_background": "light"
     },
     "output_type": "display_data"
    }
   ],
   "source": [
    "ax = pddf_weekday_arrest.plot.bar(x='weekDay', y='Week of Day Crimes with Arrest')\n",
    "ax.figure.savefig('weekDay_crime_arrest.jpg',dpi=480)"
   ]
  },
  {
   "cell_type": "code",
   "execution_count": 212,
   "metadata": {},
   "outputs": [
    {
     "data": {
      "image/png": "[encoded data removed]",
      "text/plain": [
       "<Figure size 432x288 with 1 Axes>"
      ]
     },
     "metadata": {
      "needs_background": "light"
     },
     "output_type": "display_data"
    }
   ],
   "source": [
    "ax = pddf_weekday_arrest.sort_values(by='weekDay').plot.line(x='weekDay', y='Week of Day Crimes with Arrest',grid=True)\n",
    "major_ticks = np.arange(0, 6, 1)\n",
    "ax.set_xticks(major_ticks)\n",
    "ax.figure.savefig('weekDay_crime_arrest_line.jpg',dpi=480)"
   ]
  },
  {
   "cell_type": "code",
   "execution_count": null,
   "metadata": {},
   "outputs": [],
   "source": []
  },
  {
   "cell_type": "markdown",
   "metadata": {},
   "source": [
    "## with arrest with respect to month"
   ]
  },
  {
   "cell_type": "code",
   "execution_count": 213,
   "metadata": {},
   "outputs": [],
   "source": [
    "monthly_arrest = crime4.groupBy('Month').count().orderBy('count', ascending=False)\n",
    "pddf_monthly_arrest = monthly_arrest.toPandas()\n",
    "pddf_monthly_arrest['Month'] = pddf_monthly_arrest['Month'].apply(lambda x: int(x))\n",
    "pddf_monthly_arrest.rename(columns={'count':'Monthly Crimes with Arrest'},inplace=True)"
   ]
  },
  {
   "cell_type": "code",
   "execution_count": 214,
   "metadata": {},
   "outputs": [
    {
     "data": {
      "image/png": "[encoded data removed]",
      "text/plain": [
       "<Figure size 432x288 with 1 Axes>"
      ]
     },
     "metadata": {
      "needs_background": "light"
     },
     "output_type": "display_data"
    }
   ],
   "source": [
    "ax = pddf_monthly_arrest.plot.bar(x='Month', y='Monthly Crimes with Arrest')\n",
    "ax.figure.savefig('monthly_crime_arrest.jpg',dpi=480)"
   ]
  },
  {
   "cell_type": "code",
   "execution_count": 215,
   "metadata": {},
   "outputs": [
    {
     "data": {
      "image/png": "[encoded data removed]",
      "text/plain": [
       "<Figure size 432x288 with 1 Axes>"
      ]
     },
     "metadata": {
      "needs_background": "light"
     },
     "output_type": "display_data"
    }
   ],
   "source": [
    "ax = pddf_monthly_arrest.sort_values(by='Month').plot.line(x='Month', y='Monthly Crimes with Arrest',grid=True)\n",
    "major_ticks = np.arange(1, 12, 1)\n",
    "ax.set_xticks(major_ticks)\n",
    "ax.figure.savefig('monthly_crime_arrest_line.jpg',dpi=480)"
   ]
  },
  {
   "cell_type": "code",
   "execution_count": null,
   "metadata": {},
   "outputs": [],
   "source": []
  },
  {
   "cell_type": "code",
   "execution_count": null,
   "metadata": {},
   "outputs": [],
   "source": []
  },
  {
   "cell_type": "code",
   "execution_count": null,
   "metadata": {},
   "outputs": [],
   "source": []
  },
  {
   "cell_type": "code",
   "execution_count": 6,
   "metadata": {},
   "outputs": [],
   "source": [
    "# Data Cleansing/Imputation Steps\n",
    "from pyspark.sql.functions import *\n",
    "\n",
    "titanic = titanic.withColumn(\"Embarked\", \n",
    "                             when(col('Embarked') == '', \"C\")\\\n",
    "                             .otherwise(col('Embarked')))"
   ]
  },
  {
   "cell_type": "code",
   "execution_count": 7,
   "metadata": {},
   "outputs": [
    {
     "name": "stdout",
     "output_type": "stream",
     "text": [
      "+-----------+--------+------+--------------------+------+----+-----+-----+----------------+-------+-----+--------+\n",
      "|PassengerId|Survived|Pclass|                Name|   Sex| Age|SibSp|Parch|          Ticket|   Fare|Cabin|Embarked|\n",
      "+-----------+--------+------+--------------------+------+----+-----+-----+----------------+-------+-----+--------+\n",
      "|          1|       0|     3|Braund, Mr. Owen ...|  male|  22|    1|    0|       A/5 21171|   7.25| null|       S|\n",
      "|          2|       1|     1|Cumings, Mrs. Joh...|female|  38|    1|    0|        PC 17599|71.2833|  C85|       C|\n",
      "|          3|       1|     3|Heikkinen, Miss. ...|female|  26|    0|    0|STON/O2. 3101282|  7.925| null|       S|\n",
      "|          4|       1|     1|Futrelle, Mrs. Ja...|female|  35|    1|    0|          113803|   53.1| C123|       S|\n",
      "|          5|       0|     3|Allen, Mr. Willia...|  male|  35|    0|    0|          373450|   8.05| null|       S|\n",
      "|          6|       0|     3|    Moran, Mr. James|  male|null|    0|    0|          330877| 8.4583| null|       Q|\n",
      "|          7|       0|     1|McCarthy, Mr. Tim...|  male|  54|    0|    0|           17463|51.8625|  E46|       S|\n",
      "|          8|       0|     3|Palsson, Master. ...|  male|   2|    3|    1|          349909| 21.075| null|       S|\n",
      "|          9|       1|     3|Johnson, Mrs. Osc...|female|  27|    0|    2|          347742|11.1333| null|       S|\n",
      "|         10|       1|     2|Nasser, Mrs. Nich...|female|  14|    1|    0|          237736|30.0708| null|       C|\n",
      "+-----------+--------+------+--------------------+------+----+-----+-----+----------------+-------+-----+--------+\n",
      "only showing top 10 rows\n",
      "\n"
     ]
    }
   ],
   "source": [
    "titanic.show(10)"
   ]
  },
  {
   "cell_type": "code",
   "execution_count": 8,
   "metadata": {},
   "outputs": [],
   "source": [
    "from pyspark.sql.types import DoubleType\n",
    "from pyspark.ml.feature import Imputer\n",
    "#NOT mllib\n",
    "\n",
    "titanic = titanic.withColumn(\"Age\", titanic[\"Age\"].cast(DoubleType()))\n",
    "\n",
    "#Fill empty ages with the mean age of all passengers, rather than remove the nulls\n",
    "imputer = Imputer(\n",
    "    inputCols=['Age'],\n",
    "    outputCols=[\"new_Age\"]\n",
    ")\n",
    "titanic = imputer.setStrategy(\"mean\").fit(titanic).transform(titanic)"
   ]
  },
  {
   "cell_type": "code",
   "execution_count": 9,
   "metadata": {},
   "outputs": [
    {
     "ename": "AttributeError",
     "evalue": "'ImputerModel' object has no attribute 'show'",
     "output_type": "error",
     "traceback": [
      "\u001b[0;31m---------------------------------------------------------------------------\u001b[0m",
      "\u001b[0;31mAttributeError\u001b[0m                            Traceback (most recent call last)",
      "\u001b[0;32m<ipython-input-9-d870af4d1744>\u001b[0m in \u001b[0;36m<module>\u001b[0;34m\u001b[0m\n\u001b[1;32m      1\u001b[0m \u001b[0mtemp\u001b[0m \u001b[0;34m=\u001b[0m \u001b[0mimputer\u001b[0m\u001b[0;34m.\u001b[0m\u001b[0msetStrategy\u001b[0m\u001b[0;34m(\u001b[0m\u001b[0;34m\"mean\"\u001b[0m\u001b[0;34m)\u001b[0m\u001b[0;34m.\u001b[0m\u001b[0mfit\u001b[0m\u001b[0;34m(\u001b[0m\u001b[0mtitanic\u001b[0m\u001b[0;34m)\u001b[0m\u001b[0;34m\u001b[0m\u001b[0;34m\u001b[0m\u001b[0m\n\u001b[0;32m----> 2\u001b[0;31m \u001b[0mtemp\u001b[0m\u001b[0;34m.\u001b[0m\u001b[0mshow\u001b[0m\u001b[0;34m(\u001b[0m\u001b[0;36m10\u001b[0m\u001b[0;34m)\u001b[0m\u001b[0;34m\u001b[0m\u001b[0;34m\u001b[0m\u001b[0m\n\u001b[0m",
      "\u001b[0;31mAttributeError\u001b[0m: 'ImputerModel' object has no attribute 'show'"
     ]
    }
   ],
   "source": [
    "temp = imputer.setStrategy(\"mean\").fit(titanic)\n",
    "temp.show(10)"
   ]
  },
  {
   "cell_type": "code",
   "execution_count": 10,
   "metadata": {},
   "outputs": [
    {
     "name": "stdout",
     "output_type": "stream",
     "text": [
      "+-----------+--------+----+-----------------+\n",
      "|PassengerId|Survived| Age|          new_Age|\n",
      "+-----------+--------+----+-----------------+\n",
      "|          1|       0|22.0|             22.0|\n",
      "|          2|       1|38.0|             38.0|\n",
      "|          3|       1|26.0|             26.0|\n",
      "|          4|       1|35.0|             35.0|\n",
      "|          5|       0|35.0|             35.0|\n",
      "|          6|       0|null|29.69911764705882|\n",
      "|          7|       0|54.0|             54.0|\n",
      "|          8|       0| 2.0|              2.0|\n",
      "|          9|       1|27.0|             27.0|\n",
      "|         10|       1|14.0|             14.0|\n",
      "+-----------+--------+----+-----------------+\n",
      "only showing top 10 rows\n",
      "\n"
     ]
    }
   ],
   "source": [
    "titanic.select('PassengerId', 'Survived', 'Age', 'new_Age').show(10)"
   ]
  },
  {
   "cell_type": "code",
   "execution_count": 16,
   "metadata": {},
   "outputs": [
    {
     "name": "stdout",
     "output_type": "stream",
     "text": [
      "+------------+\n",
      "|       Title|\n",
      "+------------+\n",
      "|         Don|\n",
      "|        Miss|\n",
      "|         Col|\n",
      "|         Rev|\n",
      "|        Lady|\n",
      "|      Master|\n",
      "|         Mme|\n",
      "|        Capt|\n",
      "|          Mr|\n",
      "|          Dr|\n",
      "|         Mrs|\n",
      "|         Sir|\n",
      "|    Jonkheer|\n",
      "|        Mlle|\n",
      "|       Major|\n",
      "|          Ms|\n",
      "|the Countess|\n",
      "+------------+\n",
      "\n"
     ]
    }
   ],
   "source": [
    "titanic.withColumn(\"Title\", regexp_replace(col('Name'), '(.*, )|(\\\\..*)', '')).select(\"Title\").distinct().show(24)"
   ]
  },
  {
   "cell_type": "code",
   "execution_count": 17,
   "metadata": {},
   "outputs": [],
   "source": [
    "from pyspark.sql.functions import *\n",
    "\n",
    "#Extracting Titles from a String with regex\n",
    "titanic_titles = titanic.withColumn(\"Title\", regexp_replace(col('Name'), '(.*, )|(\\\\..*)', ''))\n",
    "\n",
    "#Create lists of title groups which are uncommon\n",
    "rare_title = ['Dona', 'Lady', 'the Countess', 'Capt', 'Col', 'Don', 'Dr', 'Major', 'Rev', 'Sir', 'Jonkheer']\n",
    "Miss = ['Mlle', 'Ms']\n",
    "\n",
    "#Creating the column\n",
    "titanic_titles = titanic_titles.withColumn(\"Title\", \\\n",
    "                                          when(col('Title').isin(rare_title), \"Rare Title\")\\\n",
    "                                          .when(col('Title').isin(Miss), \"Miss\")\\\n",
    "                                          .when(col('Title') == \"Mme\", \"Mrs\")\\\n",
    "                                          .otherwise(titanic_titles.Title))"
   ]
  },
  {
   "cell_type": "code",
   "execution_count": 18,
   "metadata": {},
   "outputs": [
    {
     "name": "stdout",
     "output_type": "stream",
     "text": [
      "+----------+\n",
      "|     Title|\n",
      "+----------+\n",
      "|      Miss|\n",
      "|    Master|\n",
      "|        Mr|\n",
      "|Rare Title|\n",
      "|       Mrs|\n",
      "+----------+\n",
      "\n"
     ]
    }
   ],
   "source": [
    "titanic_titles.select(\"Title\").distinct().show()"
   ]
  },
  {
   "cell_type": "code",
   "execution_count": 20,
   "metadata": {},
   "outputs": [],
   "source": [
    "# Child vs. Adult\n",
    "titanic_age_bin = titanic_titles.withColumn(\"Child\", \\\n",
    "                                           when(col('new_Age') < 18, \"Child\")\\\n",
    "#                                             when(expr(\"new_Age < 18\"), \"Child\")\n",
    "                                           .otherwise(\"Adult\"))"
   ]
  },
  {
   "cell_type": "code",
   "execution_count": 22,
   "metadata": {},
   "outputs": [],
   "source": [
    "#Mother, Family Size\n",
    "\n",
    "titanic_mom = titanic_age_bin.withColumn(\"Mother\", \\\n",
    "                                         when(expr(\"Sex == 'female' AND new_Age > 18 AND Parch > 0\"), \"Mother\")\n",
    "#                                            when((col('Sex') == 'female') & (col('Age') > 18) & (col('Parch') > 0), \"Mother\")\\\n",
    "                                           .otherwise(\"Non-Mother\"))\n",
    "\n",
    "titanic_parent = titanic_mom.withColumn(\"A-Parent\", \\\n",
    "                                          when((col('Parch') > 0) & (col('Age')>18), \"A_Parent\")\\\n",
    "                                          .otherwise(\"Non-Parent\"))\n",
    "\n",
    "#Family Sizes\n",
    "titanic_famSize = titanic_parent.withColumn(\"Fsize\", \\\n",
    "                                            col('SibSp') + col('Parch') +1)\n",
    "\n",
    "titanic_f = titanic_famSize.withColumn(\"FsizeD\", \\\n",
    "                                         when(col('Fsize')==1, \"single\")\\\n",
    "                                         .when((col('Fsize') < 5) & (col('Fsize') > 1), \"medium\")\\\n",
    "                                         .otherwise(\"large\"))"
   ]
  },
  {
   "cell_type": "code",
   "execution_count": 23,
   "metadata": {},
   "outputs": [],
   "source": [
    "#Here we demonstrate the first step in using categorical variables with spark ml\n",
    "\n",
    "from pyspark.ml.feature import StringIndexer, OneHotEncoderEstimator, VectorAssembler\n",
    "titanic_final = titanic_f.select(\"Survived\", \"Pclass\", \"Sex\", \"new_Age\", \"A-Parent\", \"FsizeD\", \"Title\")\n",
    "\n",
    "tf = titanic_final\n",
    "\n",
    "#StringIndexer is used to index categorical variables for the regression\n",
    "#Categories are stored in the the variable metadata for analysis later on\n",
    "#https://spark.apache.org/docs/2.4.0/ml-features.html#stringindexer\n",
    "varIdxer = StringIndexer(inputCol='Pclass',outputCol='PclassIdx').fit(tf)\n",
    "tf = varIdxer.transform(tf)\n",
    "\n",
    "varIdxer = StringIndexer(inputCol='Sex',outputCol='SexIdx').fit(tf)\n",
    "tf = varIdxer.transform(tf)\n",
    "\n",
    "varIdxer = StringIndexer(inputCol='A-Parent',outputCol='A-ParentIdx').fit(tf)\n",
    "tf = varIdxer.transform(tf)\n",
    "\n",
    "varIdxer = StringIndexer(inputCol='FsizeD',outputCol='FsizeDIdx').fit(tf)\n",
    "tf = varIdxer.transform(tf)\n",
    "\n",
    "varIdxer = StringIndexer(inputCol='Title',outputCol='TitleIdx').fit(tf)\n",
    "tf = varIdxer.transform(tf)"
   ]
  },
  {
   "cell_type": "code",
   "execution_count": 24,
   "metadata": {},
   "outputs": [
    {
     "name": "stdout",
     "output_type": "stream",
     "text": [
      "+--------+------+------+-----------------+----------+------+------+---------+------+-----------+---------+--------+\n",
      "|Survived|Pclass|   Sex|          new_Age|  A-Parent|FsizeD| Title|PclassIdx|SexIdx|A-ParentIdx|FsizeDIdx|TitleIdx|\n",
      "+--------+------+------+-----------------+----------+------+------+---------+------+-----------+---------+--------+\n",
      "|       0|     3|  male|             22.0|Non-Parent|medium|    Mr|      0.0|   0.0|        0.0|      1.0|     0.0|\n",
      "|       1|     1|female|             38.0|Non-Parent|medium|   Mrs|      1.0|   1.0|        0.0|      1.0|     2.0|\n",
      "|       1|     3|female|             26.0|Non-Parent|single|  Miss|      0.0|   1.0|        0.0|      0.0|     1.0|\n",
      "|       1|     1|female|             35.0|Non-Parent|medium|   Mrs|      1.0|   1.0|        0.0|      1.0|     2.0|\n",
      "|       0|     3|  male|             35.0|Non-Parent|single|    Mr|      0.0|   0.0|        0.0|      0.0|     0.0|\n",
      "|       0|     3|  male|29.69911764705882|Non-Parent|single|    Mr|      0.0|   0.0|        0.0|      0.0|     0.0|\n",
      "|       0|     1|  male|             54.0|Non-Parent|single|    Mr|      1.0|   0.0|        0.0|      0.0|     0.0|\n",
      "|       0|     3|  male|              2.0|Non-Parent| large|Master|      0.0|   0.0|        0.0|      2.0|     3.0|\n",
      "|       1|     3|female|             27.0|  A_Parent|medium|   Mrs|      0.0|   1.0|        1.0|      1.0|     2.0|\n",
      "|       1|     2|female|             14.0|Non-Parent|medium|   Mrs|      2.0|   1.0|        0.0|      1.0|     2.0|\n",
      "|       1|     3|female|              4.0|Non-Parent|medium|  Miss|      0.0|   1.0|        0.0|      1.0|     1.0|\n",
      "|       1|     1|female|             58.0|Non-Parent|single|  Miss|      1.0|   1.0|        0.0|      0.0|     1.0|\n",
      "|       0|     3|  male|             20.0|Non-Parent|single|    Mr|      0.0|   0.0|        0.0|      0.0|     0.0|\n",
      "|       0|     3|  male|             39.0|  A_Parent| large|    Mr|      0.0|   0.0|        1.0|      2.0|     0.0|\n",
      "|       0|     3|female|             14.0|Non-Parent|single|  Miss|      0.0|   1.0|        0.0|      0.0|     1.0|\n",
      "|       1|     2|female|             55.0|Non-Parent|single|   Mrs|      2.0|   1.0|        0.0|      0.0|     2.0|\n",
      "|       0|     3|  male|              2.0|Non-Parent| large|Master|      0.0|   0.0|        0.0|      2.0|     3.0|\n",
      "|       1|     2|  male|29.69911764705882|Non-Parent|single|    Mr|      2.0|   0.0|        0.0|      0.0|     0.0|\n",
      "|       0|     3|female|             31.0|Non-Parent|medium|   Mrs|      0.0|   1.0|        0.0|      1.0|     2.0|\n",
      "|       1|     3|female|29.69911764705882|Non-Parent|single|   Mrs|      0.0|   1.0|        0.0|      0.0|     2.0|\n",
      "+--------+------+------+-----------------+----------+------+------+---------+------+-----------+---------+--------+\n",
      "only showing top 20 rows\n",
      "\n"
     ]
    }
   ],
   "source": [
    "tf.show()"
   ]
  },
  {
   "cell_type": "code",
   "execution_count": 25,
   "metadata": {},
   "outputs": [],
   "source": [
    "#The OneHotEncoder *Estimator Encodes the Indexed variables, much like standard oneHotEncoding, but with metadata stored within each column\n",
    "#Estimator will be replaced by OneHotEncoder in 3.0, when the current OneHotEncoder deprecates\n",
    "encoder = OneHotEncoderEstimator(inputCols=[\"PclassIdx\", \"SexIdx\", \"A-ParentIdx\", \"FsizeDIdx\", \"TitleIdx\"],\n",
    "                                 outputCols=[\"Pclassvec\", \"Sexvec\", \"A-Parentvec\", \"FsizeDvec\", \"Titlevec\"], handleInvalid = 'keep')\n",
    "model = encoder.fit(tf)\n",
    "titanic_model = model.transform(tf)"
   ]
  },
  {
   "cell_type": "code",
   "execution_count": 26,
   "metadata": {},
   "outputs": [
    {
     "name": "stdout",
     "output_type": "stream",
     "text": [
      "+--------+------+------+-----------------+----------+------+------+---------+------+-----------+---------+--------+-------------+-------------+-------------+-------------+-------------+\n",
      "|Survived|Pclass|   Sex|          new_Age|  A-Parent|FsizeD| Title|PclassIdx|SexIdx|A-ParentIdx|FsizeDIdx|TitleIdx|    FsizeDvec|       Sexvec|  A-Parentvec|    Pclassvec|     Titlevec|\n",
      "+--------+------+------+-----------------+----------+------+------+---------+------+-----------+---------+--------+-------------+-------------+-------------+-------------+-------------+\n",
      "|       0|     3|  male|             22.0|Non-Parent|medium|    Mr|      0.0|   0.0|        0.0|      1.0|     0.0|(3,[1],[1.0])|(2,[0],[1.0])|(2,[0],[1.0])|(3,[0],[1.0])|(5,[0],[1.0])|\n",
      "|       1|     1|female|             38.0|Non-Parent|medium|   Mrs|      1.0|   1.0|        0.0|      1.0|     2.0|(3,[1],[1.0])|(2,[1],[1.0])|(2,[0],[1.0])|(3,[1],[1.0])|(5,[2],[1.0])|\n",
      "|       1|     3|female|             26.0|Non-Parent|single|  Miss|      0.0|   1.0|        0.0|      0.0|     1.0|(3,[0],[1.0])|(2,[1],[1.0])|(2,[0],[1.0])|(3,[0],[1.0])|(5,[1],[1.0])|\n",
      "|       1|     1|female|             35.0|Non-Parent|medium|   Mrs|      1.0|   1.0|        0.0|      1.0|     2.0|(3,[1],[1.0])|(2,[1],[1.0])|(2,[0],[1.0])|(3,[1],[1.0])|(5,[2],[1.0])|\n",
      "|       0|     3|  male|             35.0|Non-Parent|single|    Mr|      0.0|   0.0|        0.0|      0.0|     0.0|(3,[0],[1.0])|(2,[0],[1.0])|(2,[0],[1.0])|(3,[0],[1.0])|(5,[0],[1.0])|\n",
      "|       0|     3|  male|29.69911764705882|Non-Parent|single|    Mr|      0.0|   0.0|        0.0|      0.0|     0.0|(3,[0],[1.0])|(2,[0],[1.0])|(2,[0],[1.0])|(3,[0],[1.0])|(5,[0],[1.0])|\n",
      "|       0|     1|  male|             54.0|Non-Parent|single|    Mr|      1.0|   0.0|        0.0|      0.0|     0.0|(3,[0],[1.0])|(2,[0],[1.0])|(2,[0],[1.0])|(3,[1],[1.0])|(5,[0],[1.0])|\n",
      "|       0|     3|  male|              2.0|Non-Parent| large|Master|      0.0|   0.0|        0.0|      2.0|     3.0|(3,[2],[1.0])|(2,[0],[1.0])|(2,[0],[1.0])|(3,[0],[1.0])|(5,[3],[1.0])|\n",
      "|       1|     3|female|             27.0|  A_Parent|medium|   Mrs|      0.0|   1.0|        1.0|      1.0|     2.0|(3,[1],[1.0])|(2,[1],[1.0])|(2,[1],[1.0])|(3,[0],[1.0])|(5,[2],[1.0])|\n",
      "|       1|     2|female|             14.0|Non-Parent|medium|   Mrs|      2.0|   1.0|        0.0|      1.0|     2.0|(3,[1],[1.0])|(2,[1],[1.0])|(2,[0],[1.0])|(3,[2],[1.0])|(5,[2],[1.0])|\n",
      "+--------+------+------+-----------------+----------+------+------+---------+------+-----------+---------+--------+-------------+-------------+-------------+-------------+-------------+\n",
      "only showing top 10 rows\n",
      "\n"
     ]
    }
   ],
   "source": [
    "titanic_model.show(10)"
   ]
  },
  {
   "cell_type": "code",
   "execution_count": 27,
   "metadata": {},
   "outputs": [
    {
     "data": {
      "text/plain": [
       "DataFrame[Survived: string, Pclass: string, Sex: string, new_Age: double, A-Parent: string, FsizeD: string, Title: string, PclassIdx: double, SexIdx: double, A-ParentIdx: double, FsizeDIdx: double, TitleIdx: double, FsizeDvec: vector, Sexvec: vector, A-Parentvec: vector, Pclassvec: vector, Titlevec: vector]"
      ]
     },
     "metadata": {},
     "output_type": "display_data"
    }
   ],
   "source": [
    "display(titanic_model)"
   ]
  },
  {
   "cell_type": "code",
   "execution_count": 28,
   "metadata": {},
   "outputs": [],
   "source": [
    "titanic_final = titanic_model.select(\"Survived\", \"Pclassvec\", \"Sexvec\", \"new_Age\", \"A-Parentvec\", \"FsizeDvec\", \"Titlevec\")\n",
    "#In classification, the variable must be indexed\n",
    "titanic_final = StringIndexer(inputCol=\"Survived\", outputCol=\"SurvivedIdx\").fit(titanic_final).transform(titanic_final)"
   ]
  },
  {
   "cell_type": "code",
   "execution_count": 29,
   "metadata": {},
   "outputs": [
    {
     "name": "stdout",
     "output_type": "stream",
     "text": [
      "+--------+-------------+-------------+-----------------+-------------+-------------+-------------+-----------+\n",
      "|Survived|    Pclassvec|       Sexvec|          new_Age|  A-Parentvec|    FsizeDvec|     Titlevec|SurvivedIdx|\n",
      "+--------+-------------+-------------+-----------------+-------------+-------------+-------------+-----------+\n",
      "|       0|(3,[0],[1.0])|(2,[0],[1.0])|             22.0|(2,[0],[1.0])|(3,[1],[1.0])|(5,[0],[1.0])|        0.0|\n",
      "|       1|(3,[1],[1.0])|(2,[1],[1.0])|             38.0|(2,[0],[1.0])|(3,[1],[1.0])|(5,[2],[1.0])|        1.0|\n",
      "|       1|(3,[0],[1.0])|(2,[1],[1.0])|             26.0|(2,[0],[1.0])|(3,[0],[1.0])|(5,[1],[1.0])|        1.0|\n",
      "|       1|(3,[1],[1.0])|(2,[1],[1.0])|             35.0|(2,[0],[1.0])|(3,[1],[1.0])|(5,[2],[1.0])|        1.0|\n",
      "|       0|(3,[0],[1.0])|(2,[0],[1.0])|             35.0|(2,[0],[1.0])|(3,[0],[1.0])|(5,[0],[1.0])|        0.0|\n",
      "|       0|(3,[0],[1.0])|(2,[0],[1.0])|29.69911764705882|(2,[0],[1.0])|(3,[0],[1.0])|(5,[0],[1.0])|        0.0|\n",
      "|       0|(3,[1],[1.0])|(2,[0],[1.0])|             54.0|(2,[0],[1.0])|(3,[0],[1.0])|(5,[0],[1.0])|        0.0|\n",
      "|       0|(3,[0],[1.0])|(2,[0],[1.0])|              2.0|(2,[0],[1.0])|(3,[2],[1.0])|(5,[3],[1.0])|        0.0|\n",
      "|       1|(3,[0],[1.0])|(2,[1],[1.0])|             27.0|(2,[1],[1.0])|(3,[1],[1.0])|(5,[2],[1.0])|        1.0|\n",
      "|       1|(3,[2],[1.0])|(2,[1],[1.0])|             14.0|(2,[0],[1.0])|(3,[1],[1.0])|(5,[2],[1.0])|        1.0|\n",
      "|       1|(3,[0],[1.0])|(2,[1],[1.0])|              4.0|(2,[0],[1.0])|(3,[1],[1.0])|(5,[1],[1.0])|        1.0|\n",
      "|       1|(3,[1],[1.0])|(2,[1],[1.0])|             58.0|(2,[0],[1.0])|(3,[0],[1.0])|(5,[1],[1.0])|        1.0|\n",
      "|       0|(3,[0],[1.0])|(2,[0],[1.0])|             20.0|(2,[0],[1.0])|(3,[0],[1.0])|(5,[0],[1.0])|        0.0|\n",
      "|       0|(3,[0],[1.0])|(2,[0],[1.0])|             39.0|(2,[1],[1.0])|(3,[2],[1.0])|(5,[0],[1.0])|        0.0|\n",
      "|       0|(3,[0],[1.0])|(2,[1],[1.0])|             14.0|(2,[0],[1.0])|(3,[0],[1.0])|(5,[1],[1.0])|        0.0|\n",
      "|       1|(3,[2],[1.0])|(2,[1],[1.0])|             55.0|(2,[0],[1.0])|(3,[0],[1.0])|(5,[2],[1.0])|        1.0|\n",
      "|       0|(3,[0],[1.0])|(2,[0],[1.0])|              2.0|(2,[0],[1.0])|(3,[2],[1.0])|(5,[3],[1.0])|        0.0|\n",
      "|       1|(3,[2],[1.0])|(2,[0],[1.0])|29.69911764705882|(2,[0],[1.0])|(3,[0],[1.0])|(5,[0],[1.0])|        1.0|\n",
      "|       0|(3,[0],[1.0])|(2,[1],[1.0])|             31.0|(2,[0],[1.0])|(3,[1],[1.0])|(5,[2],[1.0])|        0.0|\n",
      "|       1|(3,[0],[1.0])|(2,[1],[1.0])|29.69911764705882|(2,[0],[1.0])|(3,[0],[1.0])|(5,[2],[1.0])|        1.0|\n",
      "+--------+-------------+-------------+-----------------+-------------+-------------+-------------+-----------+\n",
      "only showing top 20 rows\n",
      "\n"
     ]
    }
   ],
   "source": [
    "titanic_final.show()"
   ]
  },
  {
   "cell_type": "code",
   "execution_count": 30,
   "metadata": {},
   "outputs": [],
   "source": [
    "#machine learning examples\n",
    "from pyspark.ml import *\n",
    "from pyspark.ml.feature import VectorAssembler\n",
    "\n",
    "#train test split\n",
    "\n",
    "#PysparkML takes a vector of variable values rather than a list of columns\n",
    "vectorAssembler = VectorAssembler(inputCols = [\"Pclassvec\", \"Sexvec\", \"new_Age\", \"A-Parentvec\", \"FsizeDvec\", \"Titlevec\"], outputCol = 'features')\n",
    "\n",
    "\n",
    "titanic_final = vectorAssembler.transform(titanic_final)\n",
    "titanic_final = titanic_final.dropna()\n",
    "\n",
    "train, test = titanic_final.select(\"features\", \"SurvivedIdx\").randomSplit([0.75, 0.25])"
   ]
  },
  {
   "cell_type": "code",
   "execution_count": 31,
   "metadata": {},
   "outputs": [
    {
     "name": "stdout",
     "output_type": "stream",
     "text": [
      "+--------------------+-----------+\n",
      "|            Features|SurvivedIdx|\n",
      "+--------------------+-----------+\n",
      "|(16,[0,3,5,6,9,11...|        0.0|\n",
      "|(16,[1,4,5,6,9,13...|        1.0|\n",
      "|(16,[0,4,5,6,8,12...|        1.0|\n",
      "|(16,[1,4,5,6,9,13...|        1.0|\n",
      "|(16,[0,3,5,6,8,11...|        0.0|\n",
      "|(16,[0,3,5,6,8,11...|        0.0|\n",
      "|(16,[1,3,5,6,8,11...|        0.0|\n",
      "|(16,[0,3,5,6,10,1...|        0.0|\n",
      "|(16,[0,4,5,7,9,13...|        1.0|\n",
      "|(16,[2,4,5,6,9,13...|        1.0|\n",
      "|(16,[0,4,5,6,9,12...|        1.0|\n",
      "|(16,[1,4,5,6,8,12...|        1.0|\n",
      "|(16,[0,3,5,6,8,11...|        0.0|\n",
      "|(16,[0,3,5,7,10,1...|        0.0|\n",
      "|(16,[0,4,5,6,8,12...|        0.0|\n",
      "|(16,[2,4,5,6,8,13...|        1.0|\n",
      "|(16,[0,3,5,6,10,1...|        0.0|\n",
      "|(16,[2,3,5,6,8,11...|        1.0|\n",
      "|(16,[0,4,5,6,9,13...|        0.0|\n",
      "|(16,[0,4,5,6,8,13...|        1.0|\n",
      "+--------------------+-----------+\n",
      "only showing top 20 rows\n",
      "\n"
     ]
    }
   ],
   "source": [
    "titanic_final.select(\"Features\", \"SurvivedIdx\").show()"
   ]
  },
  {
   "cell_type": "code",
   "execution_count": 35,
   "metadata": {},
   "outputs": [
    {
     "name": "stdout",
     "output_type": "stream",
     "text": [
      "+----------+--------------------+\n",
      "|prediction|         probability|\n",
      "+----------+--------------------+\n",
      "|       0.0|[0.89386466368329...|\n",
      "|       0.0|[0.90685258270006...|\n",
      "|       0.0|[0.90685258270006...|\n",
      "|       0.0|[0.90685258270006...|\n",
      "|       0.0|[0.90685258270006...|\n",
      "+----------+--------------------+\n",
      "only showing top 5 rows\n",
      "\n"
     ]
    }
   ],
   "source": [
    "from pyspark.ml.classification import LogisticRegression, RandomForestClassifier\n",
    "\n",
    "lr = LogisticRegression(featuresCol = \"features\", labelCol = \"SurvivedIdx\")\n",
    "# rf = RandomForestClassifier(labelCol=\"SurvivedIdx\", featuresCol=\"features\")\n",
    "\n",
    "lrModel = lr.fit(train)\n",
    "predictions = lrModel.transform(train)\n",
    "\n",
    "predictions.select(col(\"prediction\"),col(\"probability\"),).show(5)"
   ]
  },
  {
   "cell_type": "code",
   "execution_count": 34,
   "metadata": {},
   "outputs": [
    {
     "name": "stdout",
     "output_type": "stream",
     "text": [
      "+----------+--------------------+\n",
      "|prediction|         probability|\n",
      "+----------+--------------------+\n",
      "|       0.0|[0.83456688307399...|\n",
      "|       0.0|[0.87527040066193...|\n",
      "|       0.0|[0.87527040066193...|\n",
      "|       0.0|[0.87527040066193...|\n",
      "|       0.0|[0.87527040066193...|\n",
      "+----------+--------------------+\n",
      "only showing top 5 rows\n",
      "\n"
     ]
    }
   ],
   "source": [
    "rf = RandomForestClassifier(labelCol=\"SurvivedIdx\", featuresCol=\"features\")\n",
    "\n",
    "rfModel = rf.fit(train)\n",
    "predictionsrf = rfModel.transform(train)\n",
    "\n",
    "predictionsrf.select(col(\"prediction\"),col(\"probability\"),).show(5)"
   ]
  },
  {
   "cell_type": "code",
   "execution_count": 39,
   "metadata": {},
   "outputs": [],
   "source": [
    "#Accuracy\n",
    "predictions.createOrReplaceTempView(\"Predictions\")\n",
    "test = sqlcontext.sql(\"select sum(case when SurvivedIdx = prediction then 1 else 0 end) / count(prediction) as Accuracy from Predictions\")"
   ]
  },
  {
   "cell_type": "code",
   "execution_count": 43,
   "metadata": {},
   "outputs": [
    {
     "name": "stdout",
     "output_type": "stream",
     "text": [
      "+------------------+\n",
      "|          Accuracy|\n",
      "+------------------+\n",
      "|0.8238805970149253|\n",
      "+------------------+\n",
      "\n"
     ]
    }
   ],
   "source": [
    "test.show()"
   ]
  },
  {
   "cell_type": "code",
   "execution_count": 40,
   "metadata": {},
   "outputs": [],
   "source": [
    "#Accuracy\n",
    "predictionsrf.createOrReplaceTempView(\"Predictions2\")\n",
    "test2 = sqlcontext.sql(\"select sum(case when SurvivedIdx = prediction then 1 else 0 end) / count(prediction) as Accuracy from Predictions2\")"
   ]
  },
  {
   "cell_type": "code",
   "execution_count": 42,
   "metadata": {},
   "outputs": [
    {
     "data": {
      "text/plain": [
       "[Row(Accuracy=0.8343283582089552)]"
      ]
     },
     "execution_count": 42,
     "metadata": {},
     "output_type": "execute_result"
    }
   ],
   "source": [
    "test2.collect()"
   ]
  },
  {
   "cell_type": "code",
   "execution_count": null,
   "metadata": {},
   "outputs": [],
   "source": [
    "with open('test.txt', 'w') as file:\n",
    "    for item in test.collect():\n",
    "        file.write(str(item))"
   ]
  },
  {
   "cell_type": "code",
   "execution_count": 45,
   "metadata": {},
   "outputs": [
    {
     "name": "stdout",
     "output_type": "stream",
     "text": [
      "+------------------+\n",
      "|          Accuracy|\n",
      "+------------------+\n",
      "|0.8238805970149253|\n",
      "+------------------+\n",
      "\n"
     ]
    }
   ],
   "source": [
    "test.show()"
   ]
  },
  {
   "cell_type": "code",
   "execution_count": 44,
   "metadata": {},
   "outputs": [
    {
     "name": "stdout",
     "output_type": "stream",
     "text": [
      "DataFrame[Accuracy: double]\n"
     ]
    }
   ],
   "source": [
    "print(test)"
   ]
  },
  {
   "cell_type": "code",
   "execution_count": 46,
   "metadata": {},
   "outputs": [
    {
     "data": {
      "text/plain": [
       "[Row(Accuracy=0.8238805970149253)]"
      ]
     },
     "execution_count": 46,
     "metadata": {},
     "output_type": "execute_result"
    }
   ],
   "source": [
    "test.collect()"
   ]
  },
  {
   "cell_type": "code",
   "execution_count": 47,
   "metadata": {},
   "outputs": [],
   "source": [
    "#This is how to do the same work, but in a pipeline\n",
    "# Pipelines are the preferred method of building models in 2.4\n",
    "from pyspark.ml import Pipeline\n",
    "from pyspark.ml.classification import RandomForestClassifier\n",
    "from pyspark.ml.feature import StringIndexer, VectorIndexer, OneHotEncoder, VectorAssembler, IndexToString\n",
    "from pyspark.ml.evaluation import MulticlassClassificationEvaluator\n",
    "from pyspark.sql.functions import *"
   ]
  },
  {
   "cell_type": "code",
   "execution_count": null,
   "metadata": {},
   "outputs": [],
   "source": [
    "# titanic_f.show()"
   ]
  },
  {
   "cell_type": "code",
   "execution_count": 48,
   "metadata": {},
   "outputs": [],
   "source": [
    "#Dataset from before any indexing or encoding happened\n",
    "titanic_final = titanic_f.select(\"Survived\", \"Pclass\", \"Sex\", \"new_Age\", \"A-Parent\", \"FsizeD\", \"Title\")\n",
    "\n",
    "classIdxer = StringIndexer(inputCol='Pclass',outputCol='PclassIdx')\n",
    "sexIdxer = StringIndexer(inputCol='Sex',outputCol='SexIdx')\n",
    "parentIdxer = StringIndexer(inputCol='A-Parent',outputCol='A-ParentIdx')\n",
    "FsizeIdxer = StringIndexer(inputCol='FsizeD',outputCol='FsizeDIdx')\n",
    "titleIdxer = StringIndexer(inputCol='Title',outputCol='TitleIdx')\n",
    "\n",
    "survivedIdxer = StringIndexer(inputCol=\"Survived\", outputCol=\"SurvivedIdx\")\n",
    "\n",
    "encoder = OneHotEncoderEstimator(inputCols=[\"PclassIdx\", \"SexIdx\", \"A-ParentIdx\", \"FsizeDIdx\", \"TitleIdx\"], outputCols=[\"Pclassvec\", \"Sexvec\", \"A-Parentvec\", \"FsizeDvec\", \"Titlevec\"]).setHandleInvalid(\"keep\")#, handleInvalid = 'keep')\n",
    "\n",
    "assembler = VectorAssembler(inputCols = [\"Pclassvec\", \"Sexvec\", \"new_Age\", \"A-Parentvec\", \"FsizeDvec\", \"Titlevec\"], outputCol = 'features')\n",
    "\n",
    "rf = RandomForestClassifier(labelCol=\"SurvivedIdx\", featuresCol=\"features\")\n",
    "\n",
    "pipeline = Pipeline(stages = [classIdxer, sexIdxer, parentIdxer, FsizeIdxer, titleIdxer, survivedIdxer, encoder, assembler, rf])\n",
    "\n",
    "train, test = titanic_final.randomSplit([0.75, 0.25])"
   ]
  },
  {
   "cell_type": "code",
   "execution_count": 49,
   "metadata": {},
   "outputs": [
    {
     "name": "stdout",
     "output_type": "stream",
     "text": [
      "+--------+------+------+-----------------+----------+------+-----+\n",
      "|Survived|Pclass|   Sex|          new_Age|  A-Parent|FsizeD|Title|\n",
      "+--------+------+------+-----------------+----------+------+-----+\n",
      "|       0|     1|female|              2.0|Non-Parent|medium| Miss|\n",
      "|       0|     1|female|             25.0|  A_Parent|medium|  Mrs|\n",
      "|       0|     1|female|             50.0|Non-Parent|single| Miss|\n",
      "|       0|     1|  male|             19.0|  A_Parent| large|   Mr|\n",
      "|       0|     1|  male|             19.0|Non-Parent|medium|   Mr|\n",
      "|       0|     1|  male|             22.0|Non-Parent|single|   Mr|\n",
      "|       0|     1|  male|             24.0|  A_Parent|medium|   Mr|\n",
      "|       0|     1|  male|             24.0|Non-Parent|single|   Mr|\n",
      "|       0|     1|  male|             27.0|  A_Parent|medium|   Mr|\n",
      "|       0|     1|  male|             28.0|Non-Parent|medium|   Mr|\n",
      "|       0|     1|  male|             28.0|Non-Parent|single|   Mr|\n",
      "|       0|     1|  male|             29.0|Non-Parent|single|   Mr|\n",
      "|       0|     1|  male|29.69911764705882|Non-Parent|single|   Mr|\n",
      "|       0|     1|  male|29.69911764705882|Non-Parent|single|   Mr|\n",
      "|       0|     1|  male|29.69911764705882|Non-Parent|single|   Mr|\n",
      "|       0|     1|  male|29.69911764705882|Non-Parent|single|   Mr|\n",
      "|       0|     1|  male|29.69911764705882|Non-Parent|single|   Mr|\n",
      "|       0|     1|  male|29.69911764705882|Non-Parent|single|   Mr|\n",
      "|       0|     1|  male|29.69911764705882|Non-Parent|single|   Mr|\n",
      "|       0|     1|  male|29.69911764705882|Non-Parent|single|   Mr|\n",
      "+--------+------+------+-----------------+----------+------+-----+\n",
      "only showing top 20 rows\n",
      "\n"
     ]
    }
   ],
   "source": [
    "train.show()"
   ]
  },
  {
   "cell_type": "code",
   "execution_count": 50,
   "metadata": {},
   "outputs": [
    {
     "data": {
      "text/plain": [
       "DataFrame[Survived: string, Pclass: string, Sex: string, new_Age: double, A-Parent: string, FsizeD: string, Title: string]"
      ]
     },
     "metadata": {},
     "output_type": "display_data"
    }
   ],
   "source": [
    "display(train)"
   ]
  },
  {
   "cell_type": "code",
   "execution_count": 51,
   "metadata": {},
   "outputs": [],
   "source": [
    "model = pipeline.fit(train)\n",
    "predictions = model.transform(test)"
   ]
  },
  {
   "cell_type": "code",
   "execution_count": 52,
   "metadata": {},
   "outputs": [
    {
     "data": {
      "text/plain": [
       "['Survived',\n",
       " 'Pclass',\n",
       " 'Sex',\n",
       " 'new_Age',\n",
       " 'A-Parent',\n",
       " 'FsizeD',\n",
       " 'Title',\n",
       " 'PclassIdx',\n",
       " 'SexIdx',\n",
       " 'A-ParentIdx',\n",
       " 'FsizeDIdx',\n",
       " 'TitleIdx',\n",
       " 'SurvivedIdx',\n",
       " 'FsizeDvec',\n",
       " 'Sexvec',\n",
       " 'A-Parentvec',\n",
       " 'Pclassvec',\n",
       " 'Titlevec',\n",
       " 'features',\n",
       " 'rawPrediction',\n",
       " 'probability',\n",
       " 'prediction']"
      ]
     },
     "execution_count": 52,
     "metadata": {},
     "output_type": "execute_result"
    }
   ],
   "source": [
    "predictions.columns"
   ]
  },
  {
   "cell_type": "code",
   "execution_count": 53,
   "metadata": {},
   "outputs": [
    {
     "name": "stdout",
     "output_type": "stream",
     "text": [
      "+----------+--------+--------------------+\n",
      "|prediction|Survived|            features|\n",
      "+----------+--------+--------------------+\n",
      "|       0.0|       0|(16,[1,3,5,6,9,11...|\n",
      "|       0.0|       0|(16,[1,3,5,7,9,11...|\n",
      "|       0.0|       0|(16,[1,3,5,6,9,11...|\n",
      "|       0.0|       0|(16,[1,3,5,6,8,11...|\n",
      "|       0.0|       0|(16,[1,3,5,6,8,11...|\n",
      "+----------+--------+--------------------+\n",
      "only showing top 5 rows\n",
      "\n"
     ]
    }
   ],
   "source": [
    "predictions.select(\"prediction\", \"Survived\", \"features\").show(5)"
   ]
  },
  {
   "cell_type": "code",
   "execution_count": 54,
   "metadata": {},
   "outputs": [
    {
     "name": "stdout",
     "output_type": "stream",
     "text": [
      "Test Error = 0.195556\n"
     ]
    }
   ],
   "source": [
    "predictions2 = predictions.select(col(\"Survived\").cast(\"Float\"),col(\"prediction\"))\n",
    "evaluator = MulticlassClassificationEvaluator(labelCol=\"Survived\", predictionCol=\"prediction\", metricName=\"accuracy\")\n",
    "accuracy = evaluator.evaluate(predictions2)\n",
    "print(\"Test Error = %g\" % (1.0 - accuracy))"
   ]
  },
  {
   "cell_type": "code",
   "execution_count": 61,
   "metadata": {},
   "outputs": [],
   "source": [
    "df = train.coalesce(1)\n",
    "import pandas as pd\n",
    "pddf = train.toPandas()\n",
    "# matplotlib"
   ]
  },
  {
   "cell_type": "code",
   "execution_count": 62,
   "metadata": {},
   "outputs": [
    {
     "data": {
      "text/html": [
       "<div>\n",
       "<style scoped>\n",
       "    .dataframe tbody tr th:only-of-type {\n",
       "        vertical-align: middle;\n",
       "    }\n",
       "\n",
       "    .dataframe tbody tr th {\n",
       "        vertical-align: top;\n",
       "    }\n",
       "\n",
       "    .dataframe thead th {\n",
       "        text-align: right;\n",
       "    }\n",
       "</style>\n",
       "<table border=\"1\" class=\"dataframe\">\n",
       "  <thead>\n",
       "    <tr style=\"text-align: right;\">\n",
       "      <th></th>\n",
       "      <th>Survived</th>\n",
       "      <th>Pclass</th>\n",
       "      <th>Sex</th>\n",
       "      <th>new_Age</th>\n",
       "      <th>A-Parent</th>\n",
       "      <th>FsizeD</th>\n",
       "      <th>Title</th>\n",
       "    </tr>\n",
       "  </thead>\n",
       "  <tbody>\n",
       "    <tr>\n",
       "      <th>0</th>\n",
       "      <td>0</td>\n",
       "      <td>1</td>\n",
       "      <td>female</td>\n",
       "      <td>2.0</td>\n",
       "      <td>Non-Parent</td>\n",
       "      <td>medium</td>\n",
       "      <td>Miss</td>\n",
       "    </tr>\n",
       "    <tr>\n",
       "      <th>1</th>\n",
       "      <td>0</td>\n",
       "      <td>1</td>\n",
       "      <td>female</td>\n",
       "      <td>25.0</td>\n",
       "      <td>A_Parent</td>\n",
       "      <td>medium</td>\n",
       "      <td>Mrs</td>\n",
       "    </tr>\n",
       "    <tr>\n",
       "      <th>2</th>\n",
       "      <td>0</td>\n",
       "      <td>1</td>\n",
       "      <td>female</td>\n",
       "      <td>50.0</td>\n",
       "      <td>Non-Parent</td>\n",
       "      <td>single</td>\n",
       "      <td>Miss</td>\n",
       "    </tr>\n",
       "    <tr>\n",
       "      <th>3</th>\n",
       "      <td>0</td>\n",
       "      <td>1</td>\n",
       "      <td>male</td>\n",
       "      <td>19.0</td>\n",
       "      <td>A_Parent</td>\n",
       "      <td>large</td>\n",
       "      <td>Mr</td>\n",
       "    </tr>\n",
       "    <tr>\n",
       "      <th>4</th>\n",
       "      <td>0</td>\n",
       "      <td>1</td>\n",
       "      <td>male</td>\n",
       "      <td>19.0</td>\n",
       "      <td>Non-Parent</td>\n",
       "      <td>medium</td>\n",
       "      <td>Mr</td>\n",
       "    </tr>\n",
       "    <tr>\n",
       "      <th>...</th>\n",
       "      <td>...</td>\n",
       "      <td>...</td>\n",
       "      <td>...</td>\n",
       "      <td>...</td>\n",
       "      <td>...</td>\n",
       "      <td>...</td>\n",
       "      <td>...</td>\n",
       "    </tr>\n",
       "    <tr>\n",
       "      <th>661</th>\n",
       "      <td>1</td>\n",
       "      <td>3</td>\n",
       "      <td>male</td>\n",
       "      <td>32.0</td>\n",
       "      <td>Non-Parent</td>\n",
       "      <td>single</td>\n",
       "      <td>Mr</td>\n",
       "    </tr>\n",
       "    <tr>\n",
       "      <th>662</th>\n",
       "      <td>1</td>\n",
       "      <td>3</td>\n",
       "      <td>male</td>\n",
       "      <td>32.0</td>\n",
       "      <td>Non-Parent</td>\n",
       "      <td>single</td>\n",
       "      <td>Mr</td>\n",
       "    </tr>\n",
       "    <tr>\n",
       "      <th>663</th>\n",
       "      <td>1</td>\n",
       "      <td>3</td>\n",
       "      <td>male</td>\n",
       "      <td>32.0</td>\n",
       "      <td>Non-Parent</td>\n",
       "      <td>single</td>\n",
       "      <td>Mr</td>\n",
       "    </tr>\n",
       "    <tr>\n",
       "      <th>664</th>\n",
       "      <td>1</td>\n",
       "      <td>3</td>\n",
       "      <td>male</td>\n",
       "      <td>44.0</td>\n",
       "      <td>Non-Parent</td>\n",
       "      <td>single</td>\n",
       "      <td>Mr</td>\n",
       "    </tr>\n",
       "    <tr>\n",
       "      <th>665</th>\n",
       "      <td>1</td>\n",
       "      <td>3</td>\n",
       "      <td>male</td>\n",
       "      <td>45.0</td>\n",
       "      <td>Non-Parent</td>\n",
       "      <td>single</td>\n",
       "      <td>Mr</td>\n",
       "    </tr>\n",
       "  </tbody>\n",
       "</table>\n",
       "<p>666 rows × 7 columns</p>\n",
       "</div>"
      ],
      "text/plain": [
       "    Survived Pclass     Sex  new_Age    A-Parent  FsizeD Title\n",
       "0          0      1  female      2.0  Non-Parent  medium  Miss\n",
       "1          0      1  female     25.0    A_Parent  medium   Mrs\n",
       "2          0      1  female     50.0  Non-Parent  single  Miss\n",
       "3          0      1    male     19.0    A_Parent   large    Mr\n",
       "4          0      1    male     19.0  Non-Parent  medium    Mr\n",
       "..       ...    ...     ...      ...         ...     ...   ...\n",
       "661        1      3    male     32.0  Non-Parent  single    Mr\n",
       "662        1      3    male     32.0  Non-Parent  single    Mr\n",
       "663        1      3    male     32.0  Non-Parent  single    Mr\n",
       "664        1      3    male     44.0  Non-Parent  single    Mr\n",
       "665        1      3    male     45.0  Non-Parent  single    Mr\n",
       "\n",
       "[666 rows x 7 columns]"
      ]
     },
     "execution_count": 62,
     "metadata": {},
     "output_type": "execute_result"
    }
   ],
   "source": [
    "pddf"
   ]
  }
 ],
 "metadata": {
  "kernelspec": {
   "display_name": "Python 3",
   "language": "python",
   "name": "python3"
  },
  "language_info": {
   "codemirror_mode": {
    "name": "ipython",
    "version": 3
   },
   "file_extension": ".py",
   "mimetype": "text/x-python",
   "name": "python",
   "nbconvert_exporter": "python",
   "pygments_lexer": "ipython3",
   "version": "3.7.7"
  },
  "name": "ML Examples",
  "notebookId": 3743277322557771
 },
 "nbformat": 4,
 "nbformat_minor": 1
}
