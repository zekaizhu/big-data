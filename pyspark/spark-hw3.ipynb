{
 "cells": [
  {
   "cell_type": "code",
   "execution_count": 1,
   "metadata": {},
   "outputs": [
    {
     "data": {
      "application/vnd.jupyter.widget-view+json": {
       "model_id": "ec713be7ebf74bf69b1c7b9d1fdc6464",
       "version_major": 2,
       "version_minor": 0
      },
      "text/plain": [
       "VBox()"
      ]
     },
     "metadata": {},
     "output_type": "display_data"
    },
    {
     "name": "stdout",
     "output_type": "stream",
     "text": [
      "Starting Spark application\n"
     ]
    },
    {
     "data": {
      "text/html": [
       "<table>\n",
       "<tr><th>ID</th><th>YARN Application ID</th><th>Kind</th><th>State</th><th>Spark UI</th><th>Driver log</th><th>Current session?</th></tr><tr><td>5</td><td>application_1591935046141_0006</td><td>pyspark</td><td>idle</td><td></td><td></td><td>✔</td></tr></table>"
      ],
      "text/plain": [
       "<IPython.core.display.HTML object>"
      ]
     },
     "metadata": {},
     "output_type": "display_data"
    },
    {
     "data": {
      "application/vnd.jupyter.widget-view+json": {
       "model_id": "",
       "version_major": 2,
       "version_minor": 0
      },
      "text/plain": [
       "FloatProgress(value=0.0, bar_style='info', description='Progress:', layout=Layout(height='25px', width='50%'),…"
      ]
     },
     "metadata": {},
     "output_type": "display_data"
    },
    {
     "name": "stdout",
     "output_type": "stream",
     "text": [
      "SparkSession available as 'spark'.\n"
     ]
    },
    {
     "data": {
      "application/vnd.jupyter.widget-view+json": {
       "model_id": "",
       "version_major": 2,
       "version_minor": 0
      },
      "text/plain": [
       "FloatProgress(value=0.0, bar_style='info', description='Progress:', layout=Layout(height='25px', width='50%'),…"
      ]
     },
     "metadata": {},
     "output_type": "display_data"
    },
    {
     "name": "stdout",
     "output_type": "stream",
     "text": [
      "Collecting pandas\n",
      "  Using cached https://files.pythonhosted.org/packages/a4/5f/1b6e0efab4bfb738478919d40b0e3e1a06e3d9996da45eb62a77e9a090d9/pandas-1.0.4-cp37-cp37m-manylinux1_x86_64.whl\n",
      "Requirement already satisfied: pytz>=2017.2 in /usr/local/lib/python3.7/site-packages (from pandas)\n",
      "Requirement already satisfied: numpy>=1.13.3 in /usr/local/lib64/python3.7/site-packages (from pandas)\n",
      "Collecting python-dateutil>=2.6.1 (from pandas)\n",
      "  Using cached https://files.pythonhosted.org/packages/d4/70/d60450c3dd48ef87586924207ae8907090de0b306af2bce5d134d78615cb/python_dateutil-2.8.1-py2.py3-none-any.whl\n",
      "Requirement already satisfied: six>=1.5 in /usr/local/lib/python3.7/site-packages (from python-dateutil>=2.6.1->pandas)\n",
      "Installing collected packages: python-dateutil, pandas\n",
      "Successfully installed pandas-1.0.4 python-dateutil-2.8.1\n",
      "\n",
      "Collecting s3fs\n",
      "  Using cached https://files.pythonhosted.org/packages/b8/e4/b8fc59248399d2482b39340ec9be4bb2493846ac23641b43115a7e5cd675/s3fs-0.4.2-py3-none-any.whl\n",
      "Collecting fsspec>=0.6.0 (from s3fs)\n",
      "  Using cached https://files.pythonhosted.org/packages/0f/31/f27a81686b2f1b2f6776bd5db10efc7d88f28a50e8888f55409ef6501a50/fsspec-0.7.4-py3-none-any.whl\n",
      "Collecting botocore>=1.12.91 (from s3fs)\n",
      "Collecting urllib3<1.26,>=1.20; python_version != \"3.4\" (from botocore>=1.12.91->s3fs)\n",
      "  Using cached https://files.pythonhosted.org/packages/e1/e5/df302e8017440f111c11cc41a6b432838672f5a70aa29227bf58149dc72f/urllib3-1.25.9-py2.py3-none-any.whl\n",
      "Requirement already satisfied: python-dateutil<3.0.0,>=2.1 in /mnt/tmp/1591975439728-0/lib/python3.7/site-packages (from botocore>=1.12.91->s3fs)\n",
      "Requirement already satisfied: jmespath<1.0.0,>=0.7.1 in /usr/local/lib/python3.7/site-packages (from botocore>=1.12.91->s3fs)\n",
      "Collecting docutils<0.16,>=0.10 (from botocore>=1.12.91->s3fs)\n",
      "  Using cached https://files.pythonhosted.org/packages/22/cd/a6aa959dca619918ccb55023b4cb151949c64d4d5d55b3f4ffd7eee0c6e8/docutils-0.15.2-py3-none-any.whl\n",
      "Requirement already satisfied: six>=1.5 in /usr/local/lib/python3.7/site-packages (from python-dateutil<3.0.0,>=2.1->botocore>=1.12.91->s3fs)\n",
      "Installing collected packages: fsspec, urllib3, docutils, botocore, s3fs\n",
      "Successfully installed botocore-1.17.1 docutils-0.15.2 fsspec-0.7.4 s3fs-0.4.2 urllib3-1.25.9"
     ]
    }
   ],
   "source": [
    "from pyspark.sql import SQLContext, SparkSession\n",
    "from pyspark import SparkContext\n",
    "from pyspark.sql.functions import *\n",
    "from pyspark.sql.types import IntegerType, StructType, StructField\n",
    "from pyspark.ml import Pipeline\n",
    "from pyspark.ml.regression import RandomForestRegressor\n",
    "from pyspark.ml.feature import VectorAssembler\n",
    "#sc.install_pypi_package(\"pandas\")\n",
    "#sc.install_pypi_package(\"s3fs\")\n",
    "import pandas as pd"
   ]
  },
  {
   "cell_type": "code",
   "execution_count": 2,
   "metadata": {},
   "outputs": [
    {
     "data": {
      "application/vnd.jupyter.widget-view+json": {
       "model_id": "22ac25a4279b44838cf01e911675b626",
       "version_major": 2,
       "version_minor": 0
      },
      "text/plain": [
       "VBox()"
      ]
     },
     "metadata": {},
     "output_type": "display_data"
    },
    {
     "data": {
      "application/vnd.jupyter.widget-view+json": {
       "model_id": "",
       "version_major": 2,
       "version_minor": 0
      },
      "text/plain": [
       "FloatProgress(value=0.0, bar_style='info', description='Progress:', layout=Layout(height='25px', width='50%'),…"
      ]
     },
     "metadata": {},
     "output_type": "display_data"
    }
   ],
   "source": [
    "#sc = SparkContext()\n",
    "sqlcontext = SQLContext(sc)\n",
    "sc.setLogLevel('ERROR')\n",
    "\n",
    "path = 's3://nu-zach-s3/trading.csv'\n",
    "trading = sqlcontext.read.csv(path, header = True)"
   ]
  },
  {
   "cell_type": "code",
   "execution_count": 25,
   "metadata": {},
   "outputs": [
    {
     "data": {
      "application/vnd.jupyter.widget-view+json": {
       "model_id": "560074a6b5a44f15a22ffef7cbcaaa5d",
       "version_major": 2,
       "version_minor": 0
      },
      "text/plain": [
       "VBox()"
      ]
     },
     "metadata": {},
     "output_type": "display_data"
    },
    {
     "data": {
      "application/vnd.jupyter.widget-view+json": {
       "model_id": "",
       "version_major": 2,
       "version_minor": 0
      },
      "text/plain": [
       "FloatProgress(value=0.0, bar_style='info', description='Progress:', layout=Layout(height='25px', width='50%'),…"
      ]
     },
     "metadata": {},
     "output_type": "display_data"
    },
    {
     "name": "stdout",
     "output_type": "stream",
     "text": [
      "+-------------------+-------+------+--------+\n",
      "|         time_stamp|bar_num|profit|trade_id|\n",
      "+-------------------+-------+------+--------+\n",
      "|2015-08-03 11:15:00|    120|   -57|       1|\n",
      "|2015-08-03 11:14:00|    119|   -40|       1|\n",
      "|2015-08-03 11:13:00|    118|   -29|       1|\n",
      "|2015-08-03 11:12:00|    117|   -70|       1|\n",
      "|2015-08-03 11:11:00|    116|   -67|       1|\n",
      "|2015-08-03 11:10:00|    115|   -35|       1|\n",
      "|2015-08-03 11:09:00|    114|   -26|       1|\n",
      "|2015-08-03 11:08:00|    113|   -47|       1|\n",
      "|2015-08-03 11:07:00|    112|   -47|       1|\n",
      "|2015-08-03 11:06:00|    111|   -48|       1|\n",
      "|2015-08-03 11:05:00|    110|   -48|       1|\n",
      "|2015-08-03 11:04:00|    109|   -39|       1|\n",
      "|2015-08-03 11:03:00|    108|   -17|       1|\n",
      "|2015-08-03 11:02:00|    107|   -26|       1|\n",
      "|2015-08-03 11:01:00|    106|    -7|       1|\n",
      "|2015-08-03 11:00:00|    105|    17|       1|\n",
      "|2015-08-03 10:59:00|    104|    12|       1|\n",
      "|2015-08-03 10:58:00|    103|    12|       1|\n",
      "|2015-08-03 10:57:00|    102|    59|       1|\n",
      "|2015-08-03 10:56:00|    101|    88|       1|\n",
      "|2015-08-03 10:55:00|    100|    59|       1|\n",
      "|2015-08-03 10:54:00|     99|    67|       1|\n",
      "|2015-08-03 10:53:00|     98|    44|       1|\n",
      "|2015-08-03 10:52:00|     97|    53|       1|\n",
      "|2015-08-03 10:51:00|     96|    92|       1|\n",
      "|2015-08-03 10:50:00|     95|    83|       1|\n",
      "|2015-08-03 10:49:00|     94|    83|       1|\n",
      "|2015-08-03 10:48:00|     93|    92|       1|\n",
      "|2015-08-03 10:47:00|     92|    92|       1|\n",
      "|2015-08-03 10:46:00|     91|    90|       1|\n",
      "|2015-08-03 10:45:00|     90|   108|       1|\n",
      "|2015-08-03 10:44:00|     89|   122|       1|\n",
      "|2015-08-03 10:43:00|     88|   123|       1|\n",
      "|2015-08-03 10:42:00|     87|   114|       1|\n",
      "|2015-08-03 10:41:00|     86|   108|       1|\n",
      "|2015-08-03 10:40:00|     85|   122|       1|\n",
      "|2015-08-03 10:39:00|     84|   132|       1|\n",
      "|2015-08-03 10:38:00|     83|   144|       1|\n",
      "|2015-08-03 10:37:00|     82|   134|       1|\n",
      "|2015-08-03 10:36:00|     81|   119|       1|\n",
      "|2015-08-03 10:35:00|     80|    83|       1|\n",
      "|2015-08-03 10:34:00|     79|   100|       1|\n",
      "|2015-08-03 10:33:00|     78|    95|       1|\n",
      "|2015-08-03 10:32:00|     77|    83|       1|\n",
      "|2015-08-03 10:31:00|     76|    65|       1|\n",
      "|2015-08-03 10:30:00|     75|    78|       1|\n",
      "|2015-08-03 10:29:00|     74|    51|       1|\n",
      "|2015-08-03 10:28:00|     73|    59|       1|\n",
      "|2015-08-03 10:27:00|     72|    83|       1|\n",
      "|2015-08-03 10:26:00|     71|    92|       1|\n",
      "|2015-08-03 10:25:00|     70|   102|       1|\n",
      "|2015-08-03 10:24:00|     69|    73|       1|\n",
      "|2015-08-03 10:23:00|     68|    80|       1|\n",
      "|2015-08-03 10:22:00|     67|    81|       1|\n",
      "|2015-08-03 10:21:00|     66|    74|       1|\n",
      "|2015-08-03 10:20:00|     65|   101|       1|\n",
      "|2015-08-03 10:19:00|     64|    82|       1|\n",
      "|2015-08-03 10:18:00|     63|    52|       1|\n",
      "|2015-08-03 10:17:00|     62|    47|       1|\n",
      "|2015-08-03 10:16:00|     61|    40|       1|\n",
      "|2015-08-03 10:15:00|     60|    50|       1|\n",
      "|2015-08-03 10:14:00|     59|    43|       1|\n",
      "|2015-08-03 10:13:00|     58|    60|       1|\n",
      "|2015-08-03 10:12:00|     57|    44|       1|\n",
      "|2015-08-03 10:11:00|     56|    -2|       1|\n",
      "|2015-08-03 10:10:00|     55|    18|       1|\n",
      "|2015-08-03 10:09:00|     54|    28|       1|\n",
      "|2015-08-03 10:08:00|     53|    -6|       1|\n",
      "|2015-08-03 10:07:00|     52|     0|       1|\n",
      "|2015-08-03 10:06:00|     51|    44|       1|\n",
      "|2015-08-03 10:05:00|     50|    14|       1|\n",
      "|2015-08-03 10:04:00|     49|   -20|       1|\n",
      "|2015-08-03 10:03:00|     48|   -28|       1|\n",
      "|2015-08-03 10:02:00|     47|   -29|       1|\n",
      "|2015-08-03 10:01:00|     46|    -1|       1|\n",
      "|2015-08-03 10:00:00|     45|    27|       1|\n",
      "|2015-08-03 09:59:00|     44|    30|       1|\n",
      "|2015-08-03 09:58:00|     43|    13|       1|\n",
      "|2015-08-03 09:57:00|     42|    16|       1|\n",
      "|2015-08-03 09:56:00|     41|    30|       1|\n",
      "|2015-08-03 09:55:00|     40|    32|       1|\n",
      "|2015-08-03 09:54:00|     39|    65|       1|\n",
      "|2015-08-03 09:53:00|     38|    81|       1|\n",
      "|2015-08-03 09:52:00|     37|    80|       1|\n",
      "|2015-08-03 09:51:00|     36|    52|       1|\n",
      "|2015-08-03 09:50:00|     35|    70|       1|\n",
      "|2015-08-03 09:49:00|     34|    33|       1|\n",
      "|2015-08-03 09:48:00|     33|    25|       1|\n",
      "|2015-08-03 09:47:00|     32|    30|       1|\n",
      "|2015-08-03 09:46:00|     31|    39|       1|\n",
      "|2015-08-03 09:45:00|     30|    54|       1|\n",
      "|2015-08-03 09:44:00|     29|    50|       1|\n",
      "|2015-08-03 09:43:00|     28|    43|       1|\n",
      "|2015-08-03 09:42:00|     27|    61|       1|\n",
      "|2015-08-03 09:41:00|     26|    72|       1|\n",
      "|2015-08-03 09:40:00|     25|    83|       1|\n",
      "|2015-08-03 09:39:00|     24|    79|       1|\n",
      "|2015-08-03 09:38:00|     23|    79|       1|\n",
      "|2015-08-03 09:37:00|     22|    33|       1|\n",
      "|2015-08-03 09:36:00|     21|    20|       1|\n",
      "|2015-08-03 09:35:00|     20|    20|       1|\n",
      "|2015-08-03 09:34:00|     19|    -7|       1|\n",
      "|2015-08-03 09:33:00|     18|   -19|       1|\n",
      "|2015-08-03 09:32:00|     17|   -45|       1|\n",
      "|2015-08-03 09:31:00|     16|   -37|       1|\n",
      "|2015-08-03 09:30:00|     15|   -11|       1|\n",
      "|2015-08-03 09:29:00|     14|   -29|       1|\n",
      "|2015-08-03 09:28:00|     13|   -39|       1|\n",
      "|2015-08-03 09:27:00|     12|   -30|       1|\n",
      "|2015-08-03 09:26:00|     11|   -41|       1|\n",
      "|2015-08-03 09:25:00|     10|   -39|       1|\n",
      "|2015-08-03 09:24:00|      9|   -71|       1|\n",
      "|2015-08-03 09:23:00|      8|   -62|       1|\n",
      "|2015-08-03 09:22:00|      7|   -60|       1|\n",
      "|2015-08-03 09:21:00|      6|   -30|       1|\n",
      "|2015-08-03 09:20:00|      5|     9|       1|\n",
      "|2015-08-03 09:19:00|      4|    18|       1|\n",
      "|2015-08-03 09:18:00|      3|    -8|       1|\n",
      "|2015-08-03 09:17:00|      2|     1|       1|\n",
      "|2015-08-03 09:16:00|      1|    13|       1|\n",
      "+-------------------+-------+------+--------+"
     ]
    }
   ],
   "source": [
    "trading.filter((col('trade_id')==1)).select('time_stamp','bar_num','profit','trade_id').show(130)"
   ]
  },
  {
   "cell_type": "code",
   "execution_count": null,
   "metadata": {},
   "outputs": [],
   "source": []
  },
  {
   "cell_type": "code",
   "execution_count": 3,
   "metadata": {},
   "outputs": [
    {
     "data": {
      "application/vnd.jupyter.widget-view+json": {
       "model_id": "1859e1fa4f7b45fe8ba75f52c38415fc",
       "version_major": 2,
       "version_minor": 0
      },
      "text/plain": [
       "VBox()"
      ]
     },
     "metadata": {},
     "output_type": "display_data"
    },
    {
     "data": {
      "application/vnd.jupyter.widget-view+json": {
       "model_id": "",
       "version_major": 2,
       "version_minor": 0
      },
      "text/plain": [
       "FloatProgress(value=0.0, bar_style='info', description='Progress:', layout=Layout(height='25px', width='50%'),…"
      ]
     },
     "metadata": {},
     "output_type": "display_data"
    }
   ],
   "source": [
    "# clean date and create groups for bar_num\n",
    "trading_clean = trading.orderBy(\"time_stamp\",ascending=False)\\\n",
    "                       .withColumn('date', to_date('time_stamp','yyyy-MM-dd'))\\\n",
    "                       .withColumn('year',year(col('date')))\\\n",
    "                       .withColumn('Month', month(col('date')))\\\n",
    "                       .withColumn('group', ceil(col('bar_num')/10))\\\n",
    "                       .drop('time_stamp')\\\n",
    "                       .drop('direction')\\\n",
    "                       .filter(col('year')>=2007)\\\n",
    "                       .filter((col('year')<=2015) & (col('month')<=7))\\\n",
    "                        \n",
    "# Change string type to integer\n",
    "trading_clean = trading_clean.select([col(c).cast(\"integer\") for c in trading_clean.columns])\n",
    "\n",
    "\n",
    "# create new features\n",
    "group_data = trading_clean.groupBy('trade_id','group')\n",
    "group_data = group_data.agg(min(col('profit')).alias('profit_min'),\n",
    "                            max(col('profit')).alias('profit_max'),\n",
    "                            avg(col('profit')).alias('profit_avg'),\n",
    "                            sum(col('profit')).alias('profit_sum'))\n",
    "\n",
    "trading_clean = trading_clean.join(group_data, on = ['trade_id', 'group'])"
   ]
  },
  {
   "cell_type": "code",
   "execution_count": 27,
   "metadata": {},
   "outputs": [
    {
     "data": {
      "application/vnd.jupyter.widget-view+json": {
       "model_id": "db014cfa3c5c4c3dbdc9c0906fe28b9e",
       "version_major": 2,
       "version_minor": 0
      },
      "text/plain": [
       "VBox()"
      ]
     },
     "metadata": {},
     "output_type": "display_data"
    },
    {
     "data": {
      "application/vnd.jupyter.widget-view+json": {
       "model_id": "",
       "version_major": 2,
       "version_minor": 0
      },
      "text/plain": [
       "FloatProgress(value=0.0, bar_style='info', description='Progress:', layout=Layout(height='25px', width='50%'),…"
      ]
     },
     "metadata": {},
     "output_type": "display_data"
    },
    {
     "name": "stdout",
     "output_type": "stream",
     "text": [
      "+-------+------+--------+----+-----+-----+----------+\n",
      "|bar_num|profit|trade_id|year|month|group|profit_sum|\n",
      "+-------+------+--------+----+-----+-----+----------+\n",
      "|     81|   119|       1|2015|    8|    9|      1226|\n",
      "|     82|   134|       1|2015|    8|    9|      1226|\n",
      "|     83|   144|       1|2015|    8|    9|      1226|\n",
      "|     84|   132|       1|2015|    8|    9|      1226|\n",
      "|     85|   122|       1|2015|    8|    9|      1226|\n",
      "|     86|   108|       1|2015|    8|    9|      1226|\n",
      "|     87|   114|       1|2015|    8|    9|      1226|\n",
      "|     88|   123|       1|2015|    8|    9|      1226|\n",
      "|     89|   122|       1|2015|    8|    9|      1226|\n",
      "|     90|   108|       1|2015|    8|    9|      1226|\n",
      "+-------+------+--------+----+-----+-----+----------+"
     ]
    }
   ],
   "source": [
    "trading_clean.filter((col('trade_id')==1) & (col('group')==9)).select('bar_num','profit','trade_id','year','month','group','profit_sum').show()"
   ]
  },
  {
   "cell_type": "code",
   "execution_count": 18,
   "metadata": {},
   "outputs": [
    {
     "data": {
      "application/vnd.jupyter.widget-view+json": {
       "model_id": "e41f9f6681bf466289e780b135e56aab",
       "version_major": 2,
       "version_minor": 0
      },
      "text/plain": [
       "VBox()"
      ]
     },
     "metadata": {},
     "output_type": "display_data"
    },
    {
     "data": {
      "application/vnd.jupyter.widget-view+json": {
       "model_id": "",
       "version_major": 2,
       "version_minor": 0
      },
      "text/plain": [
       "FloatProgress(value=0.0, bar_style='info', description='Progress:', layout=Layout(height='25px', width='50%'),…"
      ]
     },
     "metadata": {},
     "output_type": "display_data"
    },
    {
     "name": "stdout",
     "output_type": "stream",
     "text": [
      "+-------+------+--------+----+-----+-----+----------+\n",
      "|bar_num|profit|trade_id|year|month|group|profit_sum|\n",
      "+-------+------+--------+----+-----+-----+----------+\n",
      "|      1|    13|       1|2015|    8|    1|      -229|\n",
      "|      4|    18|       1|2015|    8|    1|      -229|\n",
      "|      7|   -60|       1|2015|    8|    1|      -229|\n",
      "|      8|   -62|       1|2015|    8|    1|      -229|\n",
      "|      2|     1|       1|2015|    8|    1|      -229|\n",
      "|      6|   -30|       1|2015|    8|    1|      -229|\n",
      "|     10|   -39|       1|2015|    8|    1|      -229|\n",
      "|      9|   -71|       1|2015|    8|    1|      -229|\n",
      "|      5|     9|       1|2015|    8|    1|      -229|\n",
      "|      3|    -8|       1|2015|    8|    1|      -229|\n",
      "|     11|   -41|       1|2015|    8|    2|      -238|\n",
      "|     18|   -19|       1|2015|    8|    2|      -238|\n",
      "|     20|    20|       1|2015|    8|    2|      -238|\n",
      "|     16|   -37|       1|2015|    8|    2|      -238|\n",
      "|     12|   -30|       1|2015|    8|    2|      -238|\n",
      "|     15|   -11|       1|2015|    8|    2|      -238|\n",
      "|     19|    -7|       1|2015|    8|    2|      -238|\n",
      "|     13|   -39|       1|2015|    8|    2|      -238|\n",
      "|     17|   -45|       1|2015|    8|    2|      -238|\n",
      "|     14|   -29|       1|2015|    8|    2|      -238|\n",
      "|     23|    79|       1|2015|    8|    3|       574|\n",
      "|     21|    20|       1|2015|    8|    3|       574|\n",
      "|     29|    50|       1|2015|    8|    3|       574|\n",
      "|     22|    33|       1|2015|    8|    3|       574|\n",
      "|     30|    54|       1|2015|    8|    3|       574|\n",
      "|     25|    83|       1|2015|    8|    3|       574|\n",
      "|     26|    72|       1|2015|    8|    3|       574|\n",
      "|     24|    79|       1|2015|    8|    3|       574|\n",
      "|     28|    43|       1|2015|    8|    3|       574|\n",
      "|     27|    61|       1|2015|    8|    3|       574|\n",
      "|     33|    25|       1|2015|    8|    4|       507|\n",
      "|     34|    33|       1|2015|    8|    4|       507|\n",
      "|     36|    52|       1|2015|    8|    4|       507|\n",
      "|     38|    81|       1|2015|    8|    4|       507|\n",
      "|     32|    30|       1|2015|    8|    4|       507|\n",
      "|     40|    32|       1|2015|    8|    4|       507|\n",
      "|     31|    39|       1|2015|    8|    4|       507|\n",
      "|     35|    70|       1|2015|    8|    4|       507|\n",
      "|     37|    80|       1|2015|    8|    4|       507|\n",
      "|     39|    65|       1|2015|    8|    4|       507|\n",
      "|     48|   -28|       1|2015|    8|    5|        52|\n",
      "|     50|    14|       1|2015|    8|    5|        52|\n",
      "|     43|    13|       1|2015|    8|    5|        52|\n",
      "|     41|    30|       1|2015|    8|    5|        52|\n",
      "|     42|    16|       1|2015|    8|    5|        52|\n",
      "|     44|    30|       1|2015|    8|    5|        52|\n",
      "|     45|    27|       1|2015|    8|    5|        52|\n",
      "|     49|   -20|       1|2015|    8|    5|        52|\n",
      "|     47|   -29|       1|2015|    8|    5|        52|\n",
      "|     46|    -1|       1|2015|    8|    5|        52|\n",
      "|     51|    44|       1|2015|    8|    6|       279|\n",
      "|     60|    50|       1|2015|    8|    6|       279|\n",
      "|     58|    60|       1|2015|    8|    6|       279|\n",
      "|     57|    44|       1|2015|    8|    6|       279|\n",
      "|     54|    28|       1|2015|    8|    6|       279|\n",
      "|     56|    -2|       1|2015|    8|    6|       279|\n",
      "|     59|    43|       1|2015|    8|    6|       279|\n",
      "|     53|    -6|       1|2015|    8|    6|       279|\n",
      "|     52|     0|       1|2015|    8|    6|       279|\n",
      "|     55|    18|       1|2015|    8|    6|       279|\n",
      "|     70|   102|       1|2015|    8|    7|       732|\n",
      "|     63|    52|       1|2015|    8|    7|       732|\n",
      "|     62|    47|       1|2015|    8|    7|       732|\n",
      "|     66|    74|       1|2015|    8|    7|       732|\n",
      "|     65|   101|       1|2015|    8|    7|       732|\n",
      "|     61|    40|       1|2015|    8|    7|       732|\n",
      "|     68|    80|       1|2015|    8|    7|       732|\n",
      "|     69|    73|       1|2015|    8|    7|       732|\n",
      "|     67|    81|       1|2015|    8|    7|       732|\n",
      "|     64|    82|       1|2015|    8|    7|       732|\n",
      "|     77|    83|       1|2015|    8|    8|       789|\n",
      "|     79|   100|       1|2015|    8|    8|       789|\n",
      "|     76|    65|       1|2015|    8|    8|       789|\n",
      "|     73|    59|       1|2015|    8|    8|       789|\n",
      "|     74|    51|       1|2015|    8|    8|       789|\n",
      "|     80|    83|       1|2015|    8|    8|       789|\n",
      "|     71|    92|       1|2015|    8|    8|       789|\n",
      "|     72|    83|       1|2015|    8|    8|       789|\n",
      "|     75|    78|       1|2015|    8|    8|       789|\n",
      "|     78|    95|       1|2015|    8|    8|       789|\n",
      "|     81|   119|       1|2015|    8|    9|      1226|\n",
      "|     84|   132|       1|2015|    8|    9|      1226|\n",
      "|     86|   108|       1|2015|    8|    9|      1226|\n",
      "|     90|   108|       1|2015|    8|    9|      1226|\n",
      "|     88|   123|       1|2015|    8|    9|      1226|\n",
      "|     82|   134|       1|2015|    8|    9|      1226|\n",
      "|     85|   122|       1|2015|    8|    9|      1226|\n",
      "|     87|   114|       1|2015|    8|    9|      1226|\n",
      "|     89|   122|       1|2015|    8|    9|      1226|\n",
      "|     83|   144|       1|2015|    8|    9|      1226|\n",
      "|    100|    59|       1|2015|    8|   10|       755|\n",
      "|     91|    90|       1|2015|    8|   10|       755|\n",
      "|     99|    67|       1|2015|    8|   10|       755|\n",
      "|     93|    92|       1|2015|    8|   10|       755|\n",
      "|     97|    53|       1|2015|    8|   10|       755|\n",
      "|     95|    83|       1|2015|    8|   10|       755|\n",
      "|     92|    92|       1|2015|    8|   10|       755|\n",
      "|     98|    44|       1|2015|    8|   10|       755|\n",
      "|     94|    83|       1|2015|    8|   10|       755|\n",
      "|     96|    92|       1|2015|    8|   10|       755|\n",
      "|    110|   -48|       1|2015|    8|   11|        51|\n",
      "|    108|   -17|       1|2015|    8|   11|        51|\n",
      "|    101|    88|       1|2015|    8|   11|        51|\n",
      "|    102|    59|       1|2015|    8|   11|        51|\n",
      "|    105|    17|       1|2015|    8|   11|        51|\n",
      "|    109|   -39|       1|2015|    8|   11|        51|\n",
      "|    103|    12|       1|2015|    8|   11|        51|\n",
      "|    104|    12|       1|2015|    8|   11|        51|\n",
      "|    107|   -26|       1|2015|    8|   11|        51|\n",
      "|    106|    -7|       1|2015|    8|   11|        51|\n",
      "|    117|   -70|       1|2015|    8|   12|      -466|\n",
      "|    115|   -35|       1|2015|    8|   12|      -466|\n",
      "|    119|   -40|       1|2015|    8|   12|      -466|\n",
      "|    118|   -29|       1|2015|    8|   12|      -466|\n",
      "|    111|   -48|       1|2015|    8|   12|      -466|\n",
      "|    114|   -26|       1|2015|    8|   12|      -466|\n",
      "|    116|   -67|       1|2015|    8|   12|      -466|\n",
      "|    120|   -57|       1|2015|    8|   12|      -466|\n",
      "|    112|   -47|       1|2015|    8|   12|      -466|\n",
      "|    113|   -47|       1|2015|    8|   12|      -466|\n",
      "|      7|   -18|       2|2015|    8|    1|      -294|\n",
      "|      1|   -20|       2|2015|    8|    1|      -294|\n",
      "|      2|   -21|       2|2015|    8|    1|      -294|\n",
      "|      6|   -32|       2|2015|    8|    1|      -294|\n",
      "|      5|   -40|       2|2015|    8|    1|      -294|\n",
      "|      4|   -36|       2|2015|    8|    1|      -294|\n",
      "|      3|   -52|       2|2015|    8|    1|      -294|\n",
      "|      8|   -22|       2|2015|    8|    1|      -294|\n",
      "|     10|   -33|       2|2015|    8|    1|      -294|\n",
      "|      9|   -20|       2|2015|    8|    1|      -294|\n",
      "+-------+------+--------+----+-----+-----+----------+\n",
      "only showing top 130 rows"
     ]
    }
   ],
   "source": [
    "trading_clean.sort('trade_id','group').select('bar_num','profit','trade_id','year','month','group','profit_sum').show(130)"
   ]
  },
  {
   "cell_type": "code",
   "execution_count": 5,
   "metadata": {},
   "outputs": [
    {
     "data": {
      "application/vnd.jupyter.widget-view+json": {
       "model_id": "30e7d6aa1107493e91a1e0db2b8faa72",
       "version_major": 2,
       "version_minor": 0
      },
      "text/plain": [
       "VBox()"
      ]
     },
     "metadata": {},
     "output_type": "display_data"
    },
    {
     "data": {
      "application/vnd.jupyter.widget-view+json": {
       "model_id": "",
       "version_major": 2,
       "version_minor": 0
      },
      "text/plain": [
       "FloatProgress(value=0.0, bar_style='info', description='Progress:', layout=Layout(height='25px', width='50%'),…"
      ]
     },
     "metadata": {},
     "output_type": "display_data"
    }
   ],
   "source": [
    "trading_clean_subset = trading_clean.select(col('trade_id'),\n",
    "                                          col('group'),\n",
    "                                          col('profit_min'),\n",
    "                                          col('profit_max'),\n",
    "                                          col('profit_avg'),\n",
    "                                          col('profit_sum'))\\\n",
    "                                    .groupBy('trade_id','group','profit_min','profit_max','profit_avg','profit_sum').count()\\\n",
    "                                    .drop('count').sort('trade_id','group')"
   ]
  },
  {
   "cell_type": "code",
   "execution_count": 6,
   "metadata": {},
   "outputs": [
    {
     "data": {
      "application/vnd.jupyter.widget-view+json": {
       "model_id": "5b96816057e14805bd8535156e6cd65a",
       "version_major": 2,
       "version_minor": 0
      },
      "text/plain": [
       "VBox()"
      ]
     },
     "metadata": {},
     "output_type": "display_data"
    },
    {
     "data": {
      "application/vnd.jupyter.widget-view+json": {
       "model_id": "",
       "version_major": 2,
       "version_minor": 0
      },
      "text/plain": [
       "FloatProgress(value=0.0, bar_style='info', description='Progress:', layout=Layout(height='25px', width='50%'),…"
      ]
     },
     "metadata": {},
     "output_type": "display_data"
    },
    {
     "name": "stdout",
     "output_type": "stream",
     "text": [
      "+--------+-----+----------+\n",
      "|trade_id|group|profit_min|\n",
      "+--------+-----+----------+\n",
      "|       1|    1|       -71|\n",
      "|       1|    2|       -45|\n",
      "|       1|    3|        20|\n",
      "|       1|    4|        25|\n",
      "|       1|    5|       -29|\n",
      "|       1|    6|        -6|\n",
      "|       1|    7|        40|\n",
      "|       1|    8|        51|\n",
      "|       1|    9|       108|\n",
      "|       1|   10|        44|\n",
      "|       1|   11|       -48|\n",
      "|       1|   12|       -70|\n",
      "|       2|    1|       -52|\n",
      "|       2|    2|       -35|\n",
      "|       2|    3|        24|\n",
      "|       2|    4|        75|\n",
      "|       2|    5|        58|\n",
      "|       2|    6|        30|\n",
      "|       2|    7|        37|\n",
      "|       2|    8|        59|\n",
      "|       2|    9|        57|\n",
      "|       2|   10|        97|\n",
      "|       2|   11|       150|\n",
      "|       2|   12|       146|\n",
      "|       3|    1|       -36|\n",
      "|       3|    2|        46|\n",
      "|       3|    3|        11|\n",
      "|       3|    4|         4|\n",
      "|       3|    5|       -13|\n",
      "|       3|    6|       -44|\n",
      "|       3|    7|       -30|\n",
      "|       3|    8|       -50|\n",
      "|       3|    9|       -78|\n",
      "|       3|   10|      -105|\n",
      "|       3|   11|       -95|\n",
      "|       3|   12|       -74|\n",
      "|       4|    1|       -31|\n",
      "|       4|    2|       -15|\n",
      "|       4|    3|       -46|\n",
      "|       4|    4|       -69|\n",
      "|       4|    5|      -108|\n",
      "|       4|    6|       -21|\n",
      "|       4|    7|       -30|\n",
      "|       4|    8|        23|\n",
      "|       4|    9|       -37|\n",
      "|       4|   10|       -76|\n",
      "|       4|   11|      -199|\n",
      "|       4|   12|      -195|\n",
      "|       5|    1|       -20|\n",
      "|       5|    2|        17|\n",
      "|       5|    3|        27|\n",
      "|       5|    4|        52|\n",
      "|       5|    5|        33|\n",
      "|       5|    6|        30|\n",
      "|       5|    7|        39|\n",
      "|       5|    8|         1|\n",
      "|       5|    9|         0|\n",
      "|       5|   10|        -3|\n",
      "|       5|   11|       -28|\n",
      "|       5|   12|         1|\n",
      "|       6|    1|       -40|\n",
      "|       6|    2|       -41|\n",
      "|       6|    3|       -37|\n",
      "|       6|    4|       -47|\n",
      "|       6|    5|       -87|\n",
      "|       6|    6|       -80|\n",
      "|       6|    7|       -88|\n",
      "|       6|    8|      -100|\n",
      "|       6|    9|      -109|\n",
      "|       6|   10|       -95|\n",
      "|       6|   11|       -61|\n",
      "|       6|   12|       -69|\n",
      "|       7|    1|       -59|\n",
      "|       7|    2|      -118|\n",
      "|       7|    3|      -119|\n",
      "|       7|    4|      -211|\n",
      "|       8|    1|       -44|\n",
      "|       8|    2|        51|\n",
      "|       8|    3|        90|\n",
      "|       8|    4|       -17|\n",
      "|       8|    5|       -32|\n",
      "|       8|    6|       -36|\n",
      "|       8|    7|       -31|\n",
      "|       8|    8|       -52|\n",
      "|       8|    9|       -47|\n",
      "|       8|   10|      -120|\n",
      "|       8|   11|      -218|\n",
      "|       8|   12|      -189|\n",
      "|       9|    1|       -17|\n",
      "|       9|    2|        -6|\n",
      "|       9|    3|      -138|\n",
      "|       9|    4|      -204|\n",
      "|       9|    5|      -156|\n",
      "|       9|    6|      -203|\n",
      "|       9|    7|      -256|\n",
      "|      10|    1|       -24|\n",
      "|      10|    2|       -69|\n",
      "|      10|    3|       -79|\n",
      "|      10|    4|       -62|\n",
      "|      10|    5|       -59|\n",
      "+--------+-----+----------+\n",
      "only showing top 100 rows"
     ]
    }
   ],
   "source": [
    "trading_clean_subset.select('trade_id','group','profit_min').show(100)"
   ]
  },
  {
   "cell_type": "code",
   "execution_count": 29,
   "metadata": {},
   "outputs": [
    {
     "data": {
      "application/vnd.jupyter.widget-view+json": {
       "model_id": "8fd5f34afe7442359371d33b63cfe51e",
       "version_major": 2,
       "version_minor": 0
      },
      "text/plain": [
       "VBox()"
      ]
     },
     "metadata": {},
     "output_type": "display_data"
    },
    {
     "data": {
      "application/vnd.jupyter.widget-view+json": {
       "model_id": "",
       "version_major": 2,
       "version_minor": 0
      },
      "text/plain": [
       "FloatProgress(value=0.0, bar_style='info', description='Progress:', layout=Layout(height='25px', width='50%'),…"
      ]
     },
     "metadata": {},
     "output_type": "display_data"
    },
    {
     "name": "stdout",
     "output_type": "stream",
     "text": [
      "+--------+-----+----------+----------+----------+----------+\n",
      "|trade_id|group|profit_min|profit_max|profit_avg|profit_sum|\n",
      "+--------+-----+----------+----------+----------+----------+\n",
      "|       1|    9|       108|       144|     122.6|      1226|\n",
      "+--------+-----+----------+----------+----------+----------+"
     ]
    }
   ],
   "source": [
    "trading_clean_subset.filter((col('trade_id')==1) & (col('group')==9)).show()"
   ]
  },
  {
   "cell_type": "code",
   "execution_count": 30,
   "metadata": {},
   "outputs": [
    {
     "data": {
      "application/vnd.jupyter.widget-view+json": {
       "model_id": "3f61fac837a7497e89aecb322526aa4d",
       "version_major": 2,
       "version_minor": 0
      },
      "text/plain": [
       "VBox()"
      ]
     },
     "metadata": {},
     "output_type": "display_data"
    },
    {
     "data": {
      "application/vnd.jupyter.widget-view+json": {
       "model_id": "",
       "version_major": 2,
       "version_minor": 0
      },
      "text/plain": [
       "FloatProgress(value=0.0, bar_style='info', description='Progress:', layout=Layout(height='25px', width='50%'),…"
      ]
     },
     "metadata": {},
     "output_type": "display_data"
    }
   ],
   "source": [
    "# for each group, not only var12-var78 will be used as features, \n",
    "# but the previous groups' profit(min,max,mean) as additional features\n",
    "#Here we are defining the schema of an empty dataframe that will grow as we traverse out loop\n",
    "schema = StructType([StructField('trade_id', IntegerType(), False), \n",
    "                     StructField(('group'), IntegerType(), False), \n",
    "                     StructField(('lag_profit_min'), IntegerType(), False),\n",
    "                     StructField(('lag_profit_max'), IntegerType(), False),\n",
    "                     StructField(('lag_profit_avg'), IntegerType(), False),\n",
    "                     StructField(('lag_profit_sum'), IntegerType(), False)])\n",
    "\n",
    "results = sqlcontext.createDataFrame([], schema)\n",
    "                     \n",
    "for group in range(1,13):      \n",
    "    if group == 1:\n",
    "        lag_profit = trading_clean_subset.filter(col('group')==1)\\\n",
    "                                         .withColumn('lag_profit_min',col('profit_min'))\\\n",
    "                                         .withColumn('lag_profit_max',col('profit_max'))\\\n",
    "                                         .withColumn('lag_profit_avg',col('profit_avg'))\\\n",
    "                                         .withColumn('lag_profit_sum',col('profit_sum'))\\\n",
    "                                         .select(col('trade_id'),\n",
    "                                               col('group'),\n",
    "                                               col('lag_profit_min'),\n",
    "                                               col('lag_profit_max'),\n",
    "                                               col('lag_profit_avg'),\n",
    "                                               col('lag_profit_sum'))\n",
    "    else:\n",
    "        previous_level = trading_clean_subset.filter(col('group')==group-1)\\\n",
    "                                  .select(col('trade_id'),\n",
    "                                          col('group'),\n",
    "                                          col('profit_min'),\n",
    "                                          col('profit_max'),\n",
    "                                          col('profit_avg'),\n",
    "                                          col('profit_sum'))\n",
    "        \n",
    "        lag_profit = previous_level.withColumn('group',col('group')+1)\\\n",
    "                                   .select(col('trade_id'),\n",
    "                                           col('group'),\n",
    "                                           col('profit_min').alias('lag_profit_min'),\n",
    "                                           col('profit_max').alias('lag_profit_max'),\n",
    "                                           col('profit_avg').alias('lag_profit_avg'),\n",
    "                                           col('profit_sum').alias('lag_profit_sum'))\n",
    "\n",
    "    results = results.union(lag_profit)\n",
    "\n",
    "# join with trading_clean to create the frame for modelling\n",
    "trading_model = trading_clean.join(results, on = ['trade_id','group'], how='inner')"
   ]
  },
  {
   "cell_type": "code",
   "execution_count": 31,
   "metadata": {},
   "outputs": [
    {
     "data": {
      "application/vnd.jupyter.widget-view+json": {
       "model_id": "ff703d4e7db9449d864ec939bf2d1c15",
       "version_major": 2,
       "version_minor": 0
      },
      "text/plain": [
       "VBox()"
      ]
     },
     "metadata": {},
     "output_type": "display_data"
    },
    {
     "data": {
      "application/vnd.jupyter.widget-view+json": {
       "model_id": "",
       "version_major": 2,
       "version_minor": 0
      },
      "text/plain": [
       "FloatProgress(value=0.0, bar_style='info', description='Progress:', layout=Layout(height='25px', width='50%'),…"
      ]
     },
     "metadata": {},
     "output_type": "display_data"
    },
    {
     "name": "stdout",
     "output_type": "stream",
     "text": [
      "+-------+------+--------+----+-----+-----+----------+--------------+\n",
      "|bar_num|profit|trade_id|year|month|group|profit_sum|lag_profit_sum|\n",
      "+-------+------+--------+----+-----+-----+----------+--------------+\n",
      "|     90|   108|       1|2015|    8|    9|      1226|           789|\n",
      "|     89|   122|       1|2015|    8|    9|      1226|           789|\n",
      "|     88|   123|       1|2015|    8|    9|      1226|           789|\n",
      "|     87|   114|       1|2015|    8|    9|      1226|           789|\n",
      "|     86|   108|       1|2015|    8|    9|      1226|           789|\n",
      "|     85|   122|       1|2015|    8|    9|      1226|           789|\n",
      "|     84|   132|       1|2015|    8|    9|      1226|           789|\n",
      "|     83|   144|       1|2015|    8|    9|      1226|           789|\n",
      "|     82|   134|       1|2015|    8|    9|      1226|           789|\n",
      "|     81|   119|       1|2015|    8|    9|      1226|           789|\n",
      "|     10|    47|       3|2015|    8|    1|       155|           155|\n",
      "|      9|    36|       3|2015|    8|    1|       155|           155|\n",
      "|      8|    53|       3|2015|    8|    1|       155|           155|\n",
      "|      7|    68|       3|2015|    8|    1|       155|           155|\n",
      "|      6|     3|       3|2015|    8|    1|       155|           155|\n",
      "|      5|    13|       3|2015|    8|    1|       155|           155|\n",
      "|      4|   -36|       3|2015|    8|    1|       155|           155|\n",
      "|      3|   -29|       3|2015|    8|    1|       155|           155|\n",
      "|      2|    -5|       3|2015|    8|    1|       155|           155|\n",
      "|      1|     5|       3|2015|    8|    1|       155|           155|\n",
      "|     30|   128|       8|2015|    7|    3|      1161|           833|\n",
      "|     29|    90|       8|2015|    7|    3|      1161|           833|\n",
      "|     28|    93|       8|2015|    7|    3|      1161|           833|\n",
      "|     27|   125|       8|2015|    7|    3|      1161|           833|\n",
      "|     26|   111|       8|2015|    7|    3|      1161|           833|\n",
      "|     25|   111|       8|2015|    7|    3|      1161|           833|\n",
      "|     24|   109|       8|2015|    7|    3|      1161|           833|\n",
      "|     23|   125|       8|2015|    7|    3|      1161|           833|\n",
      "|     22|   146|       8|2015|    7|    3|      1161|           833|\n",
      "|     21|   123|       8|2015|    7|    3|      1161|           833|\n",
      "|     20|   -27|      12|2015|    7|    2|      -191|          -309|\n",
      "|     19|   -26|      12|2015|    7|    2|      -191|          -309|\n",
      "|     18|     2|      12|2015|    7|    2|      -191|          -309|\n",
      "|     17|   -17|      12|2015|    7|    2|      -191|          -309|\n",
      "|     16|   -17|      12|2015|    7|    2|      -191|          -309|\n",
      "|     15|    -9|      12|2015|    7|    2|      -191|          -309|\n",
      "|     14|   -18|      12|2015|    7|    2|      -191|          -309|\n",
      "|     13|   -20|      12|2015|    7|    2|      -191|          -309|\n",
      "|     12|   -22|      12|2015|    7|    2|      -191|          -309|\n",
      "|     11|   -37|      12|2015|    7|    2|      -191|          -309|\n",
      "|     80|   -50|      13|2015|    7|    8|      -562|          -295|\n",
      "|     79|   -60|      13|2015|    7|    8|      -562|          -295|\n",
      "|     78|   -53|      13|2015|    7|    8|      -562|          -295|\n",
      "|     77|   -56|      13|2015|    7|    8|      -562|          -295|\n",
      "|     76|   -70|      13|2015|    7|    8|      -562|          -295|\n",
      "|     75|   -69|      13|2015|    7|    8|      -562|          -295|\n",
      "|     74|   -67|      13|2015|    7|    8|      -562|          -295|\n",
      "|     73|   -51|      13|2015|    7|    8|      -562|          -295|\n",
      "|     72|   -46|      13|2015|    7|    8|      -562|          -295|\n",
      "|     71|   -40|      13|2015|    7|    8|      -562|          -295|\n",
      "|     10|    16|      18|2015|    7|    1|       233|           233|\n",
      "|      9|    16|      18|2015|    7|    1|       233|           233|\n",
      "|      8|    31|      18|2015|    7|    1|       233|           233|\n",
      "|      7|    33|      18|2015|    7|    1|       233|           233|\n",
      "|      6|    34|      18|2015|    7|    1|       233|           233|\n",
      "|      5|    14|      18|2015|    7|    1|       233|           233|\n",
      "|      4|    18|      18|2015|    7|    1|       233|           233|\n",
      "|      3|    47|      18|2015|    7|    1|       233|           233|\n",
      "|      2|    47|      18|2015|    7|    1|       233|           233|\n",
      "|      1|   -23|      18|2015|    7|    1|       233|           233|\n",
      "|     60|  -120|      22|2015|    7|    6|     -1549|         -1078|\n",
      "|     59|  -131|      22|2015|    7|    6|     -1549|         -1078|\n",
      "|     58|  -121|      22|2015|    7|    6|     -1549|         -1078|\n",
      "|     57|  -122|      22|2015|    7|    6|     -1549|         -1078|\n",
      "|     56|  -155|      22|2015|    7|    6|     -1549|         -1078|\n",
      "|     55|  -169|      22|2015|    7|    6|     -1549|         -1078|\n",
      "|     54|  -180|      22|2015|    7|    6|     -1549|         -1078|\n",
      "|     53|  -188|      22|2015|    7|    6|     -1549|         -1078|\n",
      "|     52|  -175|      22|2015|    7|    6|     -1549|         -1078|\n",
      "|     51|  -188|      22|2015|    7|    6|     -1549|         -1078|\n",
      "|     20|   -89|      23|2015|    7|    2|      -753|          -313|\n",
      "|     19|   -91|      23|2015|    7|    2|      -753|          -313|\n",
      "|     18|   -90|      23|2015|    7|    2|      -753|          -313|\n",
      "|     17|   -72|      23|2015|    7|    2|      -753|          -313|\n",
      "|     16|   -81|      23|2015|    7|    2|      -753|          -313|\n",
      "|     15|   -79|      23|2015|    7|    2|      -753|          -313|\n",
      "|     14|   -72|      23|2015|    7|    2|      -753|          -313|\n",
      "|     13|   -72|      23|2015|    7|    2|      -753|          -313|\n",
      "|     12|   -60|      23|2015|    7|    2|      -753|          -313|\n",
      "|     11|   -47|      23|2015|    7|    2|      -753|          -313|\n",
      "|     90|    77|      24|2015|    7|    9|       761|          1034|\n",
      "|     89|    80|      24|2015|    7|    9|       761|          1034|\n",
      "|     88|    79|      24|2015|    7|    9|       761|          1034|\n",
      "|     87|    72|      24|2015|    7|    9|       761|          1034|\n",
      "|     86|    73|      24|2015|    7|    9|       761|          1034|\n",
      "|     85|    69|      24|2015|    7|    9|       761|          1034|\n",
      "|     84|    68|      24|2015|    7|    9|       761|          1034|\n",
      "|     83|    74|      24|2015|    7|    9|       761|          1034|\n",
      "|     82|    80|      24|2015|    7|    9|       761|          1034|\n",
      "|     81|    89|      24|2015|    7|    9|       761|          1034|\n",
      "|     90|    38|      27|2015|    7|    9|       699|           276|\n",
      "|     89|    86|      27|2015|    7|    9|       699|           276|\n",
      "|     88|   101|      27|2015|    7|    9|       699|           276|\n",
      "|     87|    29|      27|2015|    7|    9|       699|           276|\n",
      "|     86|    56|      27|2015|    7|    9|       699|           276|\n",
      "|     85|   108|      27|2015|    7|    9|       699|           276|\n",
      "|     84|    83|      27|2015|    7|    9|       699|           276|\n",
      "|     83|    83|      27|2015|    7|    9|       699|           276|\n",
      "|     82|    76|      27|2015|    7|    9|       699|           276|\n",
      "|     81|    39|      27|2015|    7|    9|       699|           276|\n",
      "|     20|     7|      31|2015|    7|    2|      -129|          -196|\n",
      "|     19|    -3|      31|2015|    7|    2|      -129|          -196|\n",
      "|     18|    -4|      31|2015|    7|    2|      -129|          -196|\n",
      "|     17|    -2|      31|2015|    7|    2|      -129|          -196|\n",
      "|     16|   -14|      31|2015|    7|    2|      -129|          -196|\n",
      "|     15|   -22|      31|2015|    7|    2|      -129|          -196|\n",
      "|     14|   -25|      31|2015|    7|    2|      -129|          -196|\n",
      "|     13|   -24|      31|2015|    7|    2|      -129|          -196|\n",
      "|     12|   -11|      31|2015|    7|    2|      -129|          -196|\n",
      "|     11|   -31|      31|2015|    7|    2|      -129|          -196|\n",
      "|     70|    81|      31|2015|    7|    7|       733|           279|\n",
      "|     69|    81|      31|2015|    7|    7|       733|           279|\n",
      "|     68|    87|      31|2015|    7|    7|       733|           279|\n",
      "|     67|    79|      31|2015|    7|    7|       733|           279|\n",
      "|     66|    74|      31|2015|    7|    7|       733|           279|\n",
      "|     65|    73|      31|2015|    7|    7|       733|           279|\n",
      "|     64|    71|      31|2015|    7|    7|       733|           279|\n",
      "|     63|    62|      31|2015|    7|    7|       733|           279|\n",
      "|     62|    64|      31|2015|    7|    7|       733|           279|\n",
      "|     61|    61|      31|2015|    7|    7|       733|           279|\n",
      "+-------+------+--------+----+-----+-----+----------+--------------+\n",
      "only showing top 120 rows"
     ]
    }
   ],
   "source": [
    "trading_model.select('bar_num','profit','trade_id','year','month','group','profit_sum','lag_profit_sum').show(120)"
   ]
  },
  {
   "cell_type": "code",
   "execution_count": 32,
   "metadata": {},
   "outputs": [
    {
     "data": {
      "application/vnd.jupyter.widget-view+json": {
       "model_id": "328674dfabf4441eb15df281a0518070",
       "version_major": 2,
       "version_minor": 0
      },
      "text/plain": [
       "VBox()"
      ]
     },
     "metadata": {},
     "output_type": "display_data"
    },
    {
     "data": {
      "application/vnd.jupyter.widget-view+json": {
       "model_id": "",
       "version_major": 2,
       "version_minor": 0
      },
      "text/plain": [
       "FloatProgress(value=0.0, bar_style='info', description='Progress:', layout=Layout(height='25px', width='50%'),…"
      ]
     },
     "metadata": {},
     "output_type": "display_data"
    },
    {
     "name": "stdout",
     "output_type": "stream",
     "text": [
      "root\n",
      " |-- trade_id: integer (nullable = true)\n",
      " |-- group: integer (nullable = true)\n",
      " |-- bar_num: integer (nullable = true)\n",
      " |-- profit: integer (nullable = true)\n",
      " |-- var12: integer (nullable = true)\n",
      " |-- var13: integer (nullable = true)\n",
      " |-- var14: integer (nullable = true)\n",
      " |-- var15: integer (nullable = true)\n",
      " |-- var16: integer (nullable = true)\n",
      " |-- var17: integer (nullable = true)\n",
      " |-- var18: integer (nullable = true)\n",
      " |-- var23: integer (nullable = true)\n",
      " |-- var24: integer (nullable = true)\n",
      " |-- var25: integer (nullable = true)\n",
      " |-- var26: integer (nullable = true)\n",
      " |-- var27: integer (nullable = true)\n",
      " |-- var28: integer (nullable = true)\n",
      " |-- var34: integer (nullable = true)\n",
      " |-- var35: integer (nullable = true)\n",
      " |-- var36: integer (nullable = true)\n",
      " |-- var37: integer (nullable = true)\n",
      " |-- var38: integer (nullable = true)\n",
      " |-- var45: integer (nullable = true)\n",
      " |-- var46: integer (nullable = true)\n",
      " |-- var47: integer (nullable = true)\n",
      " |-- var48: integer (nullable = true)\n",
      " |-- var56: integer (nullable = true)\n",
      " |-- var57: integer (nullable = true)\n",
      " |-- var58: integer (nullable = true)\n",
      " |-- var67: integer (nullable = true)\n",
      " |-- var68: integer (nullable = true)\n",
      " |-- var78: integer (nullable = true)\n",
      " |-- date: integer (nullable = true)\n",
      " |-- year: integer (nullable = true)\n",
      " |-- Month: integer (nullable = true)\n",
      " |-- profit_min: integer (nullable = true)\n",
      " |-- profit_max: integer (nullable = true)\n",
      " |-- profit_avg: double (nullable = true)\n",
      " |-- profit_sum: long (nullable = true)\n",
      " |-- lag_profit_min: integer (nullable = true)\n",
      " |-- lag_profit_max: integer (nullable = true)\n",
      " |-- lag_profit_avg: double (nullable = true)\n",
      " |-- lag_profit_sum: long (nullable = true)"
     ]
    }
   ],
   "source": [
    "trading_model.printSchema()"
   ]
  },
  {
   "cell_type": "code",
   "execution_count": 33,
   "metadata": {},
   "outputs": [
    {
     "data": {
      "application/vnd.jupyter.widget-view+json": {
       "model_id": "bf2fd0aa91ed4212ae6d69e2341b18fc",
       "version_major": 2,
       "version_minor": 0
      },
      "text/plain": [
       "VBox()"
      ]
     },
     "metadata": {},
     "output_type": "display_data"
    },
    {
     "data": {
      "application/vnd.jupyter.widget-view+json": {
       "model_id": "",
       "version_major": 2,
       "version_minor": 0
      },
      "text/plain": [
       "FloatProgress(value=0.0, bar_style='info', description='Progress:', layout=Layout(height='25px', width='50%'),…"
      ]
     },
     "metadata": {},
     "output_type": "display_data"
    },
    {
     "name": "stderr",
     "output_type": "stream",
     "text": [
      "Exception in thread cell_monitor-33:\n",
      "Traceback (most recent call last):\n",
      "  File \"/emr/notebook-env/lib/python3.7/threading.py\", line 926, in _bootstrap_inner\n",
      "    self.run()\n",
      "  File \"/emr/notebook-env/lib/python3.7/threading.py\", line 870, in run\n",
      "    self._target(*self._args, **self._kwargs)\n",
      "  File \"/emr/notebook-env/lib/python3.7/site-packages/awseditorssparkmonitoringwidget-1.0-py3.7.egg/awseditorssparkmonitoringwidget/cellmonitor.py\", line 178, in cell_monitor\n",
      "    job_binned_stages[job_id][stage_id] = all_stages[stage_id]\n",
      "KeyError: 2579\n",
      "\n"
     ]
    },
    {
     "name": "stdout",
     "output_type": "stream",
     "text": [
      "+--------+-----+--------------+--------------+--------------+--------------+\n",
      "|trade_id|group|lag_profit_min|lag_profit_max|lag_profit_avg|lag_profit_sum|\n",
      "+--------+-----+--------------+--------------+--------------+--------------+\n",
      "|       1|    9|            51|           100|          78.9|           789|\n",
      "+--------+-----+--------------+--------------+--------------+--------------+"
     ]
    }
   ],
   "source": [
    "results.filter((col('trade_id')==1) & (col('group')==9)).show()"
   ]
  },
  {
   "cell_type": "code",
   "execution_count": 13,
   "metadata": {},
   "outputs": [
    {
     "data": {
      "application/vnd.jupyter.widget-view+json": {
       "model_id": "9dad52409c3543b898a0df23a06d0ab6",
       "version_major": 2,
       "version_minor": 0
      },
      "text/plain": [
       "VBox()"
      ]
     },
     "metadata": {},
     "output_type": "display_data"
    },
    {
     "data": {
      "application/vnd.jupyter.widget-view+json": {
       "model_id": "",
       "version_major": 2,
       "version_minor": 0
      },
      "text/plain": [
       "FloatProgress(value=0.0, bar_style='info', description='Progress:', layout=Layout(height='25px', width='50%'),…"
      ]
     },
     "metadata": {},
     "output_type": "display_data"
    },
    {
     "name": "stdout",
     "output_type": "stream",
     "text": [
      "0"
     ]
    }
   ],
   "source": [
    "trading_model.where(col('bar_num').isNull()).count()"
   ]
  },
  {
   "cell_type": "code",
   "execution_count": 34,
   "metadata": {},
   "outputs": [
    {
     "data": {
      "application/vnd.jupyter.widget-view+json": {
       "model_id": "0cb9d75d902a421186dd23d0d8bb3e26",
       "version_major": 2,
       "version_minor": 0
      },
      "text/plain": [
       "VBox()"
      ]
     },
     "metadata": {},
     "output_type": "display_data"
    },
    {
     "data": {
      "application/vnd.jupyter.widget-view+json": {
       "model_id": "",
       "version_major": 2,
       "version_minor": 0
      },
      "text/plain": [
       "FloatProgress(value=0.0, bar_style='info', description='Progress:', layout=Layout(height='25px', width='50%'),…"
      ]
     },
     "metadata": {},
     "output_type": "display_data"
    }
   ],
   "source": [
    "############ modelling #############\n",
    "# lists to store mape\n",
    "mape_list = []\n",
    "\n",
    "# features\n",
    "fe = ['bar_num','var12', 'var13','var14', 'var15', 'var16', 'var17', 'var18', 'var23', 'var24', 'var25',\n",
    "       'var26', 'var27', 'var28', 'var34', 'var35', 'var36', 'var37', 'var38','var45', 'var46', 'var47', \n",
    "       'var48', 'var56', 'var57', 'var58', 'var67','var68', 'var78',\n",
    "      'lag_profit_min','lag_profit_max','lag_profit_avg','lag_profit_sum']\n",
    "\n",
    "\n",
    "assembler = VectorAssembler(inputCols=fe, outputCol='features').setHandleInvalid(\"skip\")\n",
    "rf = RandomForestRegressor(labelCol=\"profit\", featuresCol=\"features\")\n",
    "pipeline = Pipeline(stages=[assembler, rf])"
   ]
  },
  {
   "cell_type": "code",
   "execution_count": 35,
   "metadata": {},
   "outputs": [
    {
     "data": {
      "application/vnd.jupyter.widget-view+json": {
       "model_id": "b31fc4ee7c85496bb76a1d2210664444",
       "version_major": 2,
       "version_minor": 0
      },
      "text/plain": [
       "VBox()"
      ]
     },
     "metadata": {},
     "output_type": "display_data"
    },
    {
     "data": {
      "application/vnd.jupyter.widget-view+json": {
       "model_id": "",
       "version_major": 2,
       "version_minor": 0
      },
      "text/plain": [
       "FloatProgress(value=0.0, bar_style='info', description='Progress:', layout=Layout(height='25px', width='50%'),…"
      ]
     },
     "metadata": {},
     "output_type": "display_data"
    },
    {
     "name": "stderr",
     "output_type": "stream",
     "text": [
      "Exception in thread cell_monitor-35:\n",
      "Traceback (most recent call last):\n",
      "  File \"/emr/notebook-env/lib/python3.7/threading.py\", line 926, in _bootstrap_inner\n",
      "    self.run()\n",
      "  File \"/emr/notebook-env/lib/python3.7/threading.py\", line 870, in run\n",
      "    self._target(*self._args, **self._kwargs)\n",
      "  File \"/emr/notebook-env/lib/python3.7/site-packages/awseditorssparkmonitoringwidget-1.0-py3.7.egg/awseditorssparkmonitoringwidget/cellmonitor.py\", line 178, in cell_monitor\n",
      "    job_binned_stages[job_id][stage_id] = all_stages[stage_id]\n",
      "KeyError: 3478\n",
      "\n"
     ]
    }
   ],
   "source": [
    "# train model\n",
    "for yr in range(2008,2016):\n",
    "    # train from Jan to June, or July to Dec\n",
    "    for mo in (1,7):\n",
    "        if (yr == 2015) & (mo==7): break\n",
    "            \n",
    "        train = trading_model.filter((col('year')==yr) & (col('month') >= mo) & (col('month') <= mo+5))\n",
    "        test = trading_model.filter((col('year')== (yr + mo//7)) & (col('month')== (mo+6)%12))\n",
    "\n",
    "        model_rf = pipeline.fit(train)\n",
    "        test_rf = model_rf.transform(test)\n",
    "        \n",
    "        # calculating mape\n",
    "        mape = test_rf.select('profit','prediction')\\\n",
    "                      .withColumn(\"ape\",abs((col('prediction')-col('profit'))/col('profit')))\\\n",
    "                      .agg(avg(col('ape'))).collect()[0][0]\n",
    "                                           \n",
    "        date = str(yr) + '-' + str((mo+6)%12)\n",
    "        mape_list.append([date,mape])  "
   ]
  },
  {
   "cell_type": "code",
   "execution_count": 36,
   "metadata": {},
   "outputs": [
    {
     "data": {
      "application/vnd.jupyter.widget-view+json": {
       "model_id": "caf06176436d467cb630a1bb9b1600ab",
       "version_major": 2,
       "version_minor": 0
      },
      "text/plain": [
       "VBox()"
      ]
     },
     "metadata": {},
     "output_type": "display_data"
    },
    {
     "data": {
      "application/vnd.jupyter.widget-view+json": {
       "model_id": "",
       "version_major": 2,
       "version_minor": 0
      },
      "text/plain": [
       "FloatProgress(value=0.0, bar_style='info', description='Progress:', layout=Layout(height='25px', width='50%'),…"
      ]
     },
     "metadata": {},
     "output_type": "display_data"
    }
   ],
   "source": [
    "# Transform to dataframe\n",
    "df = pd.DataFrame(mape_list, columns=['Date','MAPE'])\n",
    "mmm_list=[['Max MAPE:', df.MAPE.max()],['Min MAPE:',df.MAPE.min()],['Average MAPE:',df.MAPE.mean()]]\n",
    "df1 = pd.DataFrame(mmm_list, columns=['Date','MAPE'])\n",
    "df_final = pd.concat([df,df1],axis=0)         \n",
    "df_final.to_csv('s3://nu-zach-s3/Exercise3-3.txt',index=False, sep=' ', mode='a')\n",
    "df_final.to_csv('s3://nu-zach-s3/Exercise3-3.csv',index=False)\n",
    "# sc.stop() "
   ]
  }
 ],
 "metadata": {
  "kernelspec": {
   "display_name": "PySpark",
   "language": "",
   "name": "pysparkkernel"
  },
  "language_info": {
   "codemirror_mode": {
    "name": "python",
    "version": 3
   },
   "mimetype": "text/x-python",
   "name": "pyspark",
   "pygments_lexer": "python3"
  }
 },
 "nbformat": 4,
 "nbformat_minor": 4
}
